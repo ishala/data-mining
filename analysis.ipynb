{
 "cells": [
  {
   "cell_type": "code",
   "execution_count": 20,
   "metadata": {},
   "outputs": [],
   "source": [
    "import pandas as pd\n",
    "import numpy as np\n",
    "import re"
   ]
  },
  {
   "cell_type": "markdown",
   "metadata": {},
   "source": [
    "# Data Aquitition\n"
   ]
  },
  {
   "cell_type": "code",
   "execution_count": 21,
   "metadata": {},
   "outputs": [],
   "source": [
    "chickenData = pd.read_csv('data/dataset-ayam.csv')\n",
    "fishData = pd.read_csv('data/dataset-ikan.csv')\n",
    "goatData = pd.read_csv('data/dataset-kambing.csv')\n",
    "cowData = pd.read_csv('data/dataset-sapi.csv')\n",
    "tahuData = pd.read_csv('data/dataset-tahu.csv')\n",
    "eggData = pd.read_csv('data/dataset-telur.csv')\n",
    "tempeData = pd.read_csv('data/dataset-tempe.csv')\n",
    "shrimpData = pd.read_csv('data/dataset-udang.csv')"
   ]
  },
  {
   "cell_type": "code",
   "execution_count": 22,
   "metadata": {},
   "outputs": [
    {
     "data": {
      "text/html": [
       "<div>\n",
       "<style scoped>\n",
       "    .dataframe tbody tr th:only-of-type {\n",
       "        vertical-align: middle;\n",
       "    }\n",
       "\n",
       "    .dataframe tbody tr th {\n",
       "        vertical-align: top;\n",
       "    }\n",
       "\n",
       "    .dataframe thead th {\n",
       "        text-align: right;\n",
       "    }\n",
       "</style>\n",
       "<table border=\"1\" class=\"dataframe\">\n",
       "  <thead>\n",
       "    <tr style=\"text-align: right;\">\n",
       "      <th></th>\n",
       "      <th>Title</th>\n",
       "      <th>Ingredients</th>\n",
       "      <th>Steps</th>\n",
       "      <th>Loves</th>\n",
       "      <th>URL</th>\n",
       "    </tr>\n",
       "  </thead>\n",
       "  <tbody>\n",
       "    <tr>\n",
       "      <th>0</th>\n",
       "      <td>Ayam Woku Manado</td>\n",
       "      <td>1 Ekor Ayam Kampung (potong 12)--2 Buah Jeruk ...</td>\n",
       "      <td>Cuci bersih ayam dan tiriskan. Lalu peras jeru...</td>\n",
       "      <td>1</td>\n",
       "      <td>/id/resep/4473027-ayam-woku-manado</td>\n",
       "    </tr>\n",
       "    <tr>\n",
       "      <th>1</th>\n",
       "      <td>Ayam goreng tulang lunak</td>\n",
       "      <td>1 kg ayam (dipotong sesuai selera jangan kecil...</td>\n",
       "      <td>Haluskan bumbu2nya (BaPut, ketumbar, kemiri, k...</td>\n",
       "      <td>1</td>\n",
       "      <td>/id/resep/4471956-ayam-goreng-tulang-lunak</td>\n",
       "    </tr>\n",
       "    <tr>\n",
       "      <th>2</th>\n",
       "      <td>Ayam cabai kawin</td>\n",
       "      <td>1/4 kg ayam--3 buah cabai hijau besar--7 buah ...</td>\n",
       "      <td>Panaskan minyak di dalam wajan. Setelah minyak...</td>\n",
       "      <td>2</td>\n",
       "      <td>/id/resep/4473057-ayam-cabai-kawin</td>\n",
       "    </tr>\n",
       "    <tr>\n",
       "      <th>3</th>\n",
       "      <td>Ayam Geprek</td>\n",
       "      <td>250 gr daging ayam (saya pakai fillet)--Secuku...</td>\n",
       "      <td>Goreng ayam seperti ayam krispi--Ulek semua ba...</td>\n",
       "      <td>10</td>\n",
       "      <td>/id/resep/4473023-ayam-geprek</td>\n",
       "    </tr>\n",
       "    <tr>\n",
       "      <th>4</th>\n",
       "      <td>Minyak Ayam</td>\n",
       "      <td>400 gr kulit ayam &amp; lemaknya--8 siung bawang p...</td>\n",
       "      <td>Cuci bersih kulit ayam. Sisihkan--Ambil 50 ml ...</td>\n",
       "      <td>4</td>\n",
       "      <td>/id/resep/4427438-minyak-ayam</td>\n",
       "    </tr>\n",
       "  </tbody>\n",
       "</table>\n",
       "</div>"
      ],
      "text/plain": [
       "                      Title  \\\n",
       "0          Ayam Woku Manado   \n",
       "1  Ayam goreng tulang lunak   \n",
       "2          Ayam cabai kawin   \n",
       "3               Ayam Geprek   \n",
       "4               Minyak Ayam   \n",
       "\n",
       "                                         Ingredients  \\\n",
       "0  1 Ekor Ayam Kampung (potong 12)--2 Buah Jeruk ...   \n",
       "1  1 kg ayam (dipotong sesuai selera jangan kecil...   \n",
       "2  1/4 kg ayam--3 buah cabai hijau besar--7 buah ...   \n",
       "3  250 gr daging ayam (saya pakai fillet)--Secuku...   \n",
       "4  400 gr kulit ayam & lemaknya--8 siung bawang p...   \n",
       "\n",
       "                                               Steps  Loves  \\\n",
       "0  Cuci bersih ayam dan tiriskan. Lalu peras jeru...      1   \n",
       "1  Haluskan bumbu2nya (BaPut, ketumbar, kemiri, k...      1   \n",
       "2  Panaskan minyak di dalam wajan. Setelah minyak...      2   \n",
       "3  Goreng ayam seperti ayam krispi--Ulek semua ba...     10   \n",
       "4  Cuci bersih kulit ayam. Sisihkan--Ambil 50 ml ...      4   \n",
       "\n",
       "                                          URL  \n",
       "0          /id/resep/4473027-ayam-woku-manado  \n",
       "1  /id/resep/4471956-ayam-goreng-tulang-lunak  \n",
       "2          /id/resep/4473057-ayam-cabai-kawin  \n",
       "3               /id/resep/4473023-ayam-geprek  \n",
       "4               /id/resep/4427438-minyak-ayam  "
      ]
     },
     "execution_count": 22,
     "metadata": {},
     "output_type": "execute_result"
    }
   ],
   "source": [
    "chickenData.head()"
   ]
  },
  {
   "cell_type": "markdown",
   "metadata": {},
   "source": [
    "# Data Assessing and Cleaning"
   ]
  },
  {
   "cell_type": "markdown",
   "metadata": {},
   "source": [
    "## Fungsi-Fungsi"
   ]
  },
  {
   "cell_type": "markdown",
   "metadata": {},
   "source": [
    "### Hapus Data Duplikat"
   ]
  },
  {
   "cell_type": "code",
   "execution_count": 44,
   "metadata": {},
   "outputs": [],
   "source": [
    "def deleteDuplicates(df):\n",
    "    dfSorted = df.sort_values(by=['Title', 'Loves'], ascending=[False, False])\n",
    "\n",
    "    cleanedDf = dfSorted.drop_duplicates(subset='Title', keep='first')\n",
    "    \n",
    "    return cleanedDf"
   ]
  },
  {
   "cell_type": "markdown",
   "metadata": {},
   "source": [
    "## Ayam"
   ]
  },
  {
   "cell_type": "markdown",
   "metadata": {},
   "source": [
    "### Cek Informasi"
   ]
  },
  {
   "cell_type": "code",
   "execution_count": 23,
   "metadata": {},
   "outputs": [
    {
     "name": "stdout",
     "output_type": "stream",
     "text": [
      "(1916, 5)\n",
      "<class 'pandas.core.frame.DataFrame'>\n",
      "RangeIndex: 1916 entries, 0 to 1915\n",
      "Data columns (total 5 columns):\n",
      " #   Column       Non-Null Count  Dtype \n",
      "---  ------       --------------  ----- \n",
      " 0   Title        1916 non-null   object\n",
      " 1   Ingredients  1901 non-null   object\n",
      " 2   Steps        1901 non-null   object\n",
      " 3   Loves        1916 non-null   int64 \n",
      " 4   URL          1916 non-null   object\n",
      "dtypes: int64(1), object(4)\n",
      "memory usage: 75.0+ KB\n",
      "None\n"
     ]
    }
   ],
   "source": [
    "print(chickenData.shape)\n",
    "print(chickenData.info())"
   ]
  },
  {
   "cell_type": "markdown",
   "metadata": {},
   "source": [
    "Ada nilai null di kolom **ingredients** dan **steps**"
   ]
  },
  {
   "cell_type": "markdown",
   "metadata": {},
   "source": [
    "### Hapus Nilai Null"
   ]
  },
  {
   "cell_type": "code",
   "execution_count": 24,
   "metadata": {},
   "outputs": [
    {
     "data": {
      "text/html": [
       "<div>\n",
       "<style scoped>\n",
       "    .dataframe tbody tr th:only-of-type {\n",
       "        vertical-align: middle;\n",
       "    }\n",
       "\n",
       "    .dataframe tbody tr th {\n",
       "        vertical-align: top;\n",
       "    }\n",
       "\n",
       "    .dataframe thead th {\n",
       "        text-align: right;\n",
       "    }\n",
       "</style>\n",
       "<table border=\"1\" class=\"dataframe\">\n",
       "  <thead>\n",
       "    <tr style=\"text-align: right;\">\n",
       "      <th></th>\n",
       "      <th>Title</th>\n",
       "      <th>Ingredients</th>\n",
       "      <th>Steps</th>\n",
       "      <th>Loves</th>\n",
       "      <th>URL</th>\n",
       "    </tr>\n",
       "  </thead>\n",
       "  <tbody>\n",
       "    <tr>\n",
       "      <th>255</th>\n",
       "      <td>[Notitle]</td>\n",
       "      <td>NaN</td>\n",
       "      <td>NaN</td>\n",
       "      <td>0</td>\n",
       "      <td>/id/resep/4459283-ayam-bakar</td>\n",
       "    </tr>\n",
       "    <tr>\n",
       "      <th>258</th>\n",
       "      <td>[Notitle]</td>\n",
       "      <td>NaN</td>\n",
       "      <td>NaN</td>\n",
       "      <td>0</td>\n",
       "      <td>/id/resep/4458951-sate-ayam-maknyusss</td>\n",
       "    </tr>\n",
       "    <tr>\n",
       "      <th>298</th>\n",
       "      <td>[Notitle]</td>\n",
       "      <td>NaN</td>\n",
       "      <td>NaN</td>\n",
       "      <td>0</td>\n",
       "      <td>/id/resep/4454787-garang-asam-ayam-kampung</td>\n",
       "    </tr>\n",
       "    <tr>\n",
       "      <th>302</th>\n",
       "      <td>[Notitle]</td>\n",
       "      <td>NaN</td>\n",
       "      <td>NaN</td>\n",
       "      <td>0</td>\n",
       "      <td>/id/resep/4454903-ayam-kremes</td>\n",
       "    </tr>\n",
       "    <tr>\n",
       "      <th>464</th>\n",
       "      <td>[Notitle]</td>\n",
       "      <td>NaN</td>\n",
       "      <td>NaN</td>\n",
       "      <td>0</td>\n",
       "      <td>/id/resep/4444134-ayam-balado-simple</td>\n",
       "    </tr>\n",
       "    <tr>\n",
       "      <th>521</th>\n",
       "      <td>[Notitle]</td>\n",
       "      <td>NaN</td>\n",
       "      <td>NaN</td>\n",
       "      <td>0</td>\n",
       "      <td>/id/resep/4442538-perkedel-ayam</td>\n",
       "    </tr>\n",
       "    <tr>\n",
       "      <th>523</th>\n",
       "      <td>[Notitle]</td>\n",
       "      <td>NaN</td>\n",
       "      <td>NaN</td>\n",
       "      <td>0</td>\n",
       "      <td>/id/resep/4442319-chicken-wings-saos-mentega</td>\n",
       "    </tr>\n",
       "    <tr>\n",
       "      <th>524</th>\n",
       "      <td>[Notitle]</td>\n",
       "      <td>NaN</td>\n",
       "      <td>NaN</td>\n",
       "      <td>0</td>\n",
       "      <td>/id/resep/4442267-ayam-sambal-ijo</td>\n",
       "    </tr>\n",
       "    <tr>\n",
       "      <th>835</th>\n",
       "      <td>[Notitle]</td>\n",
       "      <td>NaN</td>\n",
       "      <td>NaN</td>\n",
       "      <td>0</td>\n",
       "      <td>/id/resep/4410020-ayam-terriyaki</td>\n",
       "    </tr>\n",
       "    <tr>\n",
       "      <th>849</th>\n",
       "      <td>[Notitle]</td>\n",
       "      <td>NaN</td>\n",
       "      <td>NaN</td>\n",
       "      <td>0</td>\n",
       "      <td>/id/resep/4409498-mie-ayam-homemade-ala-mama-n...</td>\n",
       "    </tr>\n",
       "    <tr>\n",
       "      <th>850</th>\n",
       "      <td>[Notitle]</td>\n",
       "      <td>NaN</td>\n",
       "      <td>NaN</td>\n",
       "      <td>0</td>\n",
       "      <td>/id/resep/4409320-salted-egg-yolk-chicken-simp...</td>\n",
       "    </tr>\n",
       "    <tr>\n",
       "      <th>933</th>\n",
       "      <td>[Notitle]</td>\n",
       "      <td>NaN</td>\n",
       "      <td>NaN</td>\n",
       "      <td>0</td>\n",
       "      <td>/id/resep/4396883-ayam-rw</td>\n",
       "    </tr>\n",
       "    <tr>\n",
       "      <th>1079</th>\n",
       "      <td>[Notitle]</td>\n",
       "      <td>NaN</td>\n",
       "      <td>NaN</td>\n",
       "      <td>0</td>\n",
       "      <td>/id/resep/4377584-mi-ayam</td>\n",
       "    </tr>\n",
       "    <tr>\n",
       "      <th>1314</th>\n",
       "      <td>[Notitle]</td>\n",
       "      <td>NaN</td>\n",
       "      <td>NaN</td>\n",
       "      <td>0</td>\n",
       "      <td>/id/resep/4363996-ayam-gocap-goreng-kecap</td>\n",
       "    </tr>\n",
       "    <tr>\n",
       "      <th>1799</th>\n",
       "      <td>[Notitle]</td>\n",
       "      <td>NaN</td>\n",
       "      <td>NaN</td>\n",
       "      <td>0</td>\n",
       "      <td>/id/resep/4324179-sup-ceker-ayam</td>\n",
       "    </tr>\n",
       "  </tbody>\n",
       "</table>\n",
       "</div>"
      ],
      "text/plain": [
       "          Title Ingredients Steps  Loves  \\\n",
       "255   [Notitle]         NaN   NaN      0   \n",
       "258   [Notitle]         NaN   NaN      0   \n",
       "298   [Notitle]         NaN   NaN      0   \n",
       "302   [Notitle]         NaN   NaN      0   \n",
       "464   [Notitle]         NaN   NaN      0   \n",
       "521   [Notitle]         NaN   NaN      0   \n",
       "523   [Notitle]         NaN   NaN      0   \n",
       "524   [Notitle]         NaN   NaN      0   \n",
       "835   [Notitle]         NaN   NaN      0   \n",
       "849   [Notitle]         NaN   NaN      0   \n",
       "850   [Notitle]         NaN   NaN      0   \n",
       "933   [Notitle]         NaN   NaN      0   \n",
       "1079  [Notitle]         NaN   NaN      0   \n",
       "1314  [Notitle]         NaN   NaN      0   \n",
       "1799  [Notitle]         NaN   NaN      0   \n",
       "\n",
       "                                                    URL  \n",
       "255                        /id/resep/4459283-ayam-bakar  \n",
       "258               /id/resep/4458951-sate-ayam-maknyusss  \n",
       "298          /id/resep/4454787-garang-asam-ayam-kampung  \n",
       "302                       /id/resep/4454903-ayam-kremes  \n",
       "464                /id/resep/4444134-ayam-balado-simple  \n",
       "521                     /id/resep/4442538-perkedel-ayam  \n",
       "523        /id/resep/4442319-chicken-wings-saos-mentega  \n",
       "524                   /id/resep/4442267-ayam-sambal-ijo  \n",
       "835                    /id/resep/4410020-ayam-terriyaki  \n",
       "849   /id/resep/4409498-mie-ayam-homemade-ala-mama-n...  \n",
       "850   /id/resep/4409320-salted-egg-yolk-chicken-simp...  \n",
       "933                           /id/resep/4396883-ayam-rw  \n",
       "1079                          /id/resep/4377584-mi-ayam  \n",
       "1314          /id/resep/4363996-ayam-gocap-goreng-kecap  \n",
       "1799                   /id/resep/4324179-sup-ceker-ayam  "
      ]
     },
     "execution_count": 24,
     "metadata": {},
     "output_type": "execute_result"
    }
   ],
   "source": [
    "# Cek nilai null data ayam\n",
    "chickenNull = chickenData[chickenData.isnull().any(axis=1)]\n",
    "chickenNull"
   ]
  },
  {
   "cell_type": "code",
   "execution_count": 25,
   "metadata": {},
   "outputs": [
    {
     "data": {
      "text/plain": [
       "(1901, 5)"
      ]
     },
     "execution_count": 25,
     "metadata": {},
     "output_type": "execute_result"
    }
   ],
   "source": [
    "# Hapus Nilai Null\n",
    "chickenData.dropna(inplace=True)\n",
    "chickenData.shape"
   ]
  },
  {
   "cell_type": "markdown",
   "metadata": {},
   "source": [
    "### Duplikat"
   ]
  },
  {
   "cell_type": "markdown",
   "metadata": {},
   "source": [
    "Terdapat nilai duplikat pada kolom **Title**, karena ingin mengambil data yang benar-benar unggul saja dari segi rating"
   ]
  },
  {
   "cell_type": "code",
   "execution_count": 45,
   "metadata": {},
   "outputs": [
    {
     "name": "stdout",
     "output_type": "stream",
     "text": [
      "293\n"
     ]
    }
   ],
   "source": [
    "# Cek banyak data duplikat kolom title\n",
    "dupChickenTitle = chickenData.duplicated(subset=['Title'])\n",
    "dupChickenTitle = chickenData[dupChickenTitle]\n",
    "print(len(dupChickenTitle))\n",
    "\n",
    "# Hapus Data Duplikat\n",
    "cleanedChicken = deleteDuplicates(chickenData)"
   ]
  },
  {
   "cell_type": "code",
   "execution_count": 46,
   "metadata": {},
   "outputs": [
    {
     "data": {
      "text/plain": [
       "(1608, 5)"
      ]
     },
     "execution_count": 46,
     "metadata": {},
     "output_type": "execute_result"
    }
   ],
   "source": [
    "cleanedChicken.shape"
   ]
  },
  {
   "cell_type": "markdown",
   "metadata": {},
   "source": [
    "## Ikan"
   ]
  },
  {
   "cell_type": "markdown",
   "metadata": {},
   "source": [
    "### Cek Informasi"
   ]
  },
  {
   "cell_type": "code",
   "execution_count": 29,
   "metadata": {},
   "outputs": [
    {
     "name": "stdout",
     "output_type": "stream",
     "text": [
      "(1932, 5)\n",
      "<class 'pandas.core.frame.DataFrame'>\n",
      "RangeIndex: 1932 entries, 0 to 1931\n",
      "Data columns (total 5 columns):\n",
      " #   Column       Non-Null Count  Dtype \n",
      "---  ------       --------------  ----- \n",
      " 0   Title        1932 non-null   object\n",
      " 1   Ingredients  1932 non-null   object\n",
      " 2   Steps        1932 non-null   object\n",
      " 3   Loves        1932 non-null   int64 \n",
      " 4   URL          1932 non-null   object\n",
      "dtypes: int64(1), object(4)\n",
      "memory usage: 75.6+ KB\n",
      "None\n"
     ]
    }
   ],
   "source": [
    "print(fishData.shape)\n",
    "print(fishData.info())"
   ]
  },
  {
   "cell_type": "markdown",
   "metadata": {},
   "source": [
    "Sudah tidak ada nilai null, perlu pengecekan nilai duplikat pada kolom **Title**."
   ]
  },
  {
   "cell_type": "markdown",
   "metadata": {},
   "source": [
    "### Duplikat"
   ]
  },
  {
   "cell_type": "markdown",
   "metadata": {},
   "source": [
    "Terdapat nilai duplikat pada kolom **Title**."
   ]
  },
  {
   "cell_type": "code",
   "execution_count": 48,
   "metadata": {},
   "outputs": [
    {
     "name": "stdout",
     "output_type": "stream",
     "text": [
      "131\n",
      "1801\n"
     ]
    }
   ],
   "source": [
    "# Cek banyak duplikat kolom Title\n",
    "dupFishTitle = fishData.duplicated(subset=['Title'])\n",
    "dupFishTitle = fishData[dupFishTitle]\n",
    "print(len(dupFishTitle))\n",
    "\n",
    "cleanedFish = deleteDuplicates(fishData)\n",
    "print(len(cleanedFish))"
   ]
  },
  {
   "cell_type": "markdown",
   "metadata": {},
   "source": [
    "## Kambing"
   ]
  },
  {
   "cell_type": "code",
   "execution_count": 30,
   "metadata": {},
   "outputs": [
    {
     "name": "stdout",
     "output_type": "stream",
     "text": [
      "(1896, 5)\n",
      "<class 'pandas.core.frame.DataFrame'>\n",
      "RangeIndex: 1896 entries, 0 to 1895\n",
      "Data columns (total 5 columns):\n",
      " #   Column       Non-Null Count  Dtype \n",
      "---  ------       --------------  ----- \n",
      " 0   Title        1896 non-null   object\n",
      " 1   Ingredients  1883 non-null   object\n",
      " 2   Steps        1883 non-null   object\n",
      " 3   Loves        1896 non-null   int64 \n",
      " 4   URL          1896 non-null   object\n",
      "dtypes: int64(1), object(4)\n",
      "memory usage: 74.2+ KB\n",
      "None\n"
     ]
    }
   ],
   "source": [
    "print(goatData.shape)\n",
    "print(goatData.info())"
   ]
  },
  {
   "cell_type": "markdown",
   "metadata": {},
   "source": [
    "Masih ada nilai null pada kolom **Ingredients** dan **Steps**. Dan juga perlu dicek nilai duplikat di kolom **Title**."
   ]
  },
  {
   "cell_type": "markdown",
   "metadata": {},
   "source": [
    "### Hapus Nilai Null"
   ]
  },
  {
   "cell_type": "code",
   "execution_count": 49,
   "metadata": {},
   "outputs": [
    {
     "data": {
      "text/plain": [
       "(1883, 5)"
      ]
     },
     "execution_count": 49,
     "metadata": {},
     "output_type": "execute_result"
    }
   ],
   "source": [
    "# Hapus Nilai Null\n",
    "goatData.dropna(inplace=True)\n",
    "goatData.shape"
   ]
  },
  {
   "cell_type": "markdown",
   "metadata": {},
   "source": [
    "### Duplikat"
   ]
  },
  {
   "cell_type": "code",
   "execution_count": 52,
   "metadata": {},
   "outputs": [
    {
     "name": "stdout",
     "output_type": "stream",
     "text": [
      "382\n"
     ]
    },
    {
     "data": {
      "text/plain": [
       "(1501, 5)"
      ]
     },
     "execution_count": 52,
     "metadata": {},
     "output_type": "execute_result"
    }
   ],
   "source": [
    "dupGoatTitle = goatData.duplicated(subset=['Title'])\n",
    "dupGoatTitle = goatData[dupGoatTitle]\n",
    "print(len(dupGoatTitle))\n",
    "\n",
    "# Hapus Data Duplikat\n",
    "cleanedGoat = deleteDuplicates(goatData)\n",
    "cleanedGoat.shape"
   ]
  },
  {
   "cell_type": "markdown",
   "metadata": {},
   "source": [
    "## Sapi"
   ]
  },
  {
   "cell_type": "code",
   "execution_count": 31,
   "metadata": {},
   "outputs": [
    {
     "name": "stdout",
     "output_type": "stream",
     "text": [
      "(1958, 5)\n",
      "<class 'pandas.core.frame.DataFrame'>\n",
      "RangeIndex: 1958 entries, 0 to 1957\n",
      "Data columns (total 5 columns):\n",
      " #   Column       Non-Null Count  Dtype \n",
      "---  ------       --------------  ----- \n",
      " 0   Title        1958 non-null   object\n",
      " 1   Ingredients  1942 non-null   object\n",
      " 2   Steps        1942 non-null   object\n",
      " 3   Loves        1958 non-null   int64 \n",
      " 4   URL          1958 non-null   object\n",
      "dtypes: int64(1), object(4)\n",
      "memory usage: 76.6+ KB\n",
      "None\n"
     ]
    }
   ],
   "source": [
    "print(cowData.shape)\n",
    "print(cowData.info())"
   ]
  },
  {
   "cell_type": "markdown",
   "metadata": {},
   "source": [
    "Masih ada nilai null pada kolom **Ingredients** dan **Steps**. Dan juga perlu dicek nilai duplikat di kolom **Title**."
   ]
  },
  {
   "cell_type": "markdown",
   "metadata": {},
   "source": [
    "### Hapus Nilai Null"
   ]
  },
  {
   "cell_type": "code",
   "execution_count": 54,
   "metadata": {},
   "outputs": [
    {
     "data": {
      "text/plain": [
       "(1942, 5)"
      ]
     },
     "execution_count": 54,
     "metadata": {},
     "output_type": "execute_result"
    }
   ],
   "source": [
    "# Hapus Nilai Null\n",
    "cowData.dropna(inplace=True)\n",
    "cowData.shape"
   ]
  },
  {
   "cell_type": "markdown",
   "metadata": {},
   "source": [
    "### Duplikat"
   ]
  },
  {
   "cell_type": "code",
   "execution_count": 55,
   "metadata": {},
   "outputs": [
    {
     "name": "stdout",
     "output_type": "stream",
     "text": [
      "402\n"
     ]
    },
    {
     "data": {
      "text/plain": [
       "(1540, 5)"
      ]
     },
     "execution_count": 55,
     "metadata": {},
     "output_type": "execute_result"
    }
   ],
   "source": [
    "dupCowTitle = cowData.duplicated(subset=['Title'])\n",
    "dupCowTitle = cowData[dupCowTitle]\n",
    "print(len(dupCowTitle))\n",
    "\n",
    "# Hapus Data Duplikat\n",
    "cleanedCow = deleteDuplicates(cowData)\n",
    "cleanedCow.shape"
   ]
  },
  {
   "cell_type": "markdown",
   "metadata": {},
   "source": [
    "## Tahu"
   ]
  },
  {
   "cell_type": "code",
   "execution_count": 32,
   "metadata": {},
   "outputs": [
    {
     "name": "stdout",
     "output_type": "stream",
     "text": [
      "(1985, 5)\n",
      "<class 'pandas.core.frame.DataFrame'>\n",
      "RangeIndex: 1985 entries, 0 to 1984\n",
      "Data columns (total 5 columns):\n",
      " #   Column       Non-Null Count  Dtype \n",
      "---  ------       --------------  ----- \n",
      " 0   Title        1985 non-null   object\n",
      " 1   Ingredients  1984 non-null   object\n",
      " 2   Steps        1985 non-null   object\n",
      " 3   Loves        1985 non-null   int64 \n",
      " 4   URL          1985 non-null   object\n",
      "dtypes: int64(1), object(4)\n",
      "memory usage: 77.7+ KB\n",
      "None\n"
     ]
    }
   ],
   "source": [
    "print(tahuData.shape)\n",
    "print(tahuData.info())"
   ]
  },
  {
   "cell_type": "markdown",
   "metadata": {},
   "source": [
    "### Hapus Nilai Null"
   ]
  },
  {
   "cell_type": "code",
   "execution_count": 56,
   "metadata": {},
   "outputs": [
    {
     "data": {
      "text/plain": [
       "(1984, 5)"
      ]
     },
     "execution_count": 56,
     "metadata": {},
     "output_type": "execute_result"
    }
   ],
   "source": [
    "# Hapus Nilai Null\n",
    "tahuData.dropna(inplace=True)\n",
    "tahuData.shape"
   ]
  },
  {
   "cell_type": "markdown",
   "metadata": {},
   "source": [
    "### Duplikat"
   ]
  },
  {
   "cell_type": "code",
   "execution_count": 57,
   "metadata": {},
   "outputs": [
    {
     "name": "stdout",
     "output_type": "stream",
     "text": [
      "317\n"
     ]
    },
    {
     "data": {
      "text/plain": [
       "(1667, 5)"
      ]
     },
     "execution_count": 57,
     "metadata": {},
     "output_type": "execute_result"
    }
   ],
   "source": [
    "dupTahuTitle = tahuData.duplicated(subset=['Title'])\n",
    "dupTahuTitle = tahuData[dupTahuTitle]\n",
    "print(len(dupTahuTitle))\n",
    "\n",
    "# Hapus Data Duplikat\n",
    "cleanedTahu = deleteDuplicates(tahuData)\n",
    "cleanedTahu.shape"
   ]
  },
  {
   "cell_type": "markdown",
   "metadata": {},
   "source": [
    "## Telur"
   ]
  },
  {
   "cell_type": "code",
   "execution_count": 33,
   "metadata": {},
   "outputs": [
    {
     "name": "stdout",
     "output_type": "stream",
     "text": [
      "(1974, 5)\n",
      "<class 'pandas.core.frame.DataFrame'>\n",
      "RangeIndex: 1974 entries, 0 to 1973\n",
      "Data columns (total 5 columns):\n",
      " #   Column       Non-Null Count  Dtype \n",
      "---  ------       --------------  ----- \n",
      " 0   Title        1974 non-null   object\n",
      " 1   Ingredients  1972 non-null   object\n",
      " 2   Steps        1972 non-null   object\n",
      " 3   Loves        1974 non-null   int64 \n",
      " 4   URL          1974 non-null   object\n",
      "dtypes: int64(1), object(4)\n",
      "memory usage: 77.2+ KB\n",
      "None\n"
     ]
    }
   ],
   "source": [
    "print(eggData.shape)\n",
    "print(eggData.info())"
   ]
  },
  {
   "cell_type": "markdown",
   "metadata": {},
   "source": [
    "### Hapus Nilai Null"
   ]
  },
  {
   "cell_type": "code",
   "execution_count": 58,
   "metadata": {},
   "outputs": [
    {
     "data": {
      "text/plain": [
       "(1972, 5)"
      ]
     },
     "execution_count": 58,
     "metadata": {},
     "output_type": "execute_result"
    }
   ],
   "source": [
    "# Hapus Nilai Null\n",
    "eggData.dropna(inplace=True)\n",
    "eggData.shape"
   ]
  },
  {
   "cell_type": "markdown",
   "metadata": {},
   "source": [
    "### Duplikat"
   ]
  },
  {
   "cell_type": "code",
   "execution_count": 59,
   "metadata": {},
   "outputs": [
    {
     "name": "stdout",
     "output_type": "stream",
     "text": [
      "206\n"
     ]
    },
    {
     "data": {
      "text/plain": [
       "(1766, 5)"
      ]
     },
     "execution_count": 59,
     "metadata": {},
     "output_type": "execute_result"
    }
   ],
   "source": [
    "dupEggTitle = eggData.duplicated(subset=['Title'])\n",
    "dupEggTitle = eggData[dupEggTitle]\n",
    "print(len(dupEggTitle))\n",
    "\n",
    "# Hapus Data Duplikat\n",
    "cleanedEgg = deleteDuplicates(eggData)\n",
    "cleanedEgg.shape"
   ]
  },
  {
   "cell_type": "markdown",
   "metadata": {},
   "source": [
    "## Tempe"
   ]
  },
  {
   "cell_type": "code",
   "execution_count": 34,
   "metadata": {},
   "outputs": [
    {
     "name": "stdout",
     "output_type": "stream",
     "text": [
      "(1986, 5)\n",
      "<class 'pandas.core.frame.DataFrame'>\n",
      "RangeIndex: 1986 entries, 0 to 1985\n",
      "Data columns (total 5 columns):\n",
      " #   Column       Non-Null Count  Dtype \n",
      "---  ------       --------------  ----- \n",
      " 0   Title        1986 non-null   object\n",
      " 1   Ingredients  1985 non-null   object\n",
      " 2   Steps        1986 non-null   object\n",
      " 3   Loves        1986 non-null   int64 \n",
      " 4   URL          1986 non-null   object\n",
      "dtypes: int64(1), object(4)\n",
      "memory usage: 77.7+ KB\n",
      "None\n"
     ]
    }
   ],
   "source": [
    "print(tempeData.shape)\n",
    "print(tempeData.info())"
   ]
  },
  {
   "cell_type": "markdown",
   "metadata": {},
   "source": [
    "### Hapus Nilai Null"
   ]
  },
  {
   "cell_type": "code",
   "execution_count": 60,
   "metadata": {},
   "outputs": [
    {
     "data": {
      "text/plain": [
       "(1985, 5)"
      ]
     },
     "execution_count": 60,
     "metadata": {},
     "output_type": "execute_result"
    }
   ],
   "source": [
    "# Hapus Nilai Null\n",
    "tempeData.dropna(inplace=True)\n",
    "tempeData.shape"
   ]
  },
  {
   "cell_type": "markdown",
   "metadata": {},
   "source": [
    "### Duplikat"
   ]
  },
  {
   "cell_type": "code",
   "execution_count": 61,
   "metadata": {},
   "outputs": [
    {
     "name": "stdout",
     "output_type": "stream",
     "text": [
      "398\n"
     ]
    },
    {
     "data": {
      "text/plain": [
       "(1587, 5)"
      ]
     },
     "execution_count": 61,
     "metadata": {},
     "output_type": "execute_result"
    }
   ],
   "source": [
    "dupTempeTitle = tempeData.duplicated(subset=['Title'])\n",
    "dupTempeTitle = tempeData[dupTempeTitle]\n",
    "print(len(dupTempeTitle))\n",
    "\n",
    "# Hapus Data Duplikat\n",
    "cleanedTempe = deleteDuplicates(tempeData)\n",
    "cleanedTempe.shape"
   ]
  },
  {
   "cell_type": "markdown",
   "metadata": {},
   "source": [
    "## Udang"
   ]
  },
  {
   "cell_type": "code",
   "execution_count": 35,
   "metadata": {},
   "outputs": [
    {
     "name": "stdout",
     "output_type": "stream",
     "text": [
      "(1994, 5)\n",
      "<class 'pandas.core.frame.DataFrame'>\n",
      "RangeIndex: 1994 entries, 0 to 1993\n",
      "Data columns (total 5 columns):\n",
      " #   Column       Non-Null Count  Dtype \n",
      "---  ------       --------------  ----- \n",
      " 0   Title        1994 non-null   object\n",
      " 1   Ingredients  1994 non-null   object\n",
      " 2   Steps        1994 non-null   object\n",
      " 3   Loves        1994 non-null   int64 \n",
      " 4   URL          1994 non-null   object\n",
      "dtypes: int64(1), object(4)\n",
      "memory usage: 78.0+ KB\n",
      "None\n"
     ]
    }
   ],
   "source": [
    "print(shrimpData.shape)\n",
    "print(shrimpData.info())"
   ]
  },
  {
   "cell_type": "markdown",
   "metadata": {},
   "source": [
    "### Duplikat"
   ]
  },
  {
   "cell_type": "code",
   "execution_count": 63,
   "metadata": {},
   "outputs": [
    {
     "name": "stdout",
     "output_type": "stream",
     "text": [
      "376\n"
     ]
    },
    {
     "data": {
      "text/plain": [
       "(1618, 5)"
      ]
     },
     "execution_count": 63,
     "metadata": {},
     "output_type": "execute_result"
    }
   ],
   "source": [
    "dupShrimpTitle = shrimpData.duplicated(subset=['Title'])\n",
    "dupShrimpTitle = shrimpData[dupShrimpTitle]\n",
    "print(len(dupShrimpTitle))\n",
    "\n",
    "# Hapus Data Duplikat\n",
    "cleanedShrimp = deleteDuplicates(shrimpData)\n",
    "cleanedShrimp.shape"
   ]
  }
 ],
 "metadata": {
  "kernelspec": {
   "display_name": "terapan",
   "language": "python",
   "name": "python3"
  },
  "language_info": {
   "codemirror_mode": {
    "name": "ipython",
    "version": 3
   },
   "file_extension": ".py",
   "mimetype": "text/x-python",
   "name": "python",
   "nbconvert_exporter": "python",
   "pygments_lexer": "ipython3",
   "version": "3.12.2"
  }
 },
 "nbformat": 4,
 "nbformat_minor": 2
}
