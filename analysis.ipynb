{
 "cells": [
  {
   "cell_type": "code",
   "execution_count": 878,
   "metadata": {},
   "outputs": [],
   "source": [
    "import pandas as pd\n",
    "import numpy as np\n",
    "import re"
   ]
  },
  {
   "cell_type": "markdown",
   "metadata": {},
   "source": [
    "# Data Aquitition\n"
   ]
  },
  {
   "cell_type": "code",
   "execution_count": 879,
   "metadata": {},
   "outputs": [],
   "source": [
    "chickenData = pd.read_csv('data/dataset-ayam.csv')\n",
    "fishData = pd.read_csv('data/dataset-ikan.csv')\n",
    "goatData = pd.read_csv('data/dataset-kambing.csv')\n",
    "cowData = pd.read_csv('data/dataset-sapi.csv')\n",
    "tahuData = pd.read_csv('data/dataset-tahu.csv')\n",
    "eggData = pd.read_csv('data/dataset-telur.csv')\n",
    "tempeData = pd.read_csv('data/dataset-tempe.csv')\n",
    "shrimpData = pd.read_csv('data/dataset-udang.csv')"
   ]
  },
  {
   "cell_type": "code",
   "execution_count": 880,
   "metadata": {},
   "outputs": [
    {
     "data": {
      "text/html": [
       "<div>\n",
       "<style scoped>\n",
       "    .dataframe tbody tr th:only-of-type {\n",
       "        vertical-align: middle;\n",
       "    }\n",
       "\n",
       "    .dataframe tbody tr th {\n",
       "        vertical-align: top;\n",
       "    }\n",
       "\n",
       "    .dataframe thead th {\n",
       "        text-align: right;\n",
       "    }\n",
       "</style>\n",
       "<table border=\"1\" class=\"dataframe\">\n",
       "  <thead>\n",
       "    <tr style=\"text-align: right;\">\n",
       "      <th></th>\n",
       "      <th>Title</th>\n",
       "      <th>Ingredients</th>\n",
       "      <th>Steps</th>\n",
       "      <th>Loves</th>\n",
       "      <th>URL</th>\n",
       "    </tr>\n",
       "  </thead>\n",
       "  <tbody>\n",
       "    <tr>\n",
       "      <th>0</th>\n",
       "      <td>Ayam Woku Manado</td>\n",
       "      <td>1 Ekor Ayam Kampung (potong 12)--2 Buah Jeruk ...</td>\n",
       "      <td>Cuci bersih ayam dan tiriskan. Lalu peras jeru...</td>\n",
       "      <td>1</td>\n",
       "      <td>/id/resep/4473027-ayam-woku-manado</td>\n",
       "    </tr>\n",
       "    <tr>\n",
       "      <th>1</th>\n",
       "      <td>Ayam goreng tulang lunak</td>\n",
       "      <td>1 kg ayam (dipotong sesuai selera jangan kecil...</td>\n",
       "      <td>Haluskan bumbu2nya (BaPut, ketumbar, kemiri, k...</td>\n",
       "      <td>1</td>\n",
       "      <td>/id/resep/4471956-ayam-goreng-tulang-lunak</td>\n",
       "    </tr>\n",
       "    <tr>\n",
       "      <th>2</th>\n",
       "      <td>Ayam cabai kawin</td>\n",
       "      <td>1/4 kg ayam--3 buah cabai hijau besar--7 buah ...</td>\n",
       "      <td>Panaskan minyak di dalam wajan. Setelah minyak...</td>\n",
       "      <td>2</td>\n",
       "      <td>/id/resep/4473057-ayam-cabai-kawin</td>\n",
       "    </tr>\n",
       "    <tr>\n",
       "      <th>3</th>\n",
       "      <td>Ayam Geprek</td>\n",
       "      <td>250 gr daging ayam (saya pakai fillet)--Secuku...</td>\n",
       "      <td>Goreng ayam seperti ayam krispi--Ulek semua ba...</td>\n",
       "      <td>10</td>\n",
       "      <td>/id/resep/4473023-ayam-geprek</td>\n",
       "    </tr>\n",
       "    <tr>\n",
       "      <th>4</th>\n",
       "      <td>Minyak Ayam</td>\n",
       "      <td>400 gr kulit ayam &amp; lemaknya--8 siung bawang p...</td>\n",
       "      <td>Cuci bersih kulit ayam. Sisihkan--Ambil 50 ml ...</td>\n",
       "      <td>4</td>\n",
       "      <td>/id/resep/4427438-minyak-ayam</td>\n",
       "    </tr>\n",
       "  </tbody>\n",
       "</table>\n",
       "</div>"
      ],
      "text/plain": [
       "                      Title  \\\n",
       "0          Ayam Woku Manado   \n",
       "1  Ayam goreng tulang lunak   \n",
       "2          Ayam cabai kawin   \n",
       "3               Ayam Geprek   \n",
       "4               Minyak Ayam   \n",
       "\n",
       "                                         Ingredients  \\\n",
       "0  1 Ekor Ayam Kampung (potong 12)--2 Buah Jeruk ...   \n",
       "1  1 kg ayam (dipotong sesuai selera jangan kecil...   \n",
       "2  1/4 kg ayam--3 buah cabai hijau besar--7 buah ...   \n",
       "3  250 gr daging ayam (saya pakai fillet)--Secuku...   \n",
       "4  400 gr kulit ayam & lemaknya--8 siung bawang p...   \n",
       "\n",
       "                                               Steps  Loves  \\\n",
       "0  Cuci bersih ayam dan tiriskan. Lalu peras jeru...      1   \n",
       "1  Haluskan bumbu2nya (BaPut, ketumbar, kemiri, k...      1   \n",
       "2  Panaskan minyak di dalam wajan. Setelah minyak...      2   \n",
       "3  Goreng ayam seperti ayam krispi--Ulek semua ba...     10   \n",
       "4  Cuci bersih kulit ayam. Sisihkan--Ambil 50 ml ...      4   \n",
       "\n",
       "                                          URL  \n",
       "0          /id/resep/4473027-ayam-woku-manado  \n",
       "1  /id/resep/4471956-ayam-goreng-tulang-lunak  \n",
       "2          /id/resep/4473057-ayam-cabai-kawin  \n",
       "3               /id/resep/4473023-ayam-geprek  \n",
       "4               /id/resep/4427438-minyak-ayam  "
      ]
     },
     "execution_count": 880,
     "metadata": {},
     "output_type": "execute_result"
    }
   ],
   "source": [
    "chickenData.head()"
   ]
  },
  {
   "cell_type": "markdown",
   "metadata": {},
   "source": [
    "# Data Assessing and Cleaning"
   ]
  },
  {
   "cell_type": "markdown",
   "metadata": {},
   "source": [
    "## Fungsi-Fungsi"
   ]
  },
  {
   "cell_type": "markdown",
   "metadata": {},
   "source": [
    "### Hapus Data Duplikat"
   ]
  },
  {
   "cell_type": "code",
   "execution_count": 881,
   "metadata": {},
   "outputs": [],
   "source": [
    "def deleteDuplicates(df):\n",
    "    dfSorted = df.sort_values(by=['Title', 'Loves'], ascending=[False, False])\n",
    "\n",
    "    cleanedDf = dfSorted.drop_duplicates(subset='Title', keep='first')\n",
    "    \n",
    "    return cleanedDf"
   ]
  },
  {
   "cell_type": "markdown",
   "metadata": {},
   "source": [
    "## Ayam"
   ]
  },
  {
   "cell_type": "markdown",
   "metadata": {},
   "source": [
    "### Cek Informasi"
   ]
  },
  {
   "cell_type": "code",
   "execution_count": 882,
   "metadata": {},
   "outputs": [
    {
     "name": "stdout",
     "output_type": "stream",
     "text": [
      "(1916, 5)\n",
      "<class 'pandas.core.frame.DataFrame'>\n",
      "RangeIndex: 1916 entries, 0 to 1915\n",
      "Data columns (total 5 columns):\n",
      " #   Column       Non-Null Count  Dtype \n",
      "---  ------       --------------  ----- \n",
      " 0   Title        1916 non-null   object\n",
      " 1   Ingredients  1901 non-null   object\n",
      " 2   Steps        1901 non-null   object\n",
      " 3   Loves        1916 non-null   int64 \n",
      " 4   URL          1916 non-null   object\n",
      "dtypes: int64(1), object(4)\n",
      "memory usage: 75.0+ KB\n",
      "None\n"
     ]
    }
   ],
   "source": [
    "print(chickenData.shape)\n",
    "print(chickenData.info())"
   ]
  },
  {
   "cell_type": "markdown",
   "metadata": {},
   "source": [
    "Ada nilai null di kolom **ingredients** dan **steps**"
   ]
  },
  {
   "cell_type": "markdown",
   "metadata": {},
   "source": [
    "### Hapus Nilai Null"
   ]
  },
  {
   "cell_type": "code",
   "execution_count": 883,
   "metadata": {},
   "outputs": [
    {
     "data": {
      "text/html": [
       "<div>\n",
       "<style scoped>\n",
       "    .dataframe tbody tr th:only-of-type {\n",
       "        vertical-align: middle;\n",
       "    }\n",
       "\n",
       "    .dataframe tbody tr th {\n",
       "        vertical-align: top;\n",
       "    }\n",
       "\n",
       "    .dataframe thead th {\n",
       "        text-align: right;\n",
       "    }\n",
       "</style>\n",
       "<table border=\"1\" class=\"dataframe\">\n",
       "  <thead>\n",
       "    <tr style=\"text-align: right;\">\n",
       "      <th></th>\n",
       "      <th>Title</th>\n",
       "      <th>Ingredients</th>\n",
       "      <th>Steps</th>\n",
       "      <th>Loves</th>\n",
       "      <th>URL</th>\n",
       "    </tr>\n",
       "  </thead>\n",
       "  <tbody>\n",
       "    <tr>\n",
       "      <th>255</th>\n",
       "      <td>[Notitle]</td>\n",
       "      <td>NaN</td>\n",
       "      <td>NaN</td>\n",
       "      <td>0</td>\n",
       "      <td>/id/resep/4459283-ayam-bakar</td>\n",
       "    </tr>\n",
       "    <tr>\n",
       "      <th>258</th>\n",
       "      <td>[Notitle]</td>\n",
       "      <td>NaN</td>\n",
       "      <td>NaN</td>\n",
       "      <td>0</td>\n",
       "      <td>/id/resep/4458951-sate-ayam-maknyusss</td>\n",
       "    </tr>\n",
       "    <tr>\n",
       "      <th>298</th>\n",
       "      <td>[Notitle]</td>\n",
       "      <td>NaN</td>\n",
       "      <td>NaN</td>\n",
       "      <td>0</td>\n",
       "      <td>/id/resep/4454787-garang-asam-ayam-kampung</td>\n",
       "    </tr>\n",
       "    <tr>\n",
       "      <th>302</th>\n",
       "      <td>[Notitle]</td>\n",
       "      <td>NaN</td>\n",
       "      <td>NaN</td>\n",
       "      <td>0</td>\n",
       "      <td>/id/resep/4454903-ayam-kremes</td>\n",
       "    </tr>\n",
       "    <tr>\n",
       "      <th>464</th>\n",
       "      <td>[Notitle]</td>\n",
       "      <td>NaN</td>\n",
       "      <td>NaN</td>\n",
       "      <td>0</td>\n",
       "      <td>/id/resep/4444134-ayam-balado-simple</td>\n",
       "    </tr>\n",
       "    <tr>\n",
       "      <th>521</th>\n",
       "      <td>[Notitle]</td>\n",
       "      <td>NaN</td>\n",
       "      <td>NaN</td>\n",
       "      <td>0</td>\n",
       "      <td>/id/resep/4442538-perkedel-ayam</td>\n",
       "    </tr>\n",
       "    <tr>\n",
       "      <th>523</th>\n",
       "      <td>[Notitle]</td>\n",
       "      <td>NaN</td>\n",
       "      <td>NaN</td>\n",
       "      <td>0</td>\n",
       "      <td>/id/resep/4442319-chicken-wings-saos-mentega</td>\n",
       "    </tr>\n",
       "    <tr>\n",
       "      <th>524</th>\n",
       "      <td>[Notitle]</td>\n",
       "      <td>NaN</td>\n",
       "      <td>NaN</td>\n",
       "      <td>0</td>\n",
       "      <td>/id/resep/4442267-ayam-sambal-ijo</td>\n",
       "    </tr>\n",
       "    <tr>\n",
       "      <th>835</th>\n",
       "      <td>[Notitle]</td>\n",
       "      <td>NaN</td>\n",
       "      <td>NaN</td>\n",
       "      <td>0</td>\n",
       "      <td>/id/resep/4410020-ayam-terriyaki</td>\n",
       "    </tr>\n",
       "    <tr>\n",
       "      <th>849</th>\n",
       "      <td>[Notitle]</td>\n",
       "      <td>NaN</td>\n",
       "      <td>NaN</td>\n",
       "      <td>0</td>\n",
       "      <td>/id/resep/4409498-mie-ayam-homemade-ala-mama-n...</td>\n",
       "    </tr>\n",
       "    <tr>\n",
       "      <th>850</th>\n",
       "      <td>[Notitle]</td>\n",
       "      <td>NaN</td>\n",
       "      <td>NaN</td>\n",
       "      <td>0</td>\n",
       "      <td>/id/resep/4409320-salted-egg-yolk-chicken-simp...</td>\n",
       "    </tr>\n",
       "    <tr>\n",
       "      <th>933</th>\n",
       "      <td>[Notitle]</td>\n",
       "      <td>NaN</td>\n",
       "      <td>NaN</td>\n",
       "      <td>0</td>\n",
       "      <td>/id/resep/4396883-ayam-rw</td>\n",
       "    </tr>\n",
       "    <tr>\n",
       "      <th>1079</th>\n",
       "      <td>[Notitle]</td>\n",
       "      <td>NaN</td>\n",
       "      <td>NaN</td>\n",
       "      <td>0</td>\n",
       "      <td>/id/resep/4377584-mi-ayam</td>\n",
       "    </tr>\n",
       "    <tr>\n",
       "      <th>1314</th>\n",
       "      <td>[Notitle]</td>\n",
       "      <td>NaN</td>\n",
       "      <td>NaN</td>\n",
       "      <td>0</td>\n",
       "      <td>/id/resep/4363996-ayam-gocap-goreng-kecap</td>\n",
       "    </tr>\n",
       "    <tr>\n",
       "      <th>1799</th>\n",
       "      <td>[Notitle]</td>\n",
       "      <td>NaN</td>\n",
       "      <td>NaN</td>\n",
       "      <td>0</td>\n",
       "      <td>/id/resep/4324179-sup-ceker-ayam</td>\n",
       "    </tr>\n",
       "  </tbody>\n",
       "</table>\n",
       "</div>"
      ],
      "text/plain": [
       "          Title Ingredients Steps  Loves  \\\n",
       "255   [Notitle]         NaN   NaN      0   \n",
       "258   [Notitle]         NaN   NaN      0   \n",
       "298   [Notitle]         NaN   NaN      0   \n",
       "302   [Notitle]         NaN   NaN      0   \n",
       "464   [Notitle]         NaN   NaN      0   \n",
       "521   [Notitle]         NaN   NaN      0   \n",
       "523   [Notitle]         NaN   NaN      0   \n",
       "524   [Notitle]         NaN   NaN      0   \n",
       "835   [Notitle]         NaN   NaN      0   \n",
       "849   [Notitle]         NaN   NaN      0   \n",
       "850   [Notitle]         NaN   NaN      0   \n",
       "933   [Notitle]         NaN   NaN      0   \n",
       "1079  [Notitle]         NaN   NaN      0   \n",
       "1314  [Notitle]         NaN   NaN      0   \n",
       "1799  [Notitle]         NaN   NaN      0   \n",
       "\n",
       "                                                    URL  \n",
       "255                        /id/resep/4459283-ayam-bakar  \n",
       "258               /id/resep/4458951-sate-ayam-maknyusss  \n",
       "298          /id/resep/4454787-garang-asam-ayam-kampung  \n",
       "302                       /id/resep/4454903-ayam-kremes  \n",
       "464                /id/resep/4444134-ayam-balado-simple  \n",
       "521                     /id/resep/4442538-perkedel-ayam  \n",
       "523        /id/resep/4442319-chicken-wings-saos-mentega  \n",
       "524                   /id/resep/4442267-ayam-sambal-ijo  \n",
       "835                    /id/resep/4410020-ayam-terriyaki  \n",
       "849   /id/resep/4409498-mie-ayam-homemade-ala-mama-n...  \n",
       "850   /id/resep/4409320-salted-egg-yolk-chicken-simp...  \n",
       "933                           /id/resep/4396883-ayam-rw  \n",
       "1079                          /id/resep/4377584-mi-ayam  \n",
       "1314          /id/resep/4363996-ayam-gocap-goreng-kecap  \n",
       "1799                   /id/resep/4324179-sup-ceker-ayam  "
      ]
     },
     "execution_count": 883,
     "metadata": {},
     "output_type": "execute_result"
    }
   ],
   "source": [
    "# Cek nilai null data ayam\n",
    "chickenNull = chickenData[chickenData.isnull().any(axis=1)]\n",
    "chickenNull"
   ]
  },
  {
   "cell_type": "code",
   "execution_count": 884,
   "metadata": {},
   "outputs": [
    {
     "data": {
      "text/plain": [
       "(1901, 5)"
      ]
     },
     "execution_count": 884,
     "metadata": {},
     "output_type": "execute_result"
    }
   ],
   "source": [
    "# Hapus Nilai Null\n",
    "chickenData.dropna(inplace=True)\n",
    "chickenData.shape"
   ]
  },
  {
   "cell_type": "markdown",
   "metadata": {},
   "source": [
    "### Duplikat"
   ]
  },
  {
   "cell_type": "markdown",
   "metadata": {},
   "source": [
    "Terdapat nilai duplikat pada kolom **Title**, karena ingin mengambil data yang benar-benar unggul saja dari segi rating"
   ]
  },
  {
   "cell_type": "code",
   "execution_count": 885,
   "metadata": {},
   "outputs": [
    {
     "name": "stdout",
     "output_type": "stream",
     "text": [
      "293\n"
     ]
    }
   ],
   "source": [
    "# Cek banyak data duplikat kolom title\n",
    "dupChickenTitle = chickenData.duplicated(subset=['Title'])\n",
    "dupChickenTitle = chickenData[dupChickenTitle]\n",
    "print(len(dupChickenTitle))\n",
    "\n",
    "# Hapus Data Duplikat\n",
    "cleanedChicken = deleteDuplicates(chickenData)"
   ]
  },
  {
   "cell_type": "code",
   "execution_count": 886,
   "metadata": {},
   "outputs": [
    {
     "data": {
      "text/plain": [
       "(1608, 5)"
      ]
     },
     "execution_count": 886,
     "metadata": {},
     "output_type": "execute_result"
    }
   ],
   "source": [
    "cleanedChicken.shape"
   ]
  },
  {
   "cell_type": "markdown",
   "metadata": {},
   "source": [
    "## Ikan"
   ]
  },
  {
   "cell_type": "markdown",
   "metadata": {},
   "source": [
    "### Cek Informasi"
   ]
  },
  {
   "cell_type": "code",
   "execution_count": 887,
   "metadata": {},
   "outputs": [
    {
     "name": "stdout",
     "output_type": "stream",
     "text": [
      "(1932, 5)\n",
      "<class 'pandas.core.frame.DataFrame'>\n",
      "RangeIndex: 1932 entries, 0 to 1931\n",
      "Data columns (total 5 columns):\n",
      " #   Column       Non-Null Count  Dtype \n",
      "---  ------       --------------  ----- \n",
      " 0   Title        1932 non-null   object\n",
      " 1   Ingredients  1932 non-null   object\n",
      " 2   Steps        1932 non-null   object\n",
      " 3   Loves        1932 non-null   int64 \n",
      " 4   URL          1932 non-null   object\n",
      "dtypes: int64(1), object(4)\n",
      "memory usage: 75.6+ KB\n",
      "None\n"
     ]
    }
   ],
   "source": [
    "print(fishData.shape)\n",
    "print(fishData.info())"
   ]
  },
  {
   "cell_type": "markdown",
   "metadata": {},
   "source": [
    "Sudah tidak ada nilai null, perlu pengecekan nilai duplikat pada kolom **Title**."
   ]
  },
  {
   "cell_type": "markdown",
   "metadata": {},
   "source": [
    "### Duplikat"
   ]
  },
  {
   "cell_type": "markdown",
   "metadata": {},
   "source": [
    "Terdapat nilai duplikat pada kolom **Title**."
   ]
  },
  {
   "cell_type": "code",
   "execution_count": 888,
   "metadata": {},
   "outputs": [
    {
     "name": "stdout",
     "output_type": "stream",
     "text": [
      "131\n",
      "1801\n"
     ]
    }
   ],
   "source": [
    "# Cek banyak duplikat kolom Title\n",
    "dupFishTitle = fishData.duplicated(subset=['Title'])\n",
    "dupFishTitle = fishData[dupFishTitle]\n",
    "print(len(dupFishTitle))\n",
    "\n",
    "cleanedFish = deleteDuplicates(fishData)\n",
    "print(len(cleanedFish))"
   ]
  },
  {
   "cell_type": "markdown",
   "metadata": {},
   "source": [
    "## Kambing"
   ]
  },
  {
   "cell_type": "code",
   "execution_count": 889,
   "metadata": {},
   "outputs": [
    {
     "name": "stdout",
     "output_type": "stream",
     "text": [
      "(1896, 5)\n",
      "<class 'pandas.core.frame.DataFrame'>\n",
      "RangeIndex: 1896 entries, 0 to 1895\n",
      "Data columns (total 5 columns):\n",
      " #   Column       Non-Null Count  Dtype \n",
      "---  ------       --------------  ----- \n",
      " 0   Title        1896 non-null   object\n",
      " 1   Ingredients  1883 non-null   object\n",
      " 2   Steps        1883 non-null   object\n",
      " 3   Loves        1896 non-null   int64 \n",
      " 4   URL          1896 non-null   object\n",
      "dtypes: int64(1), object(4)\n",
      "memory usage: 74.2+ KB\n",
      "None\n"
     ]
    }
   ],
   "source": [
    "print(goatData.shape)\n",
    "print(goatData.info())"
   ]
  },
  {
   "cell_type": "markdown",
   "metadata": {},
   "source": [
    "Masih ada nilai null pada kolom **Ingredients** dan **Steps**. Dan juga perlu dicek nilai duplikat di kolom **Title**."
   ]
  },
  {
   "cell_type": "markdown",
   "metadata": {},
   "source": [
    "### Hapus Nilai Null"
   ]
  },
  {
   "cell_type": "code",
   "execution_count": 890,
   "metadata": {},
   "outputs": [
    {
     "data": {
      "text/plain": [
       "(1883, 5)"
      ]
     },
     "execution_count": 890,
     "metadata": {},
     "output_type": "execute_result"
    }
   ],
   "source": [
    "# Hapus Nilai Null\n",
    "goatData.dropna(inplace=True)\n",
    "goatData.shape"
   ]
  },
  {
   "cell_type": "markdown",
   "metadata": {},
   "source": [
    "### Duplikat"
   ]
  },
  {
   "cell_type": "code",
   "execution_count": 891,
   "metadata": {},
   "outputs": [
    {
     "name": "stdout",
     "output_type": "stream",
     "text": [
      "382\n"
     ]
    },
    {
     "data": {
      "text/plain": [
       "(1501, 5)"
      ]
     },
     "execution_count": 891,
     "metadata": {},
     "output_type": "execute_result"
    }
   ],
   "source": [
    "dupGoatTitle = goatData.duplicated(subset=['Title'])\n",
    "dupGoatTitle = goatData[dupGoatTitle]\n",
    "print(len(dupGoatTitle))\n",
    "\n",
    "# Hapus Data Duplikat\n",
    "cleanedGoat = deleteDuplicates(goatData)\n",
    "cleanedGoat.shape"
   ]
  },
  {
   "cell_type": "markdown",
   "metadata": {},
   "source": [
    "## Sapi"
   ]
  },
  {
   "cell_type": "code",
   "execution_count": 892,
   "metadata": {},
   "outputs": [
    {
     "name": "stdout",
     "output_type": "stream",
     "text": [
      "(1958, 5)\n",
      "<class 'pandas.core.frame.DataFrame'>\n",
      "RangeIndex: 1958 entries, 0 to 1957\n",
      "Data columns (total 5 columns):\n",
      " #   Column       Non-Null Count  Dtype \n",
      "---  ------       --------------  ----- \n",
      " 0   Title        1958 non-null   object\n",
      " 1   Ingredients  1942 non-null   object\n",
      " 2   Steps        1942 non-null   object\n",
      " 3   Loves        1958 non-null   int64 \n",
      " 4   URL          1958 non-null   object\n",
      "dtypes: int64(1), object(4)\n",
      "memory usage: 76.6+ KB\n",
      "None\n"
     ]
    }
   ],
   "source": [
    "print(cowData.shape)\n",
    "print(cowData.info())"
   ]
  },
  {
   "cell_type": "markdown",
   "metadata": {},
   "source": [
    "Masih ada nilai null pada kolom **Ingredients** dan **Steps**. Dan juga perlu dicek nilai duplikat di kolom **Title**."
   ]
  },
  {
   "cell_type": "markdown",
   "metadata": {},
   "source": [
    "### Hapus Nilai Null"
   ]
  },
  {
   "cell_type": "code",
   "execution_count": 893,
   "metadata": {},
   "outputs": [
    {
     "data": {
      "text/plain": [
       "(1942, 5)"
      ]
     },
     "execution_count": 893,
     "metadata": {},
     "output_type": "execute_result"
    }
   ],
   "source": [
    "# Hapus Nilai Null\n",
    "cowData.dropna(inplace=True)\n",
    "cowData.shape"
   ]
  },
  {
   "cell_type": "markdown",
   "metadata": {},
   "source": [
    "### Duplikat"
   ]
  },
  {
   "cell_type": "code",
   "execution_count": 894,
   "metadata": {},
   "outputs": [
    {
     "name": "stdout",
     "output_type": "stream",
     "text": [
      "402\n"
     ]
    },
    {
     "data": {
      "text/plain": [
       "(1540, 5)"
      ]
     },
     "execution_count": 894,
     "metadata": {},
     "output_type": "execute_result"
    }
   ],
   "source": [
    "dupCowTitle = cowData.duplicated(subset=['Title'])\n",
    "dupCowTitle = cowData[dupCowTitle]\n",
    "print(len(dupCowTitle))\n",
    "\n",
    "# Hapus Data Duplikat\n",
    "cleanedCow = deleteDuplicates(cowData)\n",
    "cleanedCow.shape"
   ]
  },
  {
   "cell_type": "markdown",
   "metadata": {},
   "source": [
    "## Tahu"
   ]
  },
  {
   "cell_type": "code",
   "execution_count": 895,
   "metadata": {},
   "outputs": [
    {
     "name": "stdout",
     "output_type": "stream",
     "text": [
      "(1985, 5)\n",
      "<class 'pandas.core.frame.DataFrame'>\n",
      "RangeIndex: 1985 entries, 0 to 1984\n",
      "Data columns (total 5 columns):\n",
      " #   Column       Non-Null Count  Dtype \n",
      "---  ------       --------------  ----- \n",
      " 0   Title        1985 non-null   object\n",
      " 1   Ingredients  1984 non-null   object\n",
      " 2   Steps        1985 non-null   object\n",
      " 3   Loves        1985 non-null   int64 \n",
      " 4   URL          1985 non-null   object\n",
      "dtypes: int64(1), object(4)\n",
      "memory usage: 77.7+ KB\n",
      "None\n"
     ]
    }
   ],
   "source": [
    "print(tahuData.shape)\n",
    "print(tahuData.info())"
   ]
  },
  {
   "cell_type": "markdown",
   "metadata": {},
   "source": [
    "### Hapus Nilai Null"
   ]
  },
  {
   "cell_type": "code",
   "execution_count": 896,
   "metadata": {},
   "outputs": [
    {
     "data": {
      "text/plain": [
       "(1984, 5)"
      ]
     },
     "execution_count": 896,
     "metadata": {},
     "output_type": "execute_result"
    }
   ],
   "source": [
    "# Hapus Nilai Null\n",
    "tahuData.dropna(inplace=True)\n",
    "tahuData.shape"
   ]
  },
  {
   "cell_type": "markdown",
   "metadata": {},
   "source": [
    "### Duplikat"
   ]
  },
  {
   "cell_type": "code",
   "execution_count": 897,
   "metadata": {},
   "outputs": [
    {
     "name": "stdout",
     "output_type": "stream",
     "text": [
      "317\n"
     ]
    },
    {
     "data": {
      "text/plain": [
       "(1667, 5)"
      ]
     },
     "execution_count": 897,
     "metadata": {},
     "output_type": "execute_result"
    }
   ],
   "source": [
    "dupTahuTitle = tahuData.duplicated(subset=['Title'])\n",
    "dupTahuTitle = tahuData[dupTahuTitle]\n",
    "print(len(dupTahuTitle))\n",
    "\n",
    "# Hapus Data Duplikat\n",
    "cleanedTahu = deleteDuplicates(tahuData)\n",
    "cleanedTahu.shape"
   ]
  },
  {
   "cell_type": "markdown",
   "metadata": {},
   "source": [
    "## Telur"
   ]
  },
  {
   "cell_type": "code",
   "execution_count": 898,
   "metadata": {},
   "outputs": [
    {
     "name": "stdout",
     "output_type": "stream",
     "text": [
      "(1974, 5)\n",
      "<class 'pandas.core.frame.DataFrame'>\n",
      "RangeIndex: 1974 entries, 0 to 1973\n",
      "Data columns (total 5 columns):\n",
      " #   Column       Non-Null Count  Dtype \n",
      "---  ------       --------------  ----- \n",
      " 0   Title        1974 non-null   object\n",
      " 1   Ingredients  1972 non-null   object\n",
      " 2   Steps        1972 non-null   object\n",
      " 3   Loves        1974 non-null   int64 \n",
      " 4   URL          1974 non-null   object\n",
      "dtypes: int64(1), object(4)\n",
      "memory usage: 77.2+ KB\n",
      "None\n"
     ]
    }
   ],
   "source": [
    "print(eggData.shape)\n",
    "print(eggData.info())"
   ]
  },
  {
   "cell_type": "markdown",
   "metadata": {},
   "source": [
    "### Hapus Nilai Null"
   ]
  },
  {
   "cell_type": "code",
   "execution_count": 899,
   "metadata": {},
   "outputs": [
    {
     "data": {
      "text/plain": [
       "(1972, 5)"
      ]
     },
     "execution_count": 899,
     "metadata": {},
     "output_type": "execute_result"
    }
   ],
   "source": [
    "# Hapus Nilai Null\n",
    "eggData.dropna(inplace=True)\n",
    "eggData.shape"
   ]
  },
  {
   "cell_type": "markdown",
   "metadata": {},
   "source": [
    "### Duplikat"
   ]
  },
  {
   "cell_type": "code",
   "execution_count": 900,
   "metadata": {},
   "outputs": [
    {
     "name": "stdout",
     "output_type": "stream",
     "text": [
      "206\n"
     ]
    },
    {
     "data": {
      "text/plain": [
       "(1766, 5)"
      ]
     },
     "execution_count": 900,
     "metadata": {},
     "output_type": "execute_result"
    }
   ],
   "source": [
    "dupEggTitle = eggData.duplicated(subset=['Title'])\n",
    "dupEggTitle = eggData[dupEggTitle]\n",
    "print(len(dupEggTitle))\n",
    "\n",
    "# Hapus Data Duplikat\n",
    "cleanedEgg = deleteDuplicates(eggData)\n",
    "cleanedEgg.shape"
   ]
  },
  {
   "cell_type": "markdown",
   "metadata": {},
   "source": [
    "## Tempe"
   ]
  },
  {
   "cell_type": "code",
   "execution_count": 901,
   "metadata": {},
   "outputs": [
    {
     "name": "stdout",
     "output_type": "stream",
     "text": [
      "(1986, 5)\n",
      "<class 'pandas.core.frame.DataFrame'>\n",
      "RangeIndex: 1986 entries, 0 to 1985\n",
      "Data columns (total 5 columns):\n",
      " #   Column       Non-Null Count  Dtype \n",
      "---  ------       --------------  ----- \n",
      " 0   Title        1986 non-null   object\n",
      " 1   Ingredients  1985 non-null   object\n",
      " 2   Steps        1986 non-null   object\n",
      " 3   Loves        1986 non-null   int64 \n",
      " 4   URL          1986 non-null   object\n",
      "dtypes: int64(1), object(4)\n",
      "memory usage: 77.7+ KB\n",
      "None\n"
     ]
    }
   ],
   "source": [
    "print(tempeData.shape)\n",
    "print(tempeData.info())"
   ]
  },
  {
   "cell_type": "markdown",
   "metadata": {},
   "source": [
    "### Hapus Nilai Null"
   ]
  },
  {
   "cell_type": "code",
   "execution_count": 902,
   "metadata": {},
   "outputs": [
    {
     "data": {
      "text/plain": [
       "(1985, 5)"
      ]
     },
     "execution_count": 902,
     "metadata": {},
     "output_type": "execute_result"
    }
   ],
   "source": [
    "# Hapus Nilai Null\n",
    "tempeData.dropna(inplace=True)\n",
    "tempeData.shape"
   ]
  },
  {
   "cell_type": "markdown",
   "metadata": {},
   "source": [
    "### Duplikat"
   ]
  },
  {
   "cell_type": "code",
   "execution_count": 903,
   "metadata": {},
   "outputs": [
    {
     "name": "stdout",
     "output_type": "stream",
     "text": [
      "398\n"
     ]
    },
    {
     "data": {
      "text/plain": [
       "(1587, 5)"
      ]
     },
     "execution_count": 903,
     "metadata": {},
     "output_type": "execute_result"
    }
   ],
   "source": [
    "dupTempeTitle = tempeData.duplicated(subset=['Title'])\n",
    "dupTempeTitle = tempeData[dupTempeTitle]\n",
    "print(len(dupTempeTitle))\n",
    "\n",
    "# Hapus Data Duplikat\n",
    "cleanedTempe = deleteDuplicates(tempeData)\n",
    "cleanedTempe.shape"
   ]
  },
  {
   "cell_type": "markdown",
   "metadata": {},
   "source": [
    "## Udang"
   ]
  },
  {
   "cell_type": "code",
   "execution_count": 904,
   "metadata": {},
   "outputs": [
    {
     "name": "stdout",
     "output_type": "stream",
     "text": [
      "(1994, 5)\n",
      "<class 'pandas.core.frame.DataFrame'>\n",
      "RangeIndex: 1994 entries, 0 to 1993\n",
      "Data columns (total 5 columns):\n",
      " #   Column       Non-Null Count  Dtype \n",
      "---  ------       --------------  ----- \n",
      " 0   Title        1994 non-null   object\n",
      " 1   Ingredients  1994 non-null   object\n",
      " 2   Steps        1994 non-null   object\n",
      " 3   Loves        1994 non-null   int64 \n",
      " 4   URL          1994 non-null   object\n",
      "dtypes: int64(1), object(4)\n",
      "memory usage: 78.0+ KB\n",
      "None\n"
     ]
    }
   ],
   "source": [
    "print(shrimpData.shape)\n",
    "print(shrimpData.info())"
   ]
  },
  {
   "cell_type": "markdown",
   "metadata": {},
   "source": [
    "### Duplikat"
   ]
  },
  {
   "cell_type": "code",
   "execution_count": 905,
   "metadata": {},
   "outputs": [
    {
     "name": "stdout",
     "output_type": "stream",
     "text": [
      "376\n"
     ]
    },
    {
     "data": {
      "text/plain": [
       "(1618, 5)"
      ]
     },
     "execution_count": 905,
     "metadata": {},
     "output_type": "execute_result"
    }
   ],
   "source": [
    "dupShrimpTitle = shrimpData.duplicated(subset=['Title'])\n",
    "dupShrimpTitle = shrimpData[dupShrimpTitle]\n",
    "print(len(dupShrimpTitle))\n",
    "\n",
    "# Hapus Data Duplikat\n",
    "cleanedShrimp = deleteDuplicates(shrimpData)\n",
    "cleanedShrimp.shape"
   ]
  },
  {
   "cell_type": "markdown",
   "metadata": {},
   "source": [
    "## Menggabungkan Seluruh Data"
   ]
  },
  {
   "cell_type": "code",
   "execution_count": 906,
   "metadata": {},
   "outputs": [
    {
     "name": "stdout",
     "output_type": "stream",
     "text": [
      "(13088, 5)\n"
     ]
    }
   ],
   "source": [
    "dfs = [cleanedChicken, cleanedFish, cleanedGoat, cleanedCow, cleanedTahu, cleanedEgg, cleanedTempe, cleanedShrimp]\n",
    "\n",
    "allDf = pd.concat(dfs)\n",
    "\n",
    "print(allDf.shape)"
   ]
  },
  {
   "cell_type": "code",
   "execution_count": 926,
   "metadata": {},
   "outputs": [
    {
     "data": {
      "text/html": [
       "<div>\n",
       "<style scoped>\n",
       "    .dataframe tbody tr th:only-of-type {\n",
       "        vertical-align: middle;\n",
       "    }\n",
       "\n",
       "    .dataframe tbody tr th {\n",
       "        vertical-align: top;\n",
       "    }\n",
       "\n",
       "    .dataframe thead th {\n",
       "        text-align: right;\n",
       "    }\n",
       "</style>\n",
       "<table border=\"1\" class=\"dataframe\">\n",
       "  <thead>\n",
       "    <tr style=\"text-align: right;\">\n",
       "      <th></th>\n",
       "      <th>Title</th>\n",
       "      <th>Ingredients</th>\n",
       "      <th>Steps</th>\n",
       "      <th>Loves</th>\n",
       "      <th>URL</th>\n",
       "    </tr>\n",
       "  </thead>\n",
       "  <tbody>\n",
       "    <tr>\n",
       "      <th>1040</th>\n",
       "      <td>Nasi Goreng Kambing Rasya Jinten</td>\n",
       "      <td>1 ons daging kambing cuci bersih (saya beli 12...</td>\n",
       "      <td>Saya beli 1 ons dapat segini--Siapkan semua bu...</td>\n",
       "      <td>2</td>\n",
       "      <td>/id/resep/956501-nasi-goreng-kambing-rasya-jinten</td>\n",
       "    </tr>\n",
       "    <tr>\n",
       "      <th>1947</th>\n",
       "      <td>Tumis udang / Seafood</td>\n",
       "      <td>500 gr udang putih--3 siung bawang putih--2 si...</td>\n",
       "      <td>Goreng terlebih dahulu udangnya, jangan terlal...</td>\n",
       "      <td>19</td>\n",
       "      <td>/id/resep/3804838-tumis-udang-seafood</td>\n",
       "    </tr>\n",
       "    <tr>\n",
       "      <th>739</th>\n",
       "      <td>Terong Mercon Selimut Telur SBBM✓</td>\n",
       "      <td>1 Buah Terong ungu uk. sedang----Bahan Sambal:...</td>\n",
       "      <td>Haluskan semua Bahan Sambal kecuali minyak say...</td>\n",
       "      <td>4</td>\n",
       "      <td>/id/resep/4265691-terong-mercon-selimut-telur-...</td>\n",
       "    </tr>\n",
       "    <tr>\n",
       "      <th>690</th>\n",
       "      <td>Sambal terong udang</td>\n",
       "      <td>2.5 ons udang (kupas kulitnya)--2 batang teron...</td>\n",
       "      <td>Goreng terong terlebih dahulu hingga layu, tir...</td>\n",
       "      <td>8</td>\n",
       "      <td>/id/resep/4250248-sambal-terong-udang</td>\n",
       "    </tr>\n",
       "    <tr>\n",
       "      <th>1270</th>\n",
       "      <td>Santenan Tempe dan Tahu</td>\n",
       "      <td>1 papan tempe--15 buah tahu pong--15 buah okra...</td>\n",
       "      <td>Iris kotak tempe, balur dengan sedikit garam l...</td>\n",
       "      <td>6</td>\n",
       "      <td>/id/resep/4063211-santenan-tempe-dan-tahu</td>\n",
       "    </tr>\n",
       "    <tr>\n",
       "      <th>817</th>\n",
       "      <td>Slowcook Beef Bone Broth kaldu sumsum sapi</td>\n",
       "      <td>750 ml Sumsum Sapi--1-2 L Air Matang--1 sdm Cu...</td>\n",
       "      <td>Masukan semua bahan2 kedalam slowcooker. Masak...</td>\n",
       "      <td>14</td>\n",
       "      <td>/id/resep/3875778-slowcook-beef-bone-broth-kal...</td>\n",
       "    </tr>\n",
       "    <tr>\n",
       "      <th>1114</th>\n",
       "      <td>Soup Oyong Bola Udang</td>\n",
       "      <td>10 butir bola udang (beli jdi bahan frozen)--2...</td>\n",
       "      <td>Kupas oyong potong bulat kecil2--Rebus air tun...</td>\n",
       "      <td>4</td>\n",
       "      <td>/id/resep/4011282-soup-oyong-bola-udang</td>\n",
       "    </tr>\n",
       "    <tr>\n",
       "      <th>490</th>\n",
       "      <td>Asem-asem kambing 🐐</td>\n",
       "      <td>500 gr daging + tulang kambing--15 buah belimb...</td>\n",
       "      <td>Rebus air hingga mendidih.--Cuci bersih daging...</td>\n",
       "      <td>4</td>\n",
       "      <td>/id/resep/3273651-asem-asem-kambing-%F0%9F%90%...</td>\n",
       "    </tr>\n",
       "    <tr>\n",
       "      <th>191</th>\n",
       "      <td>Ikan kuwe merah merona</td>\n",
       "      <td>4 ekor ikan kuwe ukuran sedang--2 buah tomat (...</td>\n",
       "      <td>Cuci bersih ikan kuwe, kerat. kemudian rendam ...</td>\n",
       "      <td>6</td>\n",
       "      <td>/id/resep/4069975-ikan-kuwe-merah-merona</td>\n",
       "    </tr>\n",
       "    <tr>\n",
       "      <th>1820</th>\n",
       "      <td>Semur Daging Tahu Soun</td>\n",
       "      <td>250 gram daging sapi diiris,--50 gram soun yan...</td>\n",
       "      <td>Daging sapi direbus hingga lunak, jika sudah l...</td>\n",
       "      <td>3</td>\n",
       "      <td>/id/resep/4055340-semur-daging-tahu-soun</td>\n",
       "    </tr>\n",
       "  </tbody>\n",
       "</table>\n",
       "</div>"
      ],
      "text/plain": [
       "                                           Title  \\\n",
       "1040            Nasi Goreng Kambing Rasya Jinten   \n",
       "1947                       Tumis udang / Seafood   \n",
       "739            Terong Mercon Selimut Telur SBBM✓   \n",
       "690                          Sambal terong udang   \n",
       "1270                     Santenan Tempe dan Tahu   \n",
       "817   Slowcook Beef Bone Broth kaldu sumsum sapi   \n",
       "1114                       Soup Oyong Bola Udang   \n",
       "490                          Asem-asem kambing 🐐   \n",
       "191                       Ikan kuwe merah merona   \n",
       "1820                      Semur Daging Tahu Soun   \n",
       "\n",
       "                                            Ingredients  \\\n",
       "1040  1 ons daging kambing cuci bersih (saya beli 12...   \n",
       "1947  500 gr udang putih--3 siung bawang putih--2 si...   \n",
       "739   1 Buah Terong ungu uk. sedang----Bahan Sambal:...   \n",
       "690   2.5 ons udang (kupas kulitnya)--2 batang teron...   \n",
       "1270  1 papan tempe--15 buah tahu pong--15 buah okra...   \n",
       "817   750 ml Sumsum Sapi--1-2 L Air Matang--1 sdm Cu...   \n",
       "1114  10 butir bola udang (beli jdi bahan frozen)--2...   \n",
       "490   500 gr daging + tulang kambing--15 buah belimb...   \n",
       "191   4 ekor ikan kuwe ukuran sedang--2 buah tomat (...   \n",
       "1820  250 gram daging sapi diiris,--50 gram soun yan...   \n",
       "\n",
       "                                                  Steps  Loves  \\\n",
       "1040  Saya beli 1 ons dapat segini--Siapkan semua bu...      2   \n",
       "1947  Goreng terlebih dahulu udangnya, jangan terlal...     19   \n",
       "739   Haluskan semua Bahan Sambal kecuali minyak say...      4   \n",
       "690   Goreng terong terlebih dahulu hingga layu, tir...      8   \n",
       "1270  Iris kotak tempe, balur dengan sedikit garam l...      6   \n",
       "817   Masukan semua bahan2 kedalam slowcooker. Masak...     14   \n",
       "1114  Kupas oyong potong bulat kecil2--Rebus air tun...      4   \n",
       "490   Rebus air hingga mendidih.--Cuci bersih daging...      4   \n",
       "191   Cuci bersih ikan kuwe, kerat. kemudian rendam ...      6   \n",
       "1820  Daging sapi direbus hingga lunak, jika sudah l...      3   \n",
       "\n",
       "                                                    URL  \n",
       "1040  /id/resep/956501-nasi-goreng-kambing-rasya-jinten  \n",
       "1947              /id/resep/3804838-tumis-udang-seafood  \n",
       "739   /id/resep/4265691-terong-mercon-selimut-telur-...  \n",
       "690               /id/resep/4250248-sambal-terong-udang  \n",
       "1270          /id/resep/4063211-santenan-tempe-dan-tahu  \n",
       "817   /id/resep/3875778-slowcook-beef-bone-broth-kal...  \n",
       "1114            /id/resep/4011282-soup-oyong-bola-udang  \n",
       "490   /id/resep/3273651-asem-asem-kambing-%F0%9F%90%...  \n",
       "191            /id/resep/4069975-ikan-kuwe-merah-merona  \n",
       "1820           /id/resep/4055340-semur-daging-tahu-soun  "
      ]
     },
     "execution_count": 926,
     "metadata": {},
     "output_type": "execute_result"
    }
   ],
   "source": [
    "allDf.sample(10)"
   ]
  },
  {
   "cell_type": "markdown",
   "metadata": {},
   "source": [
    "## Membersihkan Nilai Pada Tiap Kolom"
   ]
  },
  {
   "cell_type": "markdown",
   "metadata": {},
   "source": [
    "### Title\n",
    "\n",
    "Terdapat hal-hal yang perlu dibersihkan pada kolom Title. Yaitu:\n",
    "1. Simbol-simbol\n",
    "   - Hashtag (#), dihapus juga kalimat setelah #\n",
    "   - () kurung\n",
    "   - Underscore (_)\n",
    "   - Plus (+), diganti dengan kata-kata \"dan\"\n",
    "   - Asterisk (*)\n",
    "   - slash (/), diganti dengan kata-kata \"atau\"\n",
    "   - dot (.)\n",
    "   - petik 2 \"\", dan petik 1 ''\n",
    "   - ampersand (&), diganti dengan kata-kata \"dan\".\n",
    "   - \\ \n",
    "2. Emoji\n",
    "3. Angka \n",
    "4. Kata-kata tidak baku, seperti n seharusnya dan\n",
    "5. Penggunaan bahasa asing yang tidak semestinya, ubah jadi bahasa indonesia"
   ]
  },
  {
   "cell_type": "code",
   "execution_count": 908,
   "metadata": {},
   "outputs": [
    {
     "name": "stderr",
     "output_type": "stream",
     "text": [
      "C:\\Users\\legion\\AppData\\Local\\Temp\\ipykernel_9108\\261574271.py:3: UserWarning: This pattern is interpreted as a regular expression, and has match groups. To actually get the groups, use str.extract.\n",
      "  withHashtag = allDf[allDf['Title'].str.contains(pattern)]\n"
     ]
    },
    {
     "data": {
      "text/html": [
       "<div>\n",
       "<style scoped>\n",
       "    .dataframe tbody tr th:only-of-type {\n",
       "        vertical-align: middle;\n",
       "    }\n",
       "\n",
       "    .dataframe tbody tr th {\n",
       "        vertical-align: top;\n",
       "    }\n",
       "\n",
       "    .dataframe thead th {\n",
       "        text-align: right;\n",
       "    }\n",
       "</style>\n",
       "<table border=\"1\" class=\"dataframe\">\n",
       "  <thead>\n",
       "    <tr style=\"text-align: right;\">\n",
       "      <th></th>\n",
       "      <th>Title</th>\n",
       "      <th>Ingredients</th>\n",
       "      <th>Steps</th>\n",
       "      <th>Loves</th>\n",
       "      <th>URL</th>\n",
       "    </tr>\n",
       "  </thead>\n",
       "  <tbody>\n",
       "    <tr>\n",
       "      <th>1230</th>\n",
       "      <td>Tumis sawi ayam potong dadu#ketogenic</td>\n",
       "      <td>1/4 sawi putih besar--1 paha ayam potong dadu-...</td>\n",
       "      <td>Cuci bersih sawi iris2 sesuai selera--Keprek d...</td>\n",
       "      <td>1</td>\n",
       "      <td>/id/resep/4369141-tumis-sawi-ayam-potong-daduk...</td>\n",
       "    </tr>\n",
       "    <tr>\n",
       "      <th>1409</th>\n",
       "      <td>Tumis ayam telur sederhana #homemadebylita</td>\n",
       "      <td>1/4 dada ayam boneless (potong dadu)--1 butir ...</td>\n",
       "      <td>Siapkan semua bahan, marinase ayam kurleb 15 m...</td>\n",
       "      <td>5</td>\n",
       "      <td>/id/resep/4358433-tumis-ayam-telur-sederhana-h...</td>\n",
       "    </tr>\n",
       "    <tr>\n",
       "      <th>1382</th>\n",
       "      <td>Tumis ayam brokoli #Ketopad</td>\n",
       "      <td>250 grm daging ayam--100 grm brokoli--100 grm ...</td>\n",
       "      <td>Cuci ayam yg sdh dipotong2..lumurin dg sdkit c...</td>\n",
       "      <td>22</td>\n",
       "      <td>/id/resep/4359341-tumis-ayam-brokoli-ketopad</td>\n",
       "    </tr>\n",
       "    <tr>\n",
       "      <th>1535</th>\n",
       "      <td>Tumis Kailan Ayam Jamur Berkuah #homemadebylita</td>\n",
       "      <td>Secukupnya kailan (saya sekitar 1/2 bungkus ka...</td>\n",
       "      <td>Siapkan semua bahan--Tumis bawang putih hingga...</td>\n",
       "      <td>6</td>\n",
       "      <td>/id/resep/4352779-tumis-kailan-ayam-jamur-berk...</td>\n",
       "    </tr>\n",
       "    <tr>\n",
       "      <th>254</th>\n",
       "      <td>Tongseng Ayam dengan kuah santan kental yang p...</td>\n",
       "      <td>1/2 ekor ayam--Air--1 Kara--Minyak--Bawang gor...</td>\n",
       "      <td>Cuci bersih ayam, lalu potong sesuai selera..-...</td>\n",
       "      <td>2</td>\n",
       "      <td>/id/resep/4459101-tongseng-ayam-dengan-kuah-sa...</td>\n",
       "    </tr>\n",
       "    <tr>\n",
       "      <th>...</th>\n",
       "      <td>...</td>\n",
       "      <td>...</td>\n",
       "      <td>...</td>\n",
       "      <td>...</td>\n",
       "      <td>...</td>\n",
       "    </tr>\n",
       "    <tr>\n",
       "      <th>599</th>\n",
       "      <td>Gulai udang nanas #khasbangka (2)</td>\n",
       "      <td>450 gram udang ukuran besar--1 buah nanas--Bum...</td>\n",
       "      <td>Cuci bersih udang, kupas kulit sampai habis. L...</td>\n",
       "      <td>14</td>\n",
       "      <td>/id/resep/4284163-gulai-udang-nanas-khasbangka-2</td>\n",
       "    </tr>\n",
       "    <tr>\n",
       "      <th>25</th>\n",
       "      <td>Daun Singkong Pepes Udang Tahu #praktis</td>\n",
       "      <td>★ bumbu halus--7 siung bawang merah--5 siung b...</td>\n",
       "      <td>Panaskan wajan, tumis sebentar udang dan teri ...</td>\n",
       "      <td>6</td>\n",
       "      <td>/id/resep/4469454-daun-singkong-pepes-udang-ta...</td>\n",
       "    </tr>\n",
       "    <tr>\n",
       "      <th>1908</th>\n",
       "      <td>Cah Tahu Tauge Udang Ala Mami #keto_cp_ekitchen</td>\n",
       "      <td>100 GR Udang (boleh jenis apa ajaa)--3 siung B...</td>\n",
       "      <td>Potong brokoli setali dicuci bersih lalu diren...</td>\n",
       "      <td>16</td>\n",
       "      <td>/id/resep/3815779-cah-tahu-tauge-udang-ala-mam...</td>\n",
       "    </tr>\n",
       "    <tr>\n",
       "      <th>497</th>\n",
       "      <td>Baso Udang Homemade (Frozen food) #MpasiUdang</td>\n",
       "      <td>2 Kg udang. Kupas kerat punggung bersigkan kot...</td>\n",
       "      <td>Haluskan bawang putih dengan air dingin. Dalam...</td>\n",
       "      <td>1</td>\n",
       "      <td>/id/resep/4336588-baso-udang-homemade-frozen-f...</td>\n",
       "    </tr>\n",
       "    <tr>\n",
       "      <th>589</th>\n",
       "      <td>(Diet) Mie shirataki brokoli udang jamur worte...</td>\n",
       "      <td>3 keping mie kering shirataki (utk lebi pas bs...</td>\n",
       "      <td>Siapkan semua bahan. Marinasi udang sekitar 15...</td>\n",
       "      <td>7</td>\n",
       "      <td>/id/resep/4288436-diet-mie-shirataki-brokoli-u...</td>\n",
       "    </tr>\n",
       "  </tbody>\n",
       "</table>\n",
       "<p>610 rows × 5 columns</p>\n",
       "</div>"
      ],
      "text/plain": [
       "                                                  Title  \\\n",
       "1230              Tumis sawi ayam potong dadu#ketogenic   \n",
       "1409         Tumis ayam telur sederhana #homemadebylita   \n",
       "1382                        Tumis ayam brokoli #Ketopad   \n",
       "1535    Tumis Kailan Ayam Jamur Berkuah #homemadebylita   \n",
       "254   Tongseng Ayam dengan kuah santan kental yang p...   \n",
       "...                                                 ...   \n",
       "599                   Gulai udang nanas #khasbangka (2)   \n",
       "25              Daun Singkong Pepes Udang Tahu #praktis   \n",
       "1908    Cah Tahu Tauge Udang Ala Mami #keto_cp_ekitchen   \n",
       "497       Baso Udang Homemade (Frozen food) #MpasiUdang   \n",
       "589   (Diet) Mie shirataki brokoli udang jamur worte...   \n",
       "\n",
       "                                            Ingredients  \\\n",
       "1230  1/4 sawi putih besar--1 paha ayam potong dadu-...   \n",
       "1409  1/4 dada ayam boneless (potong dadu)--1 butir ...   \n",
       "1382  250 grm daging ayam--100 grm brokoli--100 grm ...   \n",
       "1535  Secukupnya kailan (saya sekitar 1/2 bungkus ka...   \n",
       "254   1/2 ekor ayam--Air--1 Kara--Minyak--Bawang gor...   \n",
       "...                                                 ...   \n",
       "599   450 gram udang ukuran besar--1 buah nanas--Bum...   \n",
       "25    ★ bumbu halus--7 siung bawang merah--5 siung b...   \n",
       "1908  100 GR Udang (boleh jenis apa ajaa)--3 siung B...   \n",
       "497   2 Kg udang. Kupas kerat punggung bersigkan kot...   \n",
       "589   3 keping mie kering shirataki (utk lebi pas bs...   \n",
       "\n",
       "                                                  Steps  Loves  \\\n",
       "1230  Cuci bersih sawi iris2 sesuai selera--Keprek d...      1   \n",
       "1409  Siapkan semua bahan, marinase ayam kurleb 15 m...      5   \n",
       "1382  Cuci ayam yg sdh dipotong2..lumurin dg sdkit c...     22   \n",
       "1535  Siapkan semua bahan--Tumis bawang putih hingga...      6   \n",
       "254   Cuci bersih ayam, lalu potong sesuai selera..-...      2   \n",
       "...                                                 ...    ...   \n",
       "599   Cuci bersih udang, kupas kulit sampai habis. L...     14   \n",
       "25    Panaskan wajan, tumis sebentar udang dan teri ...      6   \n",
       "1908  Potong brokoli setali dicuci bersih lalu diren...     16   \n",
       "497   Haluskan bawang putih dengan air dingin. Dalam...      1   \n",
       "589   Siapkan semua bahan. Marinasi udang sekitar 15...      7   \n",
       "\n",
       "                                                    URL  \n",
       "1230  /id/resep/4369141-tumis-sawi-ayam-potong-daduk...  \n",
       "1409  /id/resep/4358433-tumis-ayam-telur-sederhana-h...  \n",
       "1382       /id/resep/4359341-tumis-ayam-brokoli-ketopad  \n",
       "1535  /id/resep/4352779-tumis-kailan-ayam-jamur-berk...  \n",
       "254   /id/resep/4459101-tongseng-ayam-dengan-kuah-sa...  \n",
       "...                                                 ...  \n",
       "599    /id/resep/4284163-gulai-udang-nanas-khasbangka-2  \n",
       "25    /id/resep/4469454-daun-singkong-pepes-udang-ta...  \n",
       "1908  /id/resep/3815779-cah-tahu-tauge-udang-ala-mam...  \n",
       "497   /id/resep/4336588-baso-udang-homemade-frozen-f...  \n",
       "589   /id/resep/4288436-diet-mie-shirataki-brokoli-u...  \n",
       "\n",
       "[610 rows x 5 columns]"
      ]
     },
     "execution_count": 908,
     "metadata": {},
     "output_type": "execute_result"
    }
   ],
   "source": [
    "# Mengambil contoh dengan #\n",
    "pattern = r'.?\\s*(#\\w*)\\s*'\n",
    "withHashtag = allDf[allDf['Title'].str.contains(pattern)]\n",
    "withHashtag"
   ]
  },
  {
   "cell_type": "code",
   "execution_count": 909,
   "metadata": {},
   "outputs": [],
   "source": [
    "# Penghapusan nilai hashtag\n",
    "allDf['Title'] = allDf['Title'].apply(lambda x: re.sub(r'(#\\w*)\\s*', '', x))\n",
    "allDf['Title'] = allDf['Title'].str.strip()"
   ]
  },
  {
   "cell_type": "code",
   "execution_count": 910,
   "metadata": {},
   "outputs": [
    {
     "data": {
      "text/html": [
       "<div>\n",
       "<style scoped>\n",
       "    .dataframe tbody tr th:only-of-type {\n",
       "        vertical-align: middle;\n",
       "    }\n",
       "\n",
       "    .dataframe tbody tr th {\n",
       "        vertical-align: top;\n",
       "    }\n",
       "\n",
       "    .dataframe thead th {\n",
       "        text-align: right;\n",
       "    }\n",
       "</style>\n",
       "<table border=\"1\" class=\"dataframe\">\n",
       "  <thead>\n",
       "    <tr style=\"text-align: right;\">\n",
       "      <th></th>\n",
       "      <th>Title</th>\n",
       "      <th>Ingredients</th>\n",
       "      <th>Steps</th>\n",
       "      <th>Loves</th>\n",
       "      <th>URL</th>\n",
       "    </tr>\n",
       "  </thead>\n",
       "  <tbody>\n",
       "    <tr>\n",
       "      <th>611</th>\n",
       "      <td>Sop bening tulang kambing</td>\n",
       "      <td>1 kg tulang kambing/sapi--2 batang daun bawang...</td>\n",
       "      <td>Bersihkan tulang di air mengalir lalu rebus se...</td>\n",
       "      <td>16</td>\n",
       "      <td>/id/resep/3272183-sop-bening-tulang-kambing-ki...</td>\n",
       "    </tr>\n",
       "    <tr>\n",
       "      <th>325</th>\n",
       "      <td>Nila Acar Kuning</td>\n",
       "      <td>4 potong Ikan Nila--Timun 2 ukuran sedang (bol...</td>\n",
       "      <td>Cuci bersih ikan dan lumuri dengan perasan jer...</td>\n",
       "      <td>36</td>\n",
       "      <td>/id/resep/4411367-nila-acar-kuning</td>\n",
       "    </tr>\n",
       "    <tr>\n",
       "      <th>1478</th>\n",
       "      <td>Sup Jamur n Telur Obat Pilek Huuh..haah..😂😂</td>\n",
       "      <td>1 genggam jamur tiram suwir--1 butir telur koc...</td>\n",
       "      <td>Cuci bersih jamur, remas2 tiriskan.--Cincang k...</td>\n",
       "      <td>2</td>\n",
       "      <td>/id/resep/3984260-sup-jamur-n-telur-obat-pilek...</td>\n",
       "    </tr>\n",
       "    <tr>\n",
       "      <th>1615</th>\n",
       "      <td>Ikan Mujair Goreng Sambal Dabu - Dabu</td>\n",
       "      <td>1/2 kg Ikan Mujair--1 sdt Ketumbar--1 siung Ba...</td>\n",
       "      <td>Cuci bersih ikan yang sudah dibuang insang dan...</td>\n",
       "      <td>23</td>\n",
       "      <td>/id/resep/4036650-ikan-mujair-goreng-sambal-da...</td>\n",
       "    </tr>\n",
       "    <tr>\n",
       "      <th>1188</th>\n",
       "      <td>Bacem Pindang Telur *endess*</td>\n",
       "      <td>5 butir telur ayam--400 ml air matang--1 teh c...</td>\n",
       "      <td>Rebus telur hingga matang dalam wadah panci te...</td>\n",
       "      <td>54</td>\n",
       "      <td>/id/resep/4037473-bacem-pindang-telur-endess</td>\n",
       "    </tr>\n",
       "  </tbody>\n",
       "</table>\n",
       "</div>"
      ],
      "text/plain": [
       "                                            Title  \\\n",
       "611                     Sop bening tulang kambing   \n",
       "325                              Nila Acar Kuning   \n",
       "1478  Sup Jamur n Telur Obat Pilek Huuh..haah..😂😂   \n",
       "1615        Ikan Mujair Goreng Sambal Dabu - Dabu   \n",
       "1188                 Bacem Pindang Telur *endess*   \n",
       "\n",
       "                                            Ingredients  \\\n",
       "611   1 kg tulang kambing/sapi--2 batang daun bawang...   \n",
       "325   4 potong Ikan Nila--Timun 2 ukuran sedang (bol...   \n",
       "1478  1 genggam jamur tiram suwir--1 butir telur koc...   \n",
       "1615  1/2 kg Ikan Mujair--1 sdt Ketumbar--1 siung Ba...   \n",
       "1188  5 butir telur ayam--400 ml air matang--1 teh c...   \n",
       "\n",
       "                                                  Steps  Loves  \\\n",
       "611   Bersihkan tulang di air mengalir lalu rebus se...     16   \n",
       "325   Cuci bersih ikan dan lumuri dengan perasan jer...     36   \n",
       "1478  Cuci bersih jamur, remas2 tiriskan.--Cincang k...      2   \n",
       "1615  Cuci bersih ikan yang sudah dibuang insang dan...     23   \n",
       "1188  Rebus telur hingga matang dalam wadah panci te...     54   \n",
       "\n",
       "                                                    URL  \n",
       "611   /id/resep/3272183-sop-bening-tulang-kambing-ki...  \n",
       "325                  /id/resep/4411367-nila-acar-kuning  \n",
       "1478  /id/resep/3984260-sup-jamur-n-telur-obat-pilek...  \n",
       "1615  /id/resep/4036650-ikan-mujair-goreng-sambal-da...  \n",
       "1188       /id/resep/4037473-bacem-pindang-telur-endess  "
      ]
     },
     "execution_count": 910,
     "metadata": {},
     "output_type": "execute_result"
    }
   ],
   "source": [
    "allDf.sample(5)"
   ]
  },
  {
   "cell_type": "code",
   "execution_count": 911,
   "metadata": {},
   "outputs": [
    {
     "name": "stderr",
     "output_type": "stream",
     "text": [
      "C:\\Users\\legion\\AppData\\Local\\Temp\\ipykernel_9108\\584624470.py:3: UserWarning: This pattern is interpreted as a regular expression, and has match groups. To actually get the groups, use str.extract.\n",
      "  withBrackets = allDf[allDf['Title'].str.contains(pattern)]\n"
     ]
    },
    {
     "data": {
      "text/html": [
       "<div>\n",
       "<style scoped>\n",
       "    .dataframe tbody tr th:only-of-type {\n",
       "        vertical-align: middle;\n",
       "    }\n",
       "\n",
       "    .dataframe tbody tr th {\n",
       "        vertical-align: top;\n",
       "    }\n",
       "\n",
       "    .dataframe thead th {\n",
       "        text-align: right;\n",
       "    }\n",
       "</style>\n",
       "<table border=\"1\" class=\"dataframe\">\n",
       "  <thead>\n",
       "    <tr style=\"text-align: right;\">\n",
       "      <th></th>\n",
       "      <th>Title</th>\n",
       "      <th>Ingredients</th>\n",
       "      <th>Steps</th>\n",
       "      <th>Loves</th>\n",
       "      <th>URL</th>\n",
       "    </tr>\n",
       "  </thead>\n",
       "  <tbody>\n",
       "    <tr>\n",
       "      <th>741</th>\n",
       "      <td>Sop ceker ayam sederhana (enak)</td>\n",
       "      <td>10 bh ceker ayam (rebus dahulu)--2 bh wortel--...</td>\n",
       "      <td>Tumis bawang sampai wangi.. lalu masukkan air....</td>\n",
       "      <td>0</td>\n",
       "      <td>/id/resep/4421553-sop-ceker-ayam-sederhana-enak</td>\n",
       "    </tr>\n",
       "    <tr>\n",
       "      <th>164</th>\n",
       "      <td>Sayap Ayam (Saus) Margarin</td>\n",
       "      <td>8 buah sayap ayam, cuci bersih--1/2 buah bawan...</td>\n",
       "      <td>Lumuri ayam dengan garam dan air jeruk. Diamka...</td>\n",
       "      <td>40</td>\n",
       "      <td>/id/resep/4464925-sayap-ayam-saus-margarin</td>\n",
       "    </tr>\n",
       "    <tr>\n",
       "      <th>1831</th>\n",
       "      <td>Sapo Tahu (Tofu) Ayam</td>\n",
       "      <td>50 gr ayam fillet, cuci bersih iris dadu tipis...</td>\n",
       "      <td>Panaskan 1 sdm minyak goreng, tumis bawang put...</td>\n",
       "      <td>8</td>\n",
       "      <td>/id/resep/4320445-sapo-tahu-tofu-ayam</td>\n",
       "    </tr>\n",
       "    <tr>\n",
       "      <th>1803</th>\n",
       "      <td>Rosemary Chicken (easy)</td>\n",
       "      <td>2 fillet dada ayam--2 siung bawang putih (halu...</td>\n",
       "      <td>Balur dada ayam dengan air perasan lemon, gara...</td>\n",
       "      <td>5</td>\n",
       "      <td>/id/resep/4322792-rosemary-chicken-easy</td>\n",
       "    </tr>\n",
       "    <tr>\n",
       "      <th>1343</th>\n",
       "      <td>Oseng kulit ayam (debm)</td>\n",
       "      <td>150 gram kulit ayam--1 buah bawang bombai iris...</td>\n",
       "      <td>Panaskan teflon,masukan kulit ayam lalu oseng2...</td>\n",
       "      <td>11</td>\n",
       "      <td>/id/resep/4360814-oseng-kulit-ayam-debm</td>\n",
       "    </tr>\n",
       "    <tr>\n",
       "      <th>1665</th>\n",
       "      <td>Mie (Kwetiaw) Ayam Jamur</td>\n",
       "      <td>🐔 Bumbu Halus, blender pakai minyak :--2 bh ke...</td>\n",
       "      <td>Buat minyaknya : masukkan semua bahan.--Hingga...</td>\n",
       "      <td>6</td>\n",
       "      <td>/id/resep/4334113-mie-kwetiaw-ayam-jamur</td>\n",
       "    </tr>\n",
       "    <tr>\n",
       "      <th>1465</th>\n",
       "      <td>Chicken Fajita (easy)</td>\n",
       "      <td>2 fillet dada ayam--1/4 bawang bombay (iris ti...</td>\n",
       "      <td>Iris dada ayam memanjang dengan ketebalan 1-2c...</td>\n",
       "      <td>16</td>\n",
       "      <td>/id/resep/4355058-chicken-fajita-easy</td>\n",
       "    </tr>\n",
       "    <tr>\n",
       "      <th>1112</th>\n",
       "      <td>Ayam suwir teriyaki(manis)</td>\n",
       "      <td>Ayam potong (saya bagian paha potong jadi 4)--...</td>\n",
       "      <td>Cuci daging ayam dna rebus daging smpe stengah...</td>\n",
       "      <td>14</td>\n",
       "      <td>/id/resep/4376614-ayam-suwir-teriyakimanis</td>\n",
       "    </tr>\n",
       "    <tr>\n",
       "      <th>702</th>\n",
       "      <td>Ayam saus asam manis (koloke)</td>\n",
       "      <td>2 buah dada ayam fillet--1 butir telur--1/2 bu...</td>\n",
       "      <td>Fillet ayam dipotong ukuran dadu lalu di beri ...</td>\n",
       "      <td>2</td>\n",
       "      <td>/id/resep/4424111-ayam-saus-asam-manis-koloke</td>\n",
       "    </tr>\n",
       "    <tr>\n",
       "      <th>1829</th>\n",
       "      <td>Ayam bakar bumbu kecap (teflon)</td>\n",
       "      <td>10 potong kecil daging ayam (1/2 ekor ayam)--a...</td>\n",
       "      <td>Siapkan bahan. Cuci bersih ayam kemudian lumir...</td>\n",
       "      <td>80</td>\n",
       "      <td>/id/resep/4236188-ayam-bakar-bumbu-kecap-teflon</td>\n",
       "    </tr>\n",
       "    <tr>\n",
       "      <th>260</th>\n",
       "      <td>Ayam Yakiniku(tumis)</td>\n",
       "      <td>4 ptg dada ayam(dagingnya saja)--1 buah lemon(...</td>\n",
       "      <td>Bersihkan ayam rendam sebentar pakai lemon kem...</td>\n",
       "      <td>9</td>\n",
       "      <td>/id/resep/4340380-ayam-yakinikutumis</td>\n",
       "    </tr>\n",
       "    <tr>\n",
       "      <th>610</th>\n",
       "      <td>Ayam Suwir Kecap (pedas)</td>\n",
       "      <td>1/2 kg daging ayam bagian dada--5 bawang merah...</td>\n",
       "      <td>Rebus daging ayam, tiriskan, goreng sebentar. ...</td>\n",
       "      <td>2</td>\n",
       "      <td>/id/resep/4433608-ayam-suwir-kecap-pedas</td>\n",
       "    </tr>\n",
       "    <tr>\n",
       "      <th>1833</th>\n",
       "      <td>Ayam Goreng Kuning (Ungkepan)</td>\n",
       "      <td>1 kg ayam--secukupnya Air utk merebus--Minyak ...</td>\n",
       "      <td>Tumis bumbu halus hingga harum dan matang.--Ma...</td>\n",
       "      <td>16</td>\n",
       "      <td>/id/resep/4261801-ayam-goreng-kuning-ungkepan</td>\n",
       "    </tr>\n",
       "    <tr>\n",
       "      <th>329</th>\n",
       "      <td>Vegetable-etti (sphagetti) with tuna saos mayo</td>\n",
       "      <td>1/2 labu siam (labu hijau), rebus--1 wortel ke...</td>\n",
       "      <td>Campur wortel dan kol dengan air rebusan labu ...</td>\n",
       "      <td>7</td>\n",
       "      <td>/id/resep/4417024-vegetable-etti-sphagetti-wit...</td>\n",
       "    </tr>\n",
       "    <tr>\n",
       "      <th>1048</th>\n",
       "      <td>Tuna kaleng telor saos schezuan (DEBM)</td>\n",
       "      <td>Tuna kaleng dalam minyak me: merk Maya--1 buti...</td>\n",
       "      <td>Iris cabe ijo dan bawang putih sesuai selera a...</td>\n",
       "      <td>6</td>\n",
       "      <td>/id/resep/4253104-tuna-kaleng-telor-saos-schez...</td>\n",
       "    </tr>\n",
       "    <tr>\n",
       "      <th>112</th>\n",
       "      <td>Tongkol suwir (pampis) asem manis</td>\n",
       "      <td>2 ikan tongkol basah--6 bawang merah--2 bawang...</td>\n",
       "      <td>Cuci bersih ikan tongkol, beri perasan jeruk n...</td>\n",
       "      <td>2</td>\n",
       "      <td>/id/resep/4460085-tongkol-suwir-pampis-asem-manis</td>\n",
       "    </tr>\n",
       "    <tr>\n",
       "      <th>96</th>\n",
       "      <td>Tomyam (jawa) ikan patin sederhana dan praktis</td>\n",
       "      <td>1 kg ikan patin potong sesuai selera--10 bh bl...</td>\n",
       "      <td>Cuci bersih ikan patin lalu lumuri dgn air jer...</td>\n",
       "      <td>5</td>\n",
       "      <td>/id/resep/4461708-tomyam-jawa-ikan-patin-seder...</td>\n",
       "    </tr>\n",
       "    <tr>\n",
       "      <th>820</th>\n",
       "      <td>Telur panggang tuna keju (microwave) DEBM</td>\n",
       "      <td>1 butir telur rebus, dicincang kasar--1 sdm tu...</td>\n",
       "      <td>Campur semua bahan, aduk rata.--Tuang ke dalam...</td>\n",
       "      <td>5</td>\n",
       "      <td>/id/resep/4313349-telur-panggang-tuna-keju-mic...</td>\n",
       "    </tr>\n",
       "    <tr>\n",
       "      <th>1173</th>\n",
       "      <td>Suwir cakalan (tongkol) simple 😊</td>\n",
       "      <td>Ikan cakalan asap (disuwir\")--Bumbu halus:--Ba...</td>\n",
       "      <td>Goreng ikan yang sdah di suwir.. Sampai agak k...</td>\n",
       "      <td>1</td>\n",
       "      <td>/id/resep/4236905-suwir-cakalan-tongkol-simple...</td>\n",
       "    </tr>\n",
       "    <tr>\n",
       "      <th>346</th>\n",
       "      <td>Sup tulang salmon tomat ala lucy's(megicom)</td>\n",
       "      <td>6 potong tulang salmon--3 bawang putih--1 toma...</td>\n",
       "      <td>Besih kn tulang ikan salmonya dan potong2 bawa...</td>\n",
       "      <td>0</td>\n",
       "      <td>/id/resep/4411100-sup-tulang-salmon-tomat-ala-...</td>\n",
       "    </tr>\n",
       "  </tbody>\n",
       "</table>\n",
       "</div>"
      ],
      "text/plain": [
       "                                               Title  \\\n",
       "741                  Sop ceker ayam sederhana (enak)   \n",
       "164                       Sayap Ayam (Saus) Margarin   \n",
       "1831                           Sapo Tahu (Tofu) Ayam   \n",
       "1803                         Rosemary Chicken (easy)   \n",
       "1343                         Oseng kulit ayam (debm)   \n",
       "1665                        Mie (Kwetiaw) Ayam Jamur   \n",
       "1465                           Chicken Fajita (easy)   \n",
       "1112                      Ayam suwir teriyaki(manis)   \n",
       "702                    Ayam saus asam manis (koloke)   \n",
       "1829                 Ayam bakar bumbu kecap (teflon)   \n",
       "260                             Ayam Yakiniku(tumis)   \n",
       "610                         Ayam Suwir Kecap (pedas)   \n",
       "1833                   Ayam Goreng Kuning (Ungkepan)   \n",
       "329   Vegetable-etti (sphagetti) with tuna saos mayo   \n",
       "1048          Tuna kaleng telor saos schezuan (DEBM)   \n",
       "112                Tongkol suwir (pampis) asem manis   \n",
       "96    Tomyam (jawa) ikan patin sederhana dan praktis   \n",
       "820        Telur panggang tuna keju (microwave) DEBM   \n",
       "1173                Suwir cakalan (tongkol) simple 😊   \n",
       "346      Sup tulang salmon tomat ala lucy's(megicom)   \n",
       "\n",
       "                                            Ingredients  \\\n",
       "741   10 bh ceker ayam (rebus dahulu)--2 bh wortel--...   \n",
       "164   8 buah sayap ayam, cuci bersih--1/2 buah bawan...   \n",
       "1831  50 gr ayam fillet, cuci bersih iris dadu tipis...   \n",
       "1803  2 fillet dada ayam--2 siung bawang putih (halu...   \n",
       "1343  150 gram kulit ayam--1 buah bawang bombai iris...   \n",
       "1665  🐔 Bumbu Halus, blender pakai minyak :--2 bh ke...   \n",
       "1465  2 fillet dada ayam--1/4 bawang bombay (iris ti...   \n",
       "1112  Ayam potong (saya bagian paha potong jadi 4)--...   \n",
       "702   2 buah dada ayam fillet--1 butir telur--1/2 bu...   \n",
       "1829  10 potong kecil daging ayam (1/2 ekor ayam)--a...   \n",
       "260   4 ptg dada ayam(dagingnya saja)--1 buah lemon(...   \n",
       "610   1/2 kg daging ayam bagian dada--5 bawang merah...   \n",
       "1833  1 kg ayam--secukupnya Air utk merebus--Minyak ...   \n",
       "329   1/2 labu siam (labu hijau), rebus--1 wortel ke...   \n",
       "1048  Tuna kaleng dalam minyak me: merk Maya--1 buti...   \n",
       "112   2 ikan tongkol basah--6 bawang merah--2 bawang...   \n",
       "96    1 kg ikan patin potong sesuai selera--10 bh bl...   \n",
       "820   1 butir telur rebus, dicincang kasar--1 sdm tu...   \n",
       "1173  Ikan cakalan asap (disuwir\")--Bumbu halus:--Ba...   \n",
       "346   6 potong tulang salmon--3 bawang putih--1 toma...   \n",
       "\n",
       "                                                  Steps  Loves  \\\n",
       "741   Tumis bawang sampai wangi.. lalu masukkan air....      0   \n",
       "164   Lumuri ayam dengan garam dan air jeruk. Diamka...     40   \n",
       "1831  Panaskan 1 sdm minyak goreng, tumis bawang put...      8   \n",
       "1803  Balur dada ayam dengan air perasan lemon, gara...      5   \n",
       "1343  Panaskan teflon,masukan kulit ayam lalu oseng2...     11   \n",
       "1665  Buat minyaknya : masukkan semua bahan.--Hingga...      6   \n",
       "1465  Iris dada ayam memanjang dengan ketebalan 1-2c...     16   \n",
       "1112  Cuci daging ayam dna rebus daging smpe stengah...     14   \n",
       "702   Fillet ayam dipotong ukuran dadu lalu di beri ...      2   \n",
       "1829  Siapkan bahan. Cuci bersih ayam kemudian lumir...     80   \n",
       "260   Bersihkan ayam rendam sebentar pakai lemon kem...      9   \n",
       "610   Rebus daging ayam, tiriskan, goreng sebentar. ...      2   \n",
       "1833  Tumis bumbu halus hingga harum dan matang.--Ma...     16   \n",
       "329   Campur wortel dan kol dengan air rebusan labu ...      7   \n",
       "1048  Iris cabe ijo dan bawang putih sesuai selera a...      6   \n",
       "112   Cuci bersih ikan tongkol, beri perasan jeruk n...      2   \n",
       "96    Cuci bersih ikan patin lalu lumuri dgn air jer...      5   \n",
       "820   Campur semua bahan, aduk rata.--Tuang ke dalam...      5   \n",
       "1173  Goreng ikan yang sdah di suwir.. Sampai agak k...      1   \n",
       "346   Besih kn tulang ikan salmonya dan potong2 bawa...      0   \n",
       "\n",
       "                                                    URL  \n",
       "741     /id/resep/4421553-sop-ceker-ayam-sederhana-enak  \n",
       "164          /id/resep/4464925-sayap-ayam-saus-margarin  \n",
       "1831              /id/resep/4320445-sapo-tahu-tofu-ayam  \n",
       "1803            /id/resep/4322792-rosemary-chicken-easy  \n",
       "1343            /id/resep/4360814-oseng-kulit-ayam-debm  \n",
       "1665           /id/resep/4334113-mie-kwetiaw-ayam-jamur  \n",
       "1465              /id/resep/4355058-chicken-fajita-easy  \n",
       "1112         /id/resep/4376614-ayam-suwir-teriyakimanis  \n",
       "702       /id/resep/4424111-ayam-saus-asam-manis-koloke  \n",
       "1829    /id/resep/4236188-ayam-bakar-bumbu-kecap-teflon  \n",
       "260                /id/resep/4340380-ayam-yakinikutumis  \n",
       "610            /id/resep/4433608-ayam-suwir-kecap-pedas  \n",
       "1833      /id/resep/4261801-ayam-goreng-kuning-ungkepan  \n",
       "329   /id/resep/4417024-vegetable-etti-sphagetti-wit...  \n",
       "1048  /id/resep/4253104-tuna-kaleng-telor-saos-schez...  \n",
       "112   /id/resep/4460085-tongkol-suwir-pampis-asem-manis  \n",
       "96    /id/resep/4461708-tomyam-jawa-ikan-patin-seder...  \n",
       "820   /id/resep/4313349-telur-panggang-tuna-keju-mic...  \n",
       "1173  /id/resep/4236905-suwir-cakalan-tongkol-simple...  \n",
       "346   /id/resep/4411100-sup-tulang-salmon-tomat-ala-...  "
      ]
     },
     "execution_count": 911,
     "metadata": {},
     "output_type": "execute_result"
    }
   ],
   "source": [
    "# Mengambil contoh dengan ()\n",
    "pattern = r'(\\(\\w+\\))'\n",
    "withBrackets = allDf[allDf['Title'].str.contains(pattern)]\n",
    "withBrackets.head(20)"
   ]
  },
  {
   "cell_type": "code",
   "execution_count": 912,
   "metadata": {},
   "outputs": [],
   "source": [
    "unusedSentences = ['enak', 'easy', 'debm', 'DEBM', 'pampis', 'jawa', 'microwave', 'megicom', 'mudah', 'Pais', 'pr_homemadestreetfood', \n",
    "                   'batita', 'Pamarrasan', 'simple', 'teflon', 'terbang', 'torong', 'kalimantan', 'SUMATRA', 'harisah', 'dhobi', 'praktis'\n",
    "                   'sederhana', 'rumahan', 'uenakk', 'recook', 'memprul', 'simpel', 'HK', 'pr_asianfood', 'gulai', 'sapi', 'PR_pasta'\n",
    "                   '牛丼', 'gyudon', 'T3', '3T', 'hancur', 'tahbucang', 'Lokio', 'KTT', 'jakerta', 'ulatek', 'coklat', 'BTW', '8m'\n",
    "                   'PR_recookmasakanawalanT', 'sehat', 'Ketopad_CP_SavorySnack', 'TTT', 'TTBB', 'gembos', 'instan', 'nanas', '3S'\n",
    "                   'Diet', 'Emak Roisyah', 'NO MSG', ' Manis', 'diet tnp minyak, tnp garam gula', 'ala anak kuliahan', 'Simple n Hot👅']\n",
    "\n",
    "def clean_title(title):\n",
    "    # Mencocokkan pola tanda kurung dan isinya\n",
    "    for word in unusedSentences:\n",
    "        delPattern = rf'(\\(({word})?\\d*\\))'\n",
    "        match = re.search(delPattern, title)\n",
    "        if match:\n",
    "            title = title.replace(match.group(), \"\")  # Mengganti teks yang cocok dengan string kosong\n",
    "            title = re.sub(r'\\s{2,}', ' ', title)\n",
    "        else:\n",
    "            title = re.sub(r'[\\(\\)]+', '', title)\n",
    "    return title.strip()\n",
    "\n",
    "allDf['Title'] = allDf['Title'].apply(clean_title)"
   ]
  },
  {
   "cell_type": "code",
   "execution_count": 913,
   "metadata": {},
   "outputs": [
    {
     "data": {
      "text/html": [
       "<div>\n",
       "<style scoped>\n",
       "    .dataframe tbody tr th:only-of-type {\n",
       "        vertical-align: middle;\n",
       "    }\n",
       "\n",
       "    .dataframe tbody tr th {\n",
       "        vertical-align: top;\n",
       "    }\n",
       "\n",
       "    .dataframe thead th {\n",
       "        text-align: right;\n",
       "    }\n",
       "</style>\n",
       "<table border=\"1\" class=\"dataframe\">\n",
       "  <thead>\n",
       "    <tr style=\"text-align: right;\">\n",
       "      <th></th>\n",
       "      <th>Title</th>\n",
       "      <th>Ingredients</th>\n",
       "      <th>Steps</th>\n",
       "      <th>Loves</th>\n",
       "      <th>URL</th>\n",
       "    </tr>\n",
       "  </thead>\n",
       "  <tbody>\n",
       "    <tr>\n",
       "      <th>1831</th>\n",
       "      <td>Sapo Tahu Tofu Ayam</td>\n",
       "      <td>50 gr ayam fillet, cuci bersih iris dadu tipis...</td>\n",
       "      <td>Panaskan 1 sdm minyak goreng, tumis bawang put...</td>\n",
       "      <td>8</td>\n",
       "      <td>/id/resep/4320445-sapo-tahu-tofu-ayam</td>\n",
       "    </tr>\n",
       "    <tr>\n",
       "      <th>992</th>\n",
       "      <td>Sapo Tahu Tofu Ayam</td>\n",
       "      <td>50 gr ayam fillet, cuci bersih iris dadu tipis...</td>\n",
       "      <td>Panaskan 1 sdm minyak goreng, tumis bawang put...</td>\n",
       "      <td>8</td>\n",
       "      <td>/id/resep/4320445-sapo-tahu-tofu-ayam</td>\n",
       "    </tr>\n",
       "  </tbody>\n",
       "</table>\n",
       "</div>"
      ],
      "text/plain": [
       "                    Title                                        Ingredients  \\\n",
       "1831  Sapo Tahu Tofu Ayam  50 gr ayam fillet, cuci bersih iris dadu tipis...   \n",
       "992   Sapo Tahu Tofu Ayam  50 gr ayam fillet, cuci bersih iris dadu tipis...   \n",
       "\n",
       "                                                  Steps  Loves  \\\n",
       "1831  Panaskan 1 sdm minyak goreng, tumis bawang put...      8   \n",
       "992   Panaskan 1 sdm minyak goreng, tumis bawang put...      8   \n",
       "\n",
       "                                        URL  \n",
       "1831  /id/resep/4320445-sapo-tahu-tofu-ayam  \n",
       "992   /id/resep/4320445-sapo-tahu-tofu-ayam  "
      ]
     },
     "execution_count": 913,
     "metadata": {},
     "output_type": "execute_result"
    }
   ],
   "source": [
    "allDf[allDf['Title'] == 'Sapo Tahu Tofu Ayam']"
   ]
  },
  {
   "cell_type": "code",
   "execution_count": 914,
   "metadata": {},
   "outputs": [
    {
     "data": {
      "text/html": [
       "<div>\n",
       "<style scoped>\n",
       "    .dataframe tbody tr th:only-of-type {\n",
       "        vertical-align: middle;\n",
       "    }\n",
       "\n",
       "    .dataframe tbody tr th {\n",
       "        vertical-align: top;\n",
       "    }\n",
       "\n",
       "    .dataframe thead th {\n",
       "        text-align: right;\n",
       "    }\n",
       "</style>\n",
       "<table border=\"1\" class=\"dataframe\">\n",
       "  <thead>\n",
       "    <tr style=\"text-align: right;\">\n",
       "      <th></th>\n",
       "      <th>Title</th>\n",
       "      <th>Ingredients</th>\n",
       "      <th>Steps</th>\n",
       "      <th>Loves</th>\n",
       "      <th>URL</th>\n",
       "    </tr>\n",
       "  </thead>\n",
       "  <tbody>\n",
       "    <tr>\n",
       "      <th>1574</th>\n",
       "      <td>Masak Ayam ala Vietnam_1</td>\n",
       "      <td>400 gram dada ayam fillet--1 siung bawang puti...</td>\n",
       "      <td>Sediakan semua bahan terlebih dahulu biar ngga...</td>\n",
       "      <td>0</td>\n",
       "      <td>/id/resep/4350252-masak-ayam-ala-vietnam_1</td>\n",
       "    </tr>\n",
       "    <tr>\n",
       "      <th>1331</th>\n",
       "      <td>Ayam Kecap Asam Manis _recookSariUtamiKimdonghwa</td>\n",
       "      <td>500 gr ayam, saya pake paha bagian bawah--bumb...</td>\n",
       "      <td>Tumis bawang putih dan jahe sampai harum, tamb...</td>\n",
       "      <td>32</td>\n",
       "      <td>/id/resep/4362429-ayam-kecap-asam-manis-bandun...</td>\n",
       "    </tr>\n",
       "    <tr>\n",
       "      <th>1839</th>\n",
       "      <td>Pecel lele homemadepr_homemadestreetfood</td>\n",
       "      <td>5 ekor lele--Bumbu:--10 buah cabe rawit--7 bua...</td>\n",
       "      <td>Cuci bersih ikan,siangi lalu beri bumbu(lagi g...</td>\n",
       "      <td>9</td>\n",
       "      <td>/id/resep/4012432-pecel-lele-homemadepr_homema...</td>\n",
       "    </tr>\n",
       "    <tr>\n",
       "      <th>1097</th>\n",
       "      <td>Bola Bola Rendang Kambing Hot Spesial in_Cooking</td>\n",
       "      <td>250 gram daging kambing, cincang halus, buat b...</td>\n",
       "      <td>Cincang daging, buat bulatan kecil. Sisihkan.-...</td>\n",
       "      <td>3</td>\n",
       "      <td>/id/resep/967190-bola-bola-rendang-kambing-hot...</td>\n",
       "    </tr>\n",
       "    <tr>\n",
       "      <th>1070</th>\n",
       "      <td>3_MARAK LAHMA Sop Kambing Arab Tanpa Santan</td>\n",
       "      <td>1/2 kg daging kambing--2 iris nanas sebagai pe...</td>\n",
       "      <td>Siapkan daging kambing, cuci bersih. Rebus air...</td>\n",
       "      <td>42</td>\n",
       "      <td>/id/resep/973515-3_marak-lahma-sop-kambing-ara...</td>\n",
       "    </tr>\n",
       "    <tr>\n",
       "      <th>895</th>\n",
       "      <td>10_MAHSHOOS LAHMA rendang kambing Arab</td>\n",
       "      <td>1 kg Daging kambing, beserta tulang dan lemakn...</td>\n",
       "      <td>Daging kambing potong2, pisahkan lemaknya, sis...</td>\n",
       "      <td>17</td>\n",
       "      <td>/id/resep/1786713-10_mahshoos-lahma-rendang-ka...</td>\n",
       "    </tr>\n",
       "    <tr>\n",
       "      <th>46</th>\n",
       "      <td>Tongseng daging sapi by adilly_kitchen</td>\n",
       "      <td>1/4 daging sapi--1/2 buah kol (iris kasar)--2 ...</td>\n",
       "      <td>Pertama2 iris daging tipis2, lalu rebus terleb...</td>\n",
       "      <td>16</td>\n",
       "      <td>/id/resep/4401109-tongseng-daging-sapi-by-adil...</td>\n",
       "    </tr>\n",
       "    <tr>\n",
       "      <th>1298</th>\n",
       "      <td>Japchae with beef korean noodle 🍝 pr_asianfood</td>\n",
       "      <td>200 g bihun/soun seduh air panas--200 g daging...</td>\n",
       "      <td>Marinated daging sapi dgn 2 siung bawang putih...</td>\n",
       "      <td>195</td>\n",
       "      <td>/id/resep/3626986-japchae-with-beef-korean-noo...</td>\n",
       "    </tr>\n",
       "    <tr>\n",
       "      <th>462</th>\n",
       "      <td>Beef barbeque praktis PR_pasta</td>\n",
       "      <td>Secukupnya pettucine la ponte--2 siung bawang ...</td>\n",
       "      <td>Rebus pettucine tambah minyak sedikit smpai ma...</td>\n",
       "      <td>0</td>\n",
       "      <td>/id/resep/4042118-beef-barbeque-praktis-pr_pasta</td>\n",
       "    </tr>\n",
       "    <tr>\n",
       "      <th>1751</th>\n",
       "      <td>Tempe goreng telur PR_recookmasakanawalanT</td>\n",
       "      <td>1 papan tempe--1 telor ayam besar--2 sdm trigu...</td>\n",
       "      <td>Kukus tempe sd matang dan iris2 bentuk stik pa...</td>\n",
       "      <td>32</td>\n",
       "      <td>/id/resep/3934727-tempe-goreng-telur-pr_recook...</td>\n",
       "    </tr>\n",
       "    <tr>\n",
       "      <th>1759</th>\n",
       "      <td>Telor dadar ala RM Padang PR_recookmasakanawalanT</td>\n",
       "      <td>4 telor--4 sdm klapa parut sangrai dulu--2 sdm...</td>\n",
       "      <td>Campur semua bahan,lalu aduk rata, ga usah dik...</td>\n",
       "      <td>129</td>\n",
       "      <td>/id/resep/3928636-telor-dadar-ala-rm-padang-pr...</td>\n",
       "    </tr>\n",
       "    <tr>\n",
       "      <th>1175</th>\n",
       "      <td>Rica_rica ati ampela campur telor</td>\n",
       "      <td>3 butir telor--5 ati ampela--bumbu:--3 siung b...</td>\n",
       "      <td>Rebus telur hingga matang, kupas sisihkan..--C...</td>\n",
       "      <td>6</td>\n",
       "      <td>/id/resep/4042110-rica_rica-ati-ampela-campur-...</td>\n",
       "    </tr>\n",
       "    <tr>\n",
       "      <th>1908</th>\n",
       "      <td>Macaroni telur saos baso sosispr_ pasta</td>\n",
       "      <td>50 gr macaroni--1/2 bawang bombay--1 btg daun ...</td>\n",
       "      <td>Rebus macaroni sebentar tiriskan lalu kocok te...</td>\n",
       "      <td>2</td>\n",
       "      <td>/id/resep/3896746-macaroni-telur-saos-baso-sos...</td>\n",
       "    </tr>\n",
       "    <tr>\n",
       "      <th>1326</th>\n",
       "      <td>Egg and Beef Casserole Ketopad_CP_SavorySnack</td>\n",
       "      <td>10 butir telor ayam--250 gr daging cincang--1 ...</td>\n",
       "      <td>Pecahkan telor. Pastikan telor dalam keadaan f...</td>\n",
       "      <td>104</td>\n",
       "      <td>/id/resep/4014255-egg-and-beef-casserole-ketop...</td>\n",
       "    </tr>\n",
       "    <tr>\n",
       "      <th>1047</th>\n",
       "      <td>Tempe mendoan by adilly_kitchen</td>\n",
       "      <td>4 sdm tepung terigu--1 batang daun bawang--1 p...</td>\n",
       "      <td>Pertama2 siapkan adonan mendoan. Siapkan wadah...</td>\n",
       "      <td>3</td>\n",
       "      <td>/id/resep/4237253-tempe-mendoan-by-adilly_kitchen</td>\n",
       "    </tr>\n",
       "    <tr>\n",
       "      <th>541</th>\n",
       "      <td>Kerupuk tempe _ bunda miko</td>\n",
       "      <td>2 bungkus tempe yang belum jadi--200 gr tapiòk...</td>\n",
       "      <td>Campur tempe yang belum jadi dengan tapioka hi...</td>\n",
       "      <td>4</td>\n",
       "      <td>/id/resep/4361917-kerupuk-tempe-_-bunda-miko</td>\n",
       "    </tr>\n",
       "    <tr>\n",
       "      <th>1452</th>\n",
       "      <td>Tempe udang balado tanpa msgpr_recookmasakanaw...</td>\n",
       "      <td>1 buah tempe--1/4 kg udang--1/2 ons cabe--4 bu...</td>\n",
       "      <td>Potong2 tempe sesuai selera,lalu goreng.sisihk...</td>\n",
       "      <td>2</td>\n",
       "      <td>/id/resep/3934783-tempe-udang-balado-tanpa-msg...</td>\n",
       "    </tr>\n",
       "    <tr>\n",
       "      <th>1870</th>\n",
       "      <td>Nasi goreng seefood_udang_pete</td>\n",
       "      <td>secukupnya udang--4 siung pete--6 siung bawang...</td>\n",
       "      <td>Haluskan semua bumbu (cabai, bawang merah, baw...</td>\n",
       "      <td>3</td>\n",
       "      <td>/id/resep/3823072-nasi-goreng-seefood_udang_pete</td>\n",
       "    </tr>\n",
       "    <tr>\n",
       "      <th>37</th>\n",
       "      <td>Cah buncis udang cumi _ menudiet DEBM</td>\n",
       "      <td>250 gram buncis--5 ekor udang--5 ekor cumi--1 ...</td>\n",
       "      <td>Bersihkan buncis potong2. Bersih kan udang dan...</td>\n",
       "      <td>5</td>\n",
       "      <td>/id/resep/4466199-cah-buncis-udang-cumi-_-menu...</td>\n",
       "    </tr>\n",
       "  </tbody>\n",
       "</table>\n",
       "</div>"
      ],
      "text/plain": [
       "                                                  Title  \\\n",
       "1574                           Masak Ayam ala Vietnam_1   \n",
       "1331   Ayam Kecap Asam Manis _recookSariUtamiKimdonghwa   \n",
       "1839           Pecel lele homemadepr_homemadestreetfood   \n",
       "1097   Bola Bola Rendang Kambing Hot Spesial in_Cooking   \n",
       "1070        3_MARAK LAHMA Sop Kambing Arab Tanpa Santan   \n",
       "895              10_MAHSHOOS LAHMA rendang kambing Arab   \n",
       "46               Tongseng daging sapi by adilly_kitchen   \n",
       "1298     Japchae with beef korean noodle 🍝 pr_asianfood   \n",
       "462                      Beef barbeque praktis PR_pasta   \n",
       "1751         Tempe goreng telur PR_recookmasakanawalanT   \n",
       "1759  Telor dadar ala RM Padang PR_recookmasakanawalanT   \n",
       "1175                  Rica_rica ati ampela campur telor   \n",
       "1908            Macaroni telur saos baso sosispr_ pasta   \n",
       "1326      Egg and Beef Casserole Ketopad_CP_SavorySnack   \n",
       "1047                    Tempe mendoan by adilly_kitchen   \n",
       "541                          Kerupuk tempe _ bunda miko   \n",
       "1452  Tempe udang balado tanpa msgpr_recookmasakanaw...   \n",
       "1870                     Nasi goreng seefood_udang_pete   \n",
       "37                Cah buncis udang cumi _ menudiet DEBM   \n",
       "\n",
       "                                            Ingredients  \\\n",
       "1574  400 gram dada ayam fillet--1 siung bawang puti...   \n",
       "1331  500 gr ayam, saya pake paha bagian bawah--bumb...   \n",
       "1839  5 ekor lele--Bumbu:--10 buah cabe rawit--7 bua...   \n",
       "1097  250 gram daging kambing, cincang halus, buat b...   \n",
       "1070  1/2 kg daging kambing--2 iris nanas sebagai pe...   \n",
       "895   1 kg Daging kambing, beserta tulang dan lemakn...   \n",
       "46    1/4 daging sapi--1/2 buah kol (iris kasar)--2 ...   \n",
       "1298  200 g bihun/soun seduh air panas--200 g daging...   \n",
       "462   Secukupnya pettucine la ponte--2 siung bawang ...   \n",
       "1751  1 papan tempe--1 telor ayam besar--2 sdm trigu...   \n",
       "1759  4 telor--4 sdm klapa parut sangrai dulu--2 sdm...   \n",
       "1175  3 butir telor--5 ati ampela--bumbu:--3 siung b...   \n",
       "1908  50 gr macaroni--1/2 bawang bombay--1 btg daun ...   \n",
       "1326  10 butir telor ayam--250 gr daging cincang--1 ...   \n",
       "1047  4 sdm tepung terigu--1 batang daun bawang--1 p...   \n",
       "541   2 bungkus tempe yang belum jadi--200 gr tapiòk...   \n",
       "1452  1 buah tempe--1/4 kg udang--1/2 ons cabe--4 bu...   \n",
       "1870  secukupnya udang--4 siung pete--6 siung bawang...   \n",
       "37    250 gram buncis--5 ekor udang--5 ekor cumi--1 ...   \n",
       "\n",
       "                                                  Steps  Loves  \\\n",
       "1574  Sediakan semua bahan terlebih dahulu biar ngga...      0   \n",
       "1331  Tumis bawang putih dan jahe sampai harum, tamb...     32   \n",
       "1839  Cuci bersih ikan,siangi lalu beri bumbu(lagi g...      9   \n",
       "1097  Cincang daging, buat bulatan kecil. Sisihkan.-...      3   \n",
       "1070  Siapkan daging kambing, cuci bersih. Rebus air...     42   \n",
       "895   Daging kambing potong2, pisahkan lemaknya, sis...     17   \n",
       "46    Pertama2 iris daging tipis2, lalu rebus terleb...     16   \n",
       "1298  Marinated daging sapi dgn 2 siung bawang putih...    195   \n",
       "462   Rebus pettucine tambah minyak sedikit smpai ma...      0   \n",
       "1751  Kukus tempe sd matang dan iris2 bentuk stik pa...     32   \n",
       "1759  Campur semua bahan,lalu aduk rata, ga usah dik...    129   \n",
       "1175  Rebus telur hingga matang, kupas sisihkan..--C...      6   \n",
       "1908  Rebus macaroni sebentar tiriskan lalu kocok te...      2   \n",
       "1326  Pecahkan telor. Pastikan telor dalam keadaan f...    104   \n",
       "1047  Pertama2 siapkan adonan mendoan. Siapkan wadah...      3   \n",
       "541   Campur tempe yang belum jadi dengan tapioka hi...      4   \n",
       "1452  Potong2 tempe sesuai selera,lalu goreng.sisihk...      2   \n",
       "1870  Haluskan semua bumbu (cabai, bawang merah, baw...      3   \n",
       "37    Bersihkan buncis potong2. Bersih kan udang dan...      5   \n",
       "\n",
       "                                                    URL  \n",
       "1574         /id/resep/4350252-masak-ayam-ala-vietnam_1  \n",
       "1331  /id/resep/4362429-ayam-kecap-asam-manis-bandun...  \n",
       "1839  /id/resep/4012432-pecel-lele-homemadepr_homema...  \n",
       "1097  /id/resep/967190-bola-bola-rendang-kambing-hot...  \n",
       "1070  /id/resep/973515-3_marak-lahma-sop-kambing-ara...  \n",
       "895   /id/resep/1786713-10_mahshoos-lahma-rendang-ka...  \n",
       "46    /id/resep/4401109-tongseng-daging-sapi-by-adil...  \n",
       "1298  /id/resep/3626986-japchae-with-beef-korean-noo...  \n",
       "462    /id/resep/4042118-beef-barbeque-praktis-pr_pasta  \n",
       "1751  /id/resep/3934727-tempe-goreng-telur-pr_recook...  \n",
       "1759  /id/resep/3928636-telor-dadar-ala-rm-padang-pr...  \n",
       "1175  /id/resep/4042110-rica_rica-ati-ampela-campur-...  \n",
       "1908  /id/resep/3896746-macaroni-telur-saos-baso-sos...  \n",
       "1326  /id/resep/4014255-egg-and-beef-casserole-ketop...  \n",
       "1047  /id/resep/4237253-tempe-mendoan-by-adilly_kitchen  \n",
       "541        /id/resep/4361917-kerupuk-tempe-_-bunda-miko  \n",
       "1452  /id/resep/3934783-tempe-udang-balado-tanpa-msg...  \n",
       "1870   /id/resep/3823072-nasi-goreng-seefood_udang_pete  \n",
       "37    /id/resep/4466199-cah-buncis-udang-cumi-_-menu...  "
      ]
     },
     "execution_count": 914,
     "metadata": {},
     "output_type": "execute_result"
    }
   ],
   "source": [
    "# Mengambil contoh dengan _\n",
    "pattern = r'\\w*_\\w*'\n",
    "withUnder = allDf[allDf['Title'].str.contains(pattern)]\n",
    "withUnder"
   ]
  },
  {
   "cell_type": "code",
   "execution_count": 915,
   "metadata": {},
   "outputs": [
    {
     "data": {
      "text/plain": [
       "'Tempe udang balado tanpa msgpr_recookmasakanawalanT'"
      ]
     },
     "execution_count": 915,
     "metadata": {},
     "output_type": "execute_result"
    }
   ],
   "source": [
    "withUnder.Title.iloc[-3]"
   ]
  },
  {
   "cell_type": "code",
   "execution_count": 916,
   "metadata": {},
   "outputs": [],
   "source": [
    "keptWords = ['Rica_rica', 'seefood_udang_pete']\n",
    "\n",
    "def clean_underscore(title):\n",
    "    # Mengganti kata-kata tertentu yang ingin Anda pertahankan\n",
    "    for word in keptWords:\n",
    "        if word in title:\n",
    "            title = title.replace('_', ' ')\n",
    "    \n",
    "    # Melakukan penghapusan jika ada kecocokan baru setelah penghapusan kata-kata tertentu yang ingin Anda pertahankan\n",
    "    match = re.search(pattern, title)\n",
    "    if match:\n",
    "        title = title.replace(match.group(), \"\")  # Mengganti teks yang cocok dengan string kosong\n",
    "        title = re.sub(r'\\s{2,}', ' ', title)\n",
    "    return title.strip()\n",
    "\n",
    "# Contoh penggunaan pada kolom 'Title' dari DataFrame 'allDf'\n",
    "allDf['Title'] = allDf['Title'].apply(clean_underscore)"
   ]
  },
  {
   "cell_type": "code",
   "execution_count": 917,
   "metadata": {},
   "outputs": [
    {
     "data": {
      "text/html": [
       "<div>\n",
       "<style scoped>\n",
       "    .dataframe tbody tr th:only-of-type {\n",
       "        vertical-align: middle;\n",
       "    }\n",
       "\n",
       "    .dataframe tbody tr th {\n",
       "        vertical-align: top;\n",
       "    }\n",
       "\n",
       "    .dataframe thead th {\n",
       "        text-align: right;\n",
       "    }\n",
       "</style>\n",
       "<table border=\"1\" class=\"dataframe\">\n",
       "  <thead>\n",
       "    <tr style=\"text-align: right;\">\n",
       "      <th></th>\n",
       "      <th>Title</th>\n",
       "      <th>Ingredients</th>\n",
       "      <th>Steps</th>\n",
       "      <th>Loves</th>\n",
       "      <th>URL</th>\n",
       "    </tr>\n",
       "  </thead>\n",
       "  <tbody>\n",
       "    <tr>\n",
       "      <th>1326</th>\n",
       "      <td>Egg and Beef Casserole</td>\n",
       "      <td>10 butir telor ayam--250 gr daging cincang--1 ...</td>\n",
       "      <td>Pecahkan telor. Pastikan telor dalam keadaan f...</td>\n",
       "      <td>104</td>\n",
       "      <td>/id/resep/4014255-egg-and-beef-casserole-ketop...</td>\n",
       "    </tr>\n",
       "  </tbody>\n",
       "</table>\n",
       "</div>"
      ],
      "text/plain": [
       "                       Title  \\\n",
       "1326  Egg and Beef Casserole   \n",
       "\n",
       "                                            Ingredients  \\\n",
       "1326  10 butir telor ayam--250 gr daging cincang--1 ...   \n",
       "\n",
       "                                                  Steps  Loves  \\\n",
       "1326  Pecahkan telor. Pastikan telor dalam keadaan f...    104   \n",
       "\n",
       "                                                    URL  \n",
       "1326  /id/resep/4014255-egg-and-beef-casserole-ketop...  "
      ]
     },
     "execution_count": 917,
     "metadata": {},
     "output_type": "execute_result"
    }
   ],
   "source": [
    "# Cek hasilnya\n",
    "allDf[allDf['Title'] == 'Egg and Beef Casserole']"
   ]
  }
 ],
 "metadata": {
  "kernelspec": {
   "display_name": "terapan",
   "language": "python",
   "name": "python3"
  },
  "language_info": {
   "codemirror_mode": {
    "name": "ipython",
    "version": 3
   },
   "file_extension": ".py",
   "mimetype": "text/x-python",
   "name": "python",
   "nbconvert_exporter": "python",
   "pygments_lexer": "ipython3",
   "version": "3.12.2"
  }
 },
 "nbformat": 4,
 "nbformat_minor": 2
}
