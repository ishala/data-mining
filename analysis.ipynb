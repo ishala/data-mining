{
 "cells": [
  {
   "cell_type": "code",
   "execution_count": 278,
   "metadata": {},
   "outputs": [],
   "source": [
    "import pandas as pd\n",
    "import numpy as np\n",
    "import re"
   ]
  },
  {
   "cell_type": "markdown",
   "metadata": {},
   "source": [
    "# Data Aquitition\n"
   ]
  },
  {
   "cell_type": "code",
   "execution_count": 279,
   "metadata": {},
   "outputs": [],
   "source": [
    "chickenData = pd.read_csv('data/dataset-ayam.csv')\n",
    "fishData = pd.read_csv('data/dataset-ikan.csv')\n",
    "goatData = pd.read_csv('data/dataset-kambing.csv')\n",
    "cowData = pd.read_csv('data/dataset-sapi.csv')\n",
    "tahuData = pd.read_csv('data/dataset-tahu.csv')\n",
    "eggData = pd.read_csv('data/dataset-telur.csv')\n",
    "tempeData = pd.read_csv('data/dataset-tempe.csv')\n",
    "shrimpData = pd.read_csv('data/dataset-udang.csv')"
   ]
  },
  {
   "cell_type": "code",
   "execution_count": 280,
   "metadata": {},
   "outputs": [
    {
     "data": {
      "text/html": [
       "<div>\n",
       "<style scoped>\n",
       "    .dataframe tbody tr th:only-of-type {\n",
       "        vertical-align: middle;\n",
       "    }\n",
       "\n",
       "    .dataframe tbody tr th {\n",
       "        vertical-align: top;\n",
       "    }\n",
       "\n",
       "    .dataframe thead th {\n",
       "        text-align: right;\n",
       "    }\n",
       "</style>\n",
       "<table border=\"1\" class=\"dataframe\">\n",
       "  <thead>\n",
       "    <tr style=\"text-align: right;\">\n",
       "      <th></th>\n",
       "      <th>Title</th>\n",
       "      <th>Ingredients</th>\n",
       "      <th>Steps</th>\n",
       "      <th>Loves</th>\n",
       "      <th>URL</th>\n",
       "    </tr>\n",
       "  </thead>\n",
       "  <tbody>\n",
       "    <tr>\n",
       "      <th>0</th>\n",
       "      <td>Ayam Woku Manado</td>\n",
       "      <td>1 Ekor Ayam Kampung (potong 12)--2 Buah Jeruk ...</td>\n",
       "      <td>Cuci bersih ayam dan tiriskan. Lalu peras jeru...</td>\n",
       "      <td>1</td>\n",
       "      <td>/id/resep/4473027-ayam-woku-manado</td>\n",
       "    </tr>\n",
       "    <tr>\n",
       "      <th>1</th>\n",
       "      <td>Ayam goreng tulang lunak</td>\n",
       "      <td>1 kg ayam (dipotong sesuai selera jangan kecil...</td>\n",
       "      <td>Haluskan bumbu2nya (BaPut, ketumbar, kemiri, k...</td>\n",
       "      <td>1</td>\n",
       "      <td>/id/resep/4471956-ayam-goreng-tulang-lunak</td>\n",
       "    </tr>\n",
       "    <tr>\n",
       "      <th>2</th>\n",
       "      <td>Ayam cabai kawin</td>\n",
       "      <td>1/4 kg ayam--3 buah cabai hijau besar--7 buah ...</td>\n",
       "      <td>Panaskan minyak di dalam wajan. Setelah minyak...</td>\n",
       "      <td>2</td>\n",
       "      <td>/id/resep/4473057-ayam-cabai-kawin</td>\n",
       "    </tr>\n",
       "    <tr>\n",
       "      <th>3</th>\n",
       "      <td>Ayam Geprek</td>\n",
       "      <td>250 gr daging ayam (saya pakai fillet)--Secuku...</td>\n",
       "      <td>Goreng ayam seperti ayam krispi--Ulek semua ba...</td>\n",
       "      <td>10</td>\n",
       "      <td>/id/resep/4473023-ayam-geprek</td>\n",
       "    </tr>\n",
       "    <tr>\n",
       "      <th>4</th>\n",
       "      <td>Minyak Ayam</td>\n",
       "      <td>400 gr kulit ayam &amp; lemaknya--8 siung bawang p...</td>\n",
       "      <td>Cuci bersih kulit ayam. Sisihkan--Ambil 50 ml ...</td>\n",
       "      <td>4</td>\n",
       "      <td>/id/resep/4427438-minyak-ayam</td>\n",
       "    </tr>\n",
       "  </tbody>\n",
       "</table>\n",
       "</div>"
      ],
      "text/plain": [
       "                      Title  \\\n",
       "0          Ayam Woku Manado   \n",
       "1  Ayam goreng tulang lunak   \n",
       "2          Ayam cabai kawin   \n",
       "3               Ayam Geprek   \n",
       "4               Minyak Ayam   \n",
       "\n",
       "                                         Ingredients  \\\n",
       "0  1 Ekor Ayam Kampung (potong 12)--2 Buah Jeruk ...   \n",
       "1  1 kg ayam (dipotong sesuai selera jangan kecil...   \n",
       "2  1/4 kg ayam--3 buah cabai hijau besar--7 buah ...   \n",
       "3  250 gr daging ayam (saya pakai fillet)--Secuku...   \n",
       "4  400 gr kulit ayam & lemaknya--8 siung bawang p...   \n",
       "\n",
       "                                               Steps  Loves  \\\n",
       "0  Cuci bersih ayam dan tiriskan. Lalu peras jeru...      1   \n",
       "1  Haluskan bumbu2nya (BaPut, ketumbar, kemiri, k...      1   \n",
       "2  Panaskan minyak di dalam wajan. Setelah minyak...      2   \n",
       "3  Goreng ayam seperti ayam krispi--Ulek semua ba...     10   \n",
       "4  Cuci bersih kulit ayam. Sisihkan--Ambil 50 ml ...      4   \n",
       "\n",
       "                                          URL  \n",
       "0          /id/resep/4473027-ayam-woku-manado  \n",
       "1  /id/resep/4471956-ayam-goreng-tulang-lunak  \n",
       "2          /id/resep/4473057-ayam-cabai-kawin  \n",
       "3               /id/resep/4473023-ayam-geprek  \n",
       "4               /id/resep/4427438-minyak-ayam  "
      ]
     },
     "execution_count": 280,
     "metadata": {},
     "output_type": "execute_result"
    }
   ],
   "source": [
    "chickenData.head()"
   ]
  },
  {
   "cell_type": "markdown",
   "metadata": {},
   "source": [
    "# Data Assessing and Cleaning"
   ]
  },
  {
   "cell_type": "markdown",
   "metadata": {},
   "source": [
    "## Fungsi-Fungsi"
   ]
  },
  {
   "cell_type": "markdown",
   "metadata": {},
   "source": [
    "### Hapus Data Duplikat"
   ]
  },
  {
   "cell_type": "code",
   "execution_count": 281,
   "metadata": {},
   "outputs": [],
   "source": [
    "def deleteDuplicates(df):\n",
    "    dfSorted = df.sort_values(by=['Title', 'Loves'], ascending=[False, False])\n",
    "\n",
    "    cleanedDf = dfSorted.drop_duplicates(subset='Title', keep='first')\n",
    "    \n",
    "    return cleanedDf"
   ]
  },
  {
   "cell_type": "markdown",
   "metadata": {},
   "source": [
    "## Ayam"
   ]
  },
  {
   "cell_type": "markdown",
   "metadata": {},
   "source": [
    "### Cek Informasi"
   ]
  },
  {
   "cell_type": "code",
   "execution_count": 282,
   "metadata": {},
   "outputs": [
    {
     "name": "stdout",
     "output_type": "stream",
     "text": [
      "(1916, 5)\n",
      "<class 'pandas.core.frame.DataFrame'>\n",
      "RangeIndex: 1916 entries, 0 to 1915\n",
      "Data columns (total 5 columns):\n",
      " #   Column       Non-Null Count  Dtype \n",
      "---  ------       --------------  ----- \n",
      " 0   Title        1916 non-null   object\n",
      " 1   Ingredients  1901 non-null   object\n",
      " 2   Steps        1901 non-null   object\n",
      " 3   Loves        1916 non-null   int64 \n",
      " 4   URL          1916 non-null   object\n",
      "dtypes: int64(1), object(4)\n",
      "memory usage: 75.0+ KB\n",
      "None\n"
     ]
    }
   ],
   "source": [
    "print(chickenData.shape)\n",
    "print(chickenData.info())"
   ]
  },
  {
   "cell_type": "markdown",
   "metadata": {},
   "source": [
    "Ada nilai null di kolom **ingredients** dan **steps**"
   ]
  },
  {
   "cell_type": "markdown",
   "metadata": {},
   "source": [
    "### Hapus Nilai Null"
   ]
  },
  {
   "cell_type": "code",
   "execution_count": 283,
   "metadata": {},
   "outputs": [
    {
     "data": {
      "text/html": [
       "<div>\n",
       "<style scoped>\n",
       "    .dataframe tbody tr th:only-of-type {\n",
       "        vertical-align: middle;\n",
       "    }\n",
       "\n",
       "    .dataframe tbody tr th {\n",
       "        vertical-align: top;\n",
       "    }\n",
       "\n",
       "    .dataframe thead th {\n",
       "        text-align: right;\n",
       "    }\n",
       "</style>\n",
       "<table border=\"1\" class=\"dataframe\">\n",
       "  <thead>\n",
       "    <tr style=\"text-align: right;\">\n",
       "      <th></th>\n",
       "      <th>Title</th>\n",
       "      <th>Ingredients</th>\n",
       "      <th>Steps</th>\n",
       "      <th>Loves</th>\n",
       "      <th>URL</th>\n",
       "    </tr>\n",
       "  </thead>\n",
       "  <tbody>\n",
       "    <tr>\n",
       "      <th>255</th>\n",
       "      <td>[Notitle]</td>\n",
       "      <td>NaN</td>\n",
       "      <td>NaN</td>\n",
       "      <td>0</td>\n",
       "      <td>/id/resep/4459283-ayam-bakar</td>\n",
       "    </tr>\n",
       "    <tr>\n",
       "      <th>258</th>\n",
       "      <td>[Notitle]</td>\n",
       "      <td>NaN</td>\n",
       "      <td>NaN</td>\n",
       "      <td>0</td>\n",
       "      <td>/id/resep/4458951-sate-ayam-maknyusss</td>\n",
       "    </tr>\n",
       "    <tr>\n",
       "      <th>298</th>\n",
       "      <td>[Notitle]</td>\n",
       "      <td>NaN</td>\n",
       "      <td>NaN</td>\n",
       "      <td>0</td>\n",
       "      <td>/id/resep/4454787-garang-asam-ayam-kampung</td>\n",
       "    </tr>\n",
       "    <tr>\n",
       "      <th>302</th>\n",
       "      <td>[Notitle]</td>\n",
       "      <td>NaN</td>\n",
       "      <td>NaN</td>\n",
       "      <td>0</td>\n",
       "      <td>/id/resep/4454903-ayam-kremes</td>\n",
       "    </tr>\n",
       "    <tr>\n",
       "      <th>464</th>\n",
       "      <td>[Notitle]</td>\n",
       "      <td>NaN</td>\n",
       "      <td>NaN</td>\n",
       "      <td>0</td>\n",
       "      <td>/id/resep/4444134-ayam-balado-simple</td>\n",
       "    </tr>\n",
       "    <tr>\n",
       "      <th>521</th>\n",
       "      <td>[Notitle]</td>\n",
       "      <td>NaN</td>\n",
       "      <td>NaN</td>\n",
       "      <td>0</td>\n",
       "      <td>/id/resep/4442538-perkedel-ayam</td>\n",
       "    </tr>\n",
       "    <tr>\n",
       "      <th>523</th>\n",
       "      <td>[Notitle]</td>\n",
       "      <td>NaN</td>\n",
       "      <td>NaN</td>\n",
       "      <td>0</td>\n",
       "      <td>/id/resep/4442319-chicken-wings-saos-mentega</td>\n",
       "    </tr>\n",
       "    <tr>\n",
       "      <th>524</th>\n",
       "      <td>[Notitle]</td>\n",
       "      <td>NaN</td>\n",
       "      <td>NaN</td>\n",
       "      <td>0</td>\n",
       "      <td>/id/resep/4442267-ayam-sambal-ijo</td>\n",
       "    </tr>\n",
       "    <tr>\n",
       "      <th>835</th>\n",
       "      <td>[Notitle]</td>\n",
       "      <td>NaN</td>\n",
       "      <td>NaN</td>\n",
       "      <td>0</td>\n",
       "      <td>/id/resep/4410020-ayam-terriyaki</td>\n",
       "    </tr>\n",
       "    <tr>\n",
       "      <th>849</th>\n",
       "      <td>[Notitle]</td>\n",
       "      <td>NaN</td>\n",
       "      <td>NaN</td>\n",
       "      <td>0</td>\n",
       "      <td>/id/resep/4409498-mie-ayam-homemade-ala-mama-n...</td>\n",
       "    </tr>\n",
       "    <tr>\n",
       "      <th>850</th>\n",
       "      <td>[Notitle]</td>\n",
       "      <td>NaN</td>\n",
       "      <td>NaN</td>\n",
       "      <td>0</td>\n",
       "      <td>/id/resep/4409320-salted-egg-yolk-chicken-simp...</td>\n",
       "    </tr>\n",
       "    <tr>\n",
       "      <th>933</th>\n",
       "      <td>[Notitle]</td>\n",
       "      <td>NaN</td>\n",
       "      <td>NaN</td>\n",
       "      <td>0</td>\n",
       "      <td>/id/resep/4396883-ayam-rw</td>\n",
       "    </tr>\n",
       "    <tr>\n",
       "      <th>1079</th>\n",
       "      <td>[Notitle]</td>\n",
       "      <td>NaN</td>\n",
       "      <td>NaN</td>\n",
       "      <td>0</td>\n",
       "      <td>/id/resep/4377584-mi-ayam</td>\n",
       "    </tr>\n",
       "    <tr>\n",
       "      <th>1314</th>\n",
       "      <td>[Notitle]</td>\n",
       "      <td>NaN</td>\n",
       "      <td>NaN</td>\n",
       "      <td>0</td>\n",
       "      <td>/id/resep/4363996-ayam-gocap-goreng-kecap</td>\n",
       "    </tr>\n",
       "    <tr>\n",
       "      <th>1799</th>\n",
       "      <td>[Notitle]</td>\n",
       "      <td>NaN</td>\n",
       "      <td>NaN</td>\n",
       "      <td>0</td>\n",
       "      <td>/id/resep/4324179-sup-ceker-ayam</td>\n",
       "    </tr>\n",
       "  </tbody>\n",
       "</table>\n",
       "</div>"
      ],
      "text/plain": [
       "          Title Ingredients Steps  Loves  \\\n",
       "255   [Notitle]         NaN   NaN      0   \n",
       "258   [Notitle]         NaN   NaN      0   \n",
       "298   [Notitle]         NaN   NaN      0   \n",
       "302   [Notitle]         NaN   NaN      0   \n",
       "464   [Notitle]         NaN   NaN      0   \n",
       "521   [Notitle]         NaN   NaN      0   \n",
       "523   [Notitle]         NaN   NaN      0   \n",
       "524   [Notitle]         NaN   NaN      0   \n",
       "835   [Notitle]         NaN   NaN      0   \n",
       "849   [Notitle]         NaN   NaN      0   \n",
       "850   [Notitle]         NaN   NaN      0   \n",
       "933   [Notitle]         NaN   NaN      0   \n",
       "1079  [Notitle]         NaN   NaN      0   \n",
       "1314  [Notitle]         NaN   NaN      0   \n",
       "1799  [Notitle]         NaN   NaN      0   \n",
       "\n",
       "                                                    URL  \n",
       "255                        /id/resep/4459283-ayam-bakar  \n",
       "258               /id/resep/4458951-sate-ayam-maknyusss  \n",
       "298          /id/resep/4454787-garang-asam-ayam-kampung  \n",
       "302                       /id/resep/4454903-ayam-kremes  \n",
       "464                /id/resep/4444134-ayam-balado-simple  \n",
       "521                     /id/resep/4442538-perkedel-ayam  \n",
       "523        /id/resep/4442319-chicken-wings-saos-mentega  \n",
       "524                   /id/resep/4442267-ayam-sambal-ijo  \n",
       "835                    /id/resep/4410020-ayam-terriyaki  \n",
       "849   /id/resep/4409498-mie-ayam-homemade-ala-mama-n...  \n",
       "850   /id/resep/4409320-salted-egg-yolk-chicken-simp...  \n",
       "933                           /id/resep/4396883-ayam-rw  \n",
       "1079                          /id/resep/4377584-mi-ayam  \n",
       "1314          /id/resep/4363996-ayam-gocap-goreng-kecap  \n",
       "1799                   /id/resep/4324179-sup-ceker-ayam  "
      ]
     },
     "execution_count": 283,
     "metadata": {},
     "output_type": "execute_result"
    }
   ],
   "source": [
    "# Cek nilai null data ayam\n",
    "chickenNull = chickenData[chickenData.isnull().any(axis=1)]\n",
    "chickenNull"
   ]
  },
  {
   "cell_type": "code",
   "execution_count": 284,
   "metadata": {},
   "outputs": [
    {
     "data": {
      "text/plain": [
       "(1901, 5)"
      ]
     },
     "execution_count": 284,
     "metadata": {},
     "output_type": "execute_result"
    }
   ],
   "source": [
    "# Hapus Nilai Null\n",
    "chickenData.dropna(inplace=True)\n",
    "chickenData.shape"
   ]
  },
  {
   "cell_type": "markdown",
   "metadata": {},
   "source": [
    "### Duplikat"
   ]
  },
  {
   "cell_type": "markdown",
   "metadata": {},
   "source": [
    "Terdapat nilai duplikat pada kolom **Title**, karena ingin mengambil data yang benar-benar unggul saja dari segi rating"
   ]
  },
  {
   "cell_type": "code",
   "execution_count": 285,
   "metadata": {},
   "outputs": [
    {
     "name": "stdout",
     "output_type": "stream",
     "text": [
      "293\n"
     ]
    }
   ],
   "source": [
    "# Cek banyak data duplikat kolom title\n",
    "dupChickenTitle = chickenData.duplicated(subset=['Title'])\n",
    "dupChickenTitle = chickenData[dupChickenTitle]\n",
    "print(len(dupChickenTitle))\n",
    "\n",
    "# Hapus Data Duplikat\n",
    "cleanedChicken = deleteDuplicates(chickenData)"
   ]
  },
  {
   "cell_type": "code",
   "execution_count": 286,
   "metadata": {},
   "outputs": [
    {
     "data": {
      "text/plain": [
       "(1608, 5)"
      ]
     },
     "execution_count": 286,
     "metadata": {},
     "output_type": "execute_result"
    }
   ],
   "source": [
    "cleanedChicken.shape"
   ]
  },
  {
   "cell_type": "markdown",
   "metadata": {},
   "source": [
    "## Ikan"
   ]
  },
  {
   "cell_type": "markdown",
   "metadata": {},
   "source": [
    "### Cek Informasi"
   ]
  },
  {
   "cell_type": "code",
   "execution_count": 287,
   "metadata": {},
   "outputs": [
    {
     "name": "stdout",
     "output_type": "stream",
     "text": [
      "(1932, 5)\n",
      "<class 'pandas.core.frame.DataFrame'>\n",
      "RangeIndex: 1932 entries, 0 to 1931\n",
      "Data columns (total 5 columns):\n",
      " #   Column       Non-Null Count  Dtype \n",
      "---  ------       --------------  ----- \n",
      " 0   Title        1932 non-null   object\n",
      " 1   Ingredients  1932 non-null   object\n",
      " 2   Steps        1932 non-null   object\n",
      " 3   Loves        1932 non-null   int64 \n",
      " 4   URL          1932 non-null   object\n",
      "dtypes: int64(1), object(4)\n",
      "memory usage: 75.6+ KB\n",
      "None\n"
     ]
    }
   ],
   "source": [
    "print(fishData.shape)\n",
    "print(fishData.info())"
   ]
  },
  {
   "cell_type": "markdown",
   "metadata": {},
   "source": [
    "Sudah tidak ada nilai null, perlu pengecekan nilai duplikat pada kolom **Title**."
   ]
  },
  {
   "cell_type": "markdown",
   "metadata": {},
   "source": [
    "### Duplikat"
   ]
  },
  {
   "cell_type": "markdown",
   "metadata": {},
   "source": [
    "Terdapat nilai duplikat pada kolom **Title**."
   ]
  },
  {
   "cell_type": "code",
   "execution_count": 288,
   "metadata": {},
   "outputs": [
    {
     "name": "stdout",
     "output_type": "stream",
     "text": [
      "131\n",
      "1801\n"
     ]
    }
   ],
   "source": [
    "# Cek banyak duplikat kolom Title\n",
    "dupFishTitle = fishData.duplicated(subset=['Title'])\n",
    "dupFishTitle = fishData[dupFishTitle]\n",
    "print(len(dupFishTitle))\n",
    "\n",
    "cleanedFish = deleteDuplicates(fishData)\n",
    "print(len(cleanedFish))"
   ]
  },
  {
   "cell_type": "markdown",
   "metadata": {},
   "source": [
    "## Kambing"
   ]
  },
  {
   "cell_type": "code",
   "execution_count": 289,
   "metadata": {},
   "outputs": [
    {
     "name": "stdout",
     "output_type": "stream",
     "text": [
      "(1896, 5)\n",
      "<class 'pandas.core.frame.DataFrame'>\n",
      "RangeIndex: 1896 entries, 0 to 1895\n",
      "Data columns (total 5 columns):\n",
      " #   Column       Non-Null Count  Dtype \n",
      "---  ------       --------------  ----- \n",
      " 0   Title        1896 non-null   object\n",
      " 1   Ingredients  1883 non-null   object\n",
      " 2   Steps        1883 non-null   object\n",
      " 3   Loves        1896 non-null   int64 \n",
      " 4   URL          1896 non-null   object\n",
      "dtypes: int64(1), object(4)\n",
      "memory usage: 74.2+ KB\n",
      "None\n"
     ]
    }
   ],
   "source": [
    "print(goatData.shape)\n",
    "print(goatData.info())"
   ]
  },
  {
   "cell_type": "markdown",
   "metadata": {},
   "source": [
    "Masih ada nilai null pada kolom **Ingredients** dan **Steps**. Dan juga perlu dicek nilai duplikat di kolom **Title**."
   ]
  },
  {
   "cell_type": "markdown",
   "metadata": {},
   "source": [
    "### Hapus Nilai Null"
   ]
  },
  {
   "cell_type": "code",
   "execution_count": 290,
   "metadata": {},
   "outputs": [
    {
     "data": {
      "text/plain": [
       "(1883, 5)"
      ]
     },
     "execution_count": 290,
     "metadata": {},
     "output_type": "execute_result"
    }
   ],
   "source": [
    "# Hapus Nilai Null\n",
    "goatData.dropna(inplace=True)\n",
    "goatData.shape"
   ]
  },
  {
   "cell_type": "markdown",
   "metadata": {},
   "source": [
    "### Duplikat"
   ]
  },
  {
   "cell_type": "code",
   "execution_count": 291,
   "metadata": {},
   "outputs": [
    {
     "name": "stdout",
     "output_type": "stream",
     "text": [
      "382\n"
     ]
    },
    {
     "data": {
      "text/plain": [
       "(1501, 5)"
      ]
     },
     "execution_count": 291,
     "metadata": {},
     "output_type": "execute_result"
    }
   ],
   "source": [
    "dupGoatTitle = goatData.duplicated(subset=['Title'])\n",
    "dupGoatTitle = goatData[dupGoatTitle]\n",
    "print(len(dupGoatTitle))\n",
    "\n",
    "# Hapus Data Duplikat\n",
    "cleanedGoat = deleteDuplicates(goatData)\n",
    "cleanedGoat.shape"
   ]
  },
  {
   "cell_type": "markdown",
   "metadata": {},
   "source": [
    "## Sapi"
   ]
  },
  {
   "cell_type": "code",
   "execution_count": 292,
   "metadata": {},
   "outputs": [
    {
     "name": "stdout",
     "output_type": "stream",
     "text": [
      "(1958, 5)\n",
      "<class 'pandas.core.frame.DataFrame'>\n",
      "RangeIndex: 1958 entries, 0 to 1957\n",
      "Data columns (total 5 columns):\n",
      " #   Column       Non-Null Count  Dtype \n",
      "---  ------       --------------  ----- \n",
      " 0   Title        1958 non-null   object\n",
      " 1   Ingredients  1942 non-null   object\n",
      " 2   Steps        1942 non-null   object\n",
      " 3   Loves        1958 non-null   int64 \n",
      " 4   URL          1958 non-null   object\n",
      "dtypes: int64(1), object(4)\n",
      "memory usage: 76.6+ KB\n",
      "None\n"
     ]
    }
   ],
   "source": [
    "print(cowData.shape)\n",
    "print(cowData.info())"
   ]
  },
  {
   "cell_type": "markdown",
   "metadata": {},
   "source": [
    "Masih ada nilai null pada kolom **Ingredients** dan **Steps**. Dan juga perlu dicek nilai duplikat di kolom **Title**."
   ]
  },
  {
   "cell_type": "markdown",
   "metadata": {},
   "source": [
    "### Hapus Nilai Null"
   ]
  },
  {
   "cell_type": "code",
   "execution_count": 293,
   "metadata": {},
   "outputs": [
    {
     "data": {
      "text/plain": [
       "(1942, 5)"
      ]
     },
     "execution_count": 293,
     "metadata": {},
     "output_type": "execute_result"
    }
   ],
   "source": [
    "# Hapus Nilai Null\n",
    "cowData.dropna(inplace=True)\n",
    "cowData.shape"
   ]
  },
  {
   "cell_type": "markdown",
   "metadata": {},
   "source": [
    "### Duplikat"
   ]
  },
  {
   "cell_type": "code",
   "execution_count": 294,
   "metadata": {},
   "outputs": [
    {
     "name": "stdout",
     "output_type": "stream",
     "text": [
      "402\n"
     ]
    },
    {
     "data": {
      "text/plain": [
       "(1540, 5)"
      ]
     },
     "execution_count": 294,
     "metadata": {},
     "output_type": "execute_result"
    }
   ],
   "source": [
    "dupCowTitle = cowData.duplicated(subset=['Title'])\n",
    "dupCowTitle = cowData[dupCowTitle]\n",
    "print(len(dupCowTitle))\n",
    "\n",
    "# Hapus Data Duplikat\n",
    "cleanedCow = deleteDuplicates(cowData)\n",
    "cleanedCow.shape"
   ]
  },
  {
   "cell_type": "markdown",
   "metadata": {},
   "source": [
    "## Tahu"
   ]
  },
  {
   "cell_type": "code",
   "execution_count": 295,
   "metadata": {},
   "outputs": [
    {
     "name": "stdout",
     "output_type": "stream",
     "text": [
      "(1985, 5)\n",
      "<class 'pandas.core.frame.DataFrame'>\n",
      "RangeIndex: 1985 entries, 0 to 1984\n",
      "Data columns (total 5 columns):\n",
      " #   Column       Non-Null Count  Dtype \n",
      "---  ------       --------------  ----- \n",
      " 0   Title        1985 non-null   object\n",
      " 1   Ingredients  1984 non-null   object\n",
      " 2   Steps        1985 non-null   object\n",
      " 3   Loves        1985 non-null   int64 \n",
      " 4   URL          1985 non-null   object\n",
      "dtypes: int64(1), object(4)\n",
      "memory usage: 77.7+ KB\n",
      "None\n"
     ]
    }
   ],
   "source": [
    "print(tahuData.shape)\n",
    "print(tahuData.info())"
   ]
  },
  {
   "cell_type": "markdown",
   "metadata": {},
   "source": [
    "### Hapus Nilai Null"
   ]
  },
  {
   "cell_type": "code",
   "execution_count": 296,
   "metadata": {},
   "outputs": [
    {
     "data": {
      "text/plain": [
       "(1984, 5)"
      ]
     },
     "execution_count": 296,
     "metadata": {},
     "output_type": "execute_result"
    }
   ],
   "source": [
    "# Hapus Nilai Null\n",
    "tahuData.dropna(inplace=True)\n",
    "tahuData.shape"
   ]
  },
  {
   "cell_type": "markdown",
   "metadata": {},
   "source": [
    "### Duplikat"
   ]
  },
  {
   "cell_type": "code",
   "execution_count": 297,
   "metadata": {},
   "outputs": [
    {
     "name": "stdout",
     "output_type": "stream",
     "text": [
      "317\n"
     ]
    },
    {
     "data": {
      "text/plain": [
       "(1667, 5)"
      ]
     },
     "execution_count": 297,
     "metadata": {},
     "output_type": "execute_result"
    }
   ],
   "source": [
    "dupTahuTitle = tahuData.duplicated(subset=['Title'])\n",
    "dupTahuTitle = tahuData[dupTahuTitle]\n",
    "print(len(dupTahuTitle))\n",
    "\n",
    "# Hapus Data Duplikat\n",
    "cleanedTahu = deleteDuplicates(tahuData)\n",
    "cleanedTahu.shape"
   ]
  },
  {
   "cell_type": "markdown",
   "metadata": {},
   "source": [
    "## Telur"
   ]
  },
  {
   "cell_type": "code",
   "execution_count": 298,
   "metadata": {},
   "outputs": [
    {
     "name": "stdout",
     "output_type": "stream",
     "text": [
      "(1974, 5)\n",
      "<class 'pandas.core.frame.DataFrame'>\n",
      "RangeIndex: 1974 entries, 0 to 1973\n",
      "Data columns (total 5 columns):\n",
      " #   Column       Non-Null Count  Dtype \n",
      "---  ------       --------------  ----- \n",
      " 0   Title        1974 non-null   object\n",
      " 1   Ingredients  1972 non-null   object\n",
      " 2   Steps        1972 non-null   object\n",
      " 3   Loves        1974 non-null   int64 \n",
      " 4   URL          1974 non-null   object\n",
      "dtypes: int64(1), object(4)\n",
      "memory usage: 77.2+ KB\n",
      "None\n"
     ]
    }
   ],
   "source": [
    "print(eggData.shape)\n",
    "print(eggData.info())"
   ]
  },
  {
   "cell_type": "markdown",
   "metadata": {},
   "source": [
    "### Hapus Nilai Null"
   ]
  },
  {
   "cell_type": "code",
   "execution_count": 299,
   "metadata": {},
   "outputs": [
    {
     "data": {
      "text/plain": [
       "(1972, 5)"
      ]
     },
     "execution_count": 299,
     "metadata": {},
     "output_type": "execute_result"
    }
   ],
   "source": [
    "# Hapus Nilai Null\n",
    "eggData.dropna(inplace=True)\n",
    "eggData.shape"
   ]
  },
  {
   "cell_type": "markdown",
   "metadata": {},
   "source": [
    "### Duplikat"
   ]
  },
  {
   "cell_type": "code",
   "execution_count": 300,
   "metadata": {},
   "outputs": [
    {
     "name": "stdout",
     "output_type": "stream",
     "text": [
      "206\n"
     ]
    },
    {
     "data": {
      "text/plain": [
       "(1766, 5)"
      ]
     },
     "execution_count": 300,
     "metadata": {},
     "output_type": "execute_result"
    }
   ],
   "source": [
    "dupEggTitle = eggData.duplicated(subset=['Title'])\n",
    "dupEggTitle = eggData[dupEggTitle]\n",
    "print(len(dupEggTitle))\n",
    "\n",
    "# Hapus Data Duplikat\n",
    "cleanedEgg = deleteDuplicates(eggData)\n",
    "cleanedEgg.shape"
   ]
  },
  {
   "cell_type": "markdown",
   "metadata": {},
   "source": [
    "## Tempe"
   ]
  },
  {
   "cell_type": "code",
   "execution_count": 301,
   "metadata": {},
   "outputs": [
    {
     "name": "stdout",
     "output_type": "stream",
     "text": [
      "(1986, 5)\n",
      "<class 'pandas.core.frame.DataFrame'>\n",
      "RangeIndex: 1986 entries, 0 to 1985\n",
      "Data columns (total 5 columns):\n",
      " #   Column       Non-Null Count  Dtype \n",
      "---  ------       --------------  ----- \n",
      " 0   Title        1986 non-null   object\n",
      " 1   Ingredients  1985 non-null   object\n",
      " 2   Steps        1986 non-null   object\n",
      " 3   Loves        1986 non-null   int64 \n",
      " 4   URL          1986 non-null   object\n",
      "dtypes: int64(1), object(4)\n",
      "memory usage: 77.7+ KB\n",
      "None\n"
     ]
    }
   ],
   "source": [
    "print(tempeData.shape)\n",
    "print(tempeData.info())"
   ]
  },
  {
   "cell_type": "markdown",
   "metadata": {},
   "source": [
    "### Hapus Nilai Null"
   ]
  },
  {
   "cell_type": "code",
   "execution_count": 302,
   "metadata": {},
   "outputs": [
    {
     "data": {
      "text/plain": [
       "(1985, 5)"
      ]
     },
     "execution_count": 302,
     "metadata": {},
     "output_type": "execute_result"
    }
   ],
   "source": [
    "# Hapus Nilai Null\n",
    "tempeData.dropna(inplace=True)\n",
    "tempeData.shape"
   ]
  },
  {
   "cell_type": "markdown",
   "metadata": {},
   "source": [
    "### Duplikat"
   ]
  },
  {
   "cell_type": "code",
   "execution_count": 303,
   "metadata": {},
   "outputs": [
    {
     "name": "stdout",
     "output_type": "stream",
     "text": [
      "398\n"
     ]
    },
    {
     "data": {
      "text/plain": [
       "(1587, 5)"
      ]
     },
     "execution_count": 303,
     "metadata": {},
     "output_type": "execute_result"
    }
   ],
   "source": [
    "dupTempeTitle = tempeData.duplicated(subset=['Title'])\n",
    "dupTempeTitle = tempeData[dupTempeTitle]\n",
    "print(len(dupTempeTitle))\n",
    "\n",
    "# Hapus Data Duplikat\n",
    "cleanedTempe = deleteDuplicates(tempeData)\n",
    "cleanedTempe.shape"
   ]
  },
  {
   "cell_type": "markdown",
   "metadata": {},
   "source": [
    "## Udang"
   ]
  },
  {
   "cell_type": "code",
   "execution_count": 304,
   "metadata": {},
   "outputs": [
    {
     "name": "stdout",
     "output_type": "stream",
     "text": [
      "(1994, 5)\n",
      "<class 'pandas.core.frame.DataFrame'>\n",
      "RangeIndex: 1994 entries, 0 to 1993\n",
      "Data columns (total 5 columns):\n",
      " #   Column       Non-Null Count  Dtype \n",
      "---  ------       --------------  ----- \n",
      " 0   Title        1994 non-null   object\n",
      " 1   Ingredients  1994 non-null   object\n",
      " 2   Steps        1994 non-null   object\n",
      " 3   Loves        1994 non-null   int64 \n",
      " 4   URL          1994 non-null   object\n",
      "dtypes: int64(1), object(4)\n",
      "memory usage: 78.0+ KB\n",
      "None\n"
     ]
    }
   ],
   "source": [
    "print(shrimpData.shape)\n",
    "print(shrimpData.info())"
   ]
  },
  {
   "cell_type": "markdown",
   "metadata": {},
   "source": [
    "### Duplikat"
   ]
  },
  {
   "cell_type": "code",
   "execution_count": 305,
   "metadata": {},
   "outputs": [
    {
     "name": "stdout",
     "output_type": "stream",
     "text": [
      "376\n"
     ]
    },
    {
     "data": {
      "text/plain": [
       "(1618, 5)"
      ]
     },
     "execution_count": 305,
     "metadata": {},
     "output_type": "execute_result"
    }
   ],
   "source": [
    "dupShrimpTitle = shrimpData.duplicated(subset=['Title'])\n",
    "dupShrimpTitle = shrimpData[dupShrimpTitle]\n",
    "print(len(dupShrimpTitle))\n",
    "\n",
    "# Hapus Data Duplikat\n",
    "cleanedShrimp = deleteDuplicates(shrimpData)\n",
    "cleanedShrimp.shape"
   ]
  },
  {
   "cell_type": "markdown",
   "metadata": {},
   "source": [
    "## Menggabungkan Seluruh Data"
   ]
  },
  {
   "cell_type": "code",
   "execution_count": 306,
   "metadata": {},
   "outputs": [
    {
     "name": "stdout",
     "output_type": "stream",
     "text": [
      "(13088, 5)\n"
     ]
    }
   ],
   "source": [
    "dfs = [cleanedChicken, cleanedFish, cleanedGoat, cleanedCow, cleanedTahu, cleanedEgg, cleanedTempe, cleanedShrimp]\n",
    "\n",
    "allDf = pd.concat(dfs)\n",
    "\n",
    "print(allDf.shape)"
   ]
  },
  {
   "cell_type": "code",
   "execution_count": 307,
   "metadata": {},
   "outputs": [
    {
     "data": {
      "text/html": [
       "<div>\n",
       "<style scoped>\n",
       "    .dataframe tbody tr th:only-of-type {\n",
       "        vertical-align: middle;\n",
       "    }\n",
       "\n",
       "    .dataframe tbody tr th {\n",
       "        vertical-align: top;\n",
       "    }\n",
       "\n",
       "    .dataframe thead th {\n",
       "        text-align: right;\n",
       "    }\n",
       "</style>\n",
       "<table border=\"1\" class=\"dataframe\">\n",
       "  <thead>\n",
       "    <tr style=\"text-align: right;\">\n",
       "      <th></th>\n",
       "      <th>Title</th>\n",
       "      <th>Ingredients</th>\n",
       "      <th>Steps</th>\n",
       "      <th>Loves</th>\n",
       "      <th>URL</th>\n",
       "    </tr>\n",
       "  </thead>\n",
       "  <tbody>\n",
       "    <tr>\n",
       "      <th>1363</th>\n",
       "      <td>Mujaer bakar maknyuss</td>\n",
       "      <td>3 buah ikan mujaer lumayan besar--1 btr Jeruk ...</td>\n",
       "      <td>Bersihkan ikan dan beri perasan jeruk nipis--G...</td>\n",
       "      <td>3</td>\n",
       "      <td>/id/resep/4071437-mujaer-bakar-maknyuss</td>\n",
       "    </tr>\n",
       "    <tr>\n",
       "      <th>762</th>\n",
       "      <td>Nasi Goreng kambing a La pawon naylee</td>\n",
       "      <td>1 piring munjung nasi putih--2 butir telur aya...</td>\n",
       "      <td>Ulet halus cabai, duo bawang, garam, gula, lad...</td>\n",
       "      <td>25</td>\n",
       "      <td>/id/resep/2980015-nasi-goreng-kambing-a-la-paw...</td>\n",
       "    </tr>\n",
       "    <tr>\n",
       "      <th>1635</th>\n",
       "      <td>Sop balungan sapi atau tulang sapi</td>\n",
       "      <td>1/2 kg tulang sapi--Secukupnya air--Bumbu halu...</td>\n",
       "      <td>Cuci bersih iga masak sampai mendidih lalu bua...</td>\n",
       "      <td>8</td>\n",
       "      <td>/id/resep/3473494-sop-balungan-sapi-atau-tulan...</td>\n",
       "    </tr>\n",
       "    <tr>\n",
       "      <th>1097</th>\n",
       "      <td>Udang Kemiri</td>\n",
       "      <td>500 gr udang besar--1,5 sdm air jeruk nipis--1...</td>\n",
       "      <td>Bersihkan udang, buang kepala Ϟ gunting sdkt d...</td>\n",
       "      <td>4</td>\n",
       "      <td>/id/resep/3914118-udang-kemiri</td>\n",
       "    </tr>\n",
       "    <tr>\n",
       "      <th>1210</th>\n",
       "      <td>Sumsum sapi kukus</td>\n",
       "      <td>potong Sumsum sapi bersihkan kemudian--Garam--...</td>\n",
       "      <td>Campur semua bahan seperti Sumsum sapi, bawang...</td>\n",
       "      <td>0</td>\n",
       "      <td>/id/resep/3666908-sumsum-sapi-kukus</td>\n",
       "    </tr>\n",
       "    <tr>\n",
       "      <th>1584</th>\n",
       "      <td>Tempe crispy penyet</td>\n",
       "      <td>1 papan tempe, iris dg ketebalan ±1 cm--Bumbu ...</td>\n",
       "      <td>Campur semua bumbu rendaman, masukkan potongan...</td>\n",
       "      <td>5</td>\n",
       "      <td>/id/resep/4008515-tempe-crispy-penyet</td>\n",
       "    </tr>\n",
       "    <tr>\n",
       "      <th>775</th>\n",
       "      <td>Ikan Nila Bumbu Acar Kuning</td>\n",
       "      <td>2 ekor ikan nila--1 ikat kemangi--3 lembar dau...</td>\n",
       "      <td>Cuci bersih ikan lalu bumbui dan goreng sampai...</td>\n",
       "      <td>14</td>\n",
       "      <td>/id/resep/4323652-ikan-nila-bumbu-acar-kuning</td>\n",
       "    </tr>\n",
       "    <tr>\n",
       "      <th>596</th>\n",
       "      <td>Sop daging kambing #kitaberbagi</td>\n",
       "      <td>500 gr daging dan iga kambing--3 lmbr daun sal...</td>\n",
       "      <td>Rebus daging kambing di air yg sudah mendidih ...</td>\n",
       "      <td>5</td>\n",
       "      <td>/id/resep/3272418-sop-daging-kambing-kitaberbagi</td>\n",
       "    </tr>\n",
       "    <tr>\n",
       "      <th>335</th>\n",
       "      <td>Tempe Tahu Kecap Cabe Ijo</td>\n",
       "      <td>250 gr Tempe Potong sesuai selera--4 buah Tahu...</td>\n",
       "      <td>Tumis bawang putih sampai harum kemudian masuk...</td>\n",
       "      <td>1</td>\n",
       "      <td>/id/resep/4433439-tempe-tahu-kecap-cabe-ijo</td>\n",
       "    </tr>\n",
       "    <tr>\n",
       "      <th>465</th>\n",
       "      <td>Garang asam iga sapi</td>\n",
       "      <td>1 kg tulang iga sapi--5 tomat hijau--5 sdm air...</td>\n",
       "      <td>1.Potong tulang iga sapi lalu rebus dengan air...</td>\n",
       "      <td>8</td>\n",
       "      <td>/id/resep/4040022-garang-asam-iga-sapi</td>\n",
       "    </tr>\n",
       "  </tbody>\n",
       "</table>\n",
       "</div>"
      ],
      "text/plain": [
       "                                      Title  \\\n",
       "1363                  Mujaer bakar maknyuss   \n",
       "762   Nasi Goreng kambing a La pawon naylee   \n",
       "1635     Sop balungan sapi atau tulang sapi   \n",
       "1097                           Udang Kemiri   \n",
       "1210                      Sumsum sapi kukus   \n",
       "1584                    Tempe crispy penyet   \n",
       "775             Ikan Nila Bumbu Acar Kuning   \n",
       "596         Sop daging kambing #kitaberbagi   \n",
       "335               Tempe Tahu Kecap Cabe Ijo   \n",
       "465                    Garang asam iga sapi   \n",
       "\n",
       "                                            Ingredients  \\\n",
       "1363  3 buah ikan mujaer lumayan besar--1 btr Jeruk ...   \n",
       "762   1 piring munjung nasi putih--2 butir telur aya...   \n",
       "1635  1/2 kg tulang sapi--Secukupnya air--Bumbu halu...   \n",
       "1097  500 gr udang besar--1,5 sdm air jeruk nipis--1...   \n",
       "1210  potong Sumsum sapi bersihkan kemudian--Garam--...   \n",
       "1584  1 papan tempe, iris dg ketebalan ±1 cm--Bumbu ...   \n",
       "775   2 ekor ikan nila--1 ikat kemangi--3 lembar dau...   \n",
       "596   500 gr daging dan iga kambing--3 lmbr daun sal...   \n",
       "335   250 gr Tempe Potong sesuai selera--4 buah Tahu...   \n",
       "465   1 kg tulang iga sapi--5 tomat hijau--5 sdm air...   \n",
       "\n",
       "                                                  Steps  Loves  \\\n",
       "1363  Bersihkan ikan dan beri perasan jeruk nipis--G...      3   \n",
       "762   Ulet halus cabai, duo bawang, garam, gula, lad...     25   \n",
       "1635  Cuci bersih iga masak sampai mendidih lalu bua...      8   \n",
       "1097  Bersihkan udang, buang kepala Ϟ gunting sdkt d...      4   \n",
       "1210  Campur semua bahan seperti Sumsum sapi, bawang...      0   \n",
       "1584  Campur semua bumbu rendaman, masukkan potongan...      5   \n",
       "775   Cuci bersih ikan lalu bumbui dan goreng sampai...     14   \n",
       "596   Rebus daging kambing di air yg sudah mendidih ...      5   \n",
       "335   Tumis bawang putih sampai harum kemudian masuk...      1   \n",
       "465   1.Potong tulang iga sapi lalu rebus dengan air...      8   \n",
       "\n",
       "                                                    URL  \n",
       "1363            /id/resep/4071437-mujaer-bakar-maknyuss  \n",
       "762   /id/resep/2980015-nasi-goreng-kambing-a-la-paw...  \n",
       "1635  /id/resep/3473494-sop-balungan-sapi-atau-tulan...  \n",
       "1097                     /id/resep/3914118-udang-kemiri  \n",
       "1210                /id/resep/3666908-sumsum-sapi-kukus  \n",
       "1584              /id/resep/4008515-tempe-crispy-penyet  \n",
       "775       /id/resep/4323652-ikan-nila-bumbu-acar-kuning  \n",
       "596    /id/resep/3272418-sop-daging-kambing-kitaberbagi  \n",
       "335         /id/resep/4433439-tempe-tahu-kecap-cabe-ijo  \n",
       "465              /id/resep/4040022-garang-asam-iga-sapi  "
      ]
     },
     "execution_count": 307,
     "metadata": {},
     "output_type": "execute_result"
    }
   ],
   "source": [
    "allDf.sample(10)"
   ]
  },
  {
   "cell_type": "markdown",
   "metadata": {},
   "source": [
    "## Membersihkan Nilai Pada Tiap Kolom"
   ]
  },
  {
   "cell_type": "markdown",
   "metadata": {},
   "source": [
    "### Title\n",
    "\n",
    "Terdapat hal-hal yang perlu dibersihkan pada kolom Title. Yaitu:\n",
    "1. Simbol-simbol\n",
    "   - Hashtag (#), dihapus juga kalimat setelah #\n",
    "   - () kurung\n",
    "   - Underscore (_)\n",
    "   - Plus (+), diganti dengan kata-kata \"dan\"\n",
    "   - Asterisk (*)\n",
    "   - slash (/), diganti dengan kata-kata \"atau\"\n",
    "   - dot (.)\n",
    "   - petik 2 \"\", dan petik 1 ''\n",
    "   - ampersand (&), diganti dengan kata-kata \"dan\".\n",
    "   - \\ dan /\n",
    "2. Emoji\n",
    "3. Angka \n",
    "4. Kata-kata tidak baku, seperti n seharusnya dan\n",
    "5. Penggunaan bahasa asing yang tidak semestinya, ubah jadi bahasa indonesia"
   ]
  },
  {
   "cell_type": "code",
   "execution_count": 308,
   "metadata": {},
   "outputs": [
    {
     "name": "stderr",
     "output_type": "stream",
     "text": [
      "C:\\Users\\legion\\AppData\\Local\\Temp\\ipykernel_6736\\261574271.py:3: UserWarning: This pattern is interpreted as a regular expression, and has match groups. To actually get the groups, use str.extract.\n",
      "  withHashtag = allDf[allDf['Title'].str.contains(pattern)]\n"
     ]
    },
    {
     "data": {
      "text/html": [
       "<div>\n",
       "<style scoped>\n",
       "    .dataframe tbody tr th:only-of-type {\n",
       "        vertical-align: middle;\n",
       "    }\n",
       "\n",
       "    .dataframe tbody tr th {\n",
       "        vertical-align: top;\n",
       "    }\n",
       "\n",
       "    .dataframe thead th {\n",
       "        text-align: right;\n",
       "    }\n",
       "</style>\n",
       "<table border=\"1\" class=\"dataframe\">\n",
       "  <thead>\n",
       "    <tr style=\"text-align: right;\">\n",
       "      <th></th>\n",
       "      <th>Title</th>\n",
       "      <th>Ingredients</th>\n",
       "      <th>Steps</th>\n",
       "      <th>Loves</th>\n",
       "      <th>URL</th>\n",
       "    </tr>\n",
       "  </thead>\n",
       "  <tbody>\n",
       "    <tr>\n",
       "      <th>1230</th>\n",
       "      <td>Tumis sawi ayam potong dadu#ketogenic</td>\n",
       "      <td>1/4 sawi putih besar--1 paha ayam potong dadu-...</td>\n",
       "      <td>Cuci bersih sawi iris2 sesuai selera--Keprek d...</td>\n",
       "      <td>1</td>\n",
       "      <td>/id/resep/4369141-tumis-sawi-ayam-potong-daduk...</td>\n",
       "    </tr>\n",
       "    <tr>\n",
       "      <th>1409</th>\n",
       "      <td>Tumis ayam telur sederhana #homemadebylita</td>\n",
       "      <td>1/4 dada ayam boneless (potong dadu)--1 butir ...</td>\n",
       "      <td>Siapkan semua bahan, marinase ayam kurleb 15 m...</td>\n",
       "      <td>5</td>\n",
       "      <td>/id/resep/4358433-tumis-ayam-telur-sederhana-h...</td>\n",
       "    </tr>\n",
       "    <tr>\n",
       "      <th>1382</th>\n",
       "      <td>Tumis ayam brokoli #Ketopad</td>\n",
       "      <td>250 grm daging ayam--100 grm brokoli--100 grm ...</td>\n",
       "      <td>Cuci ayam yg sdh dipotong2..lumurin dg sdkit c...</td>\n",
       "      <td>22</td>\n",
       "      <td>/id/resep/4359341-tumis-ayam-brokoli-ketopad</td>\n",
       "    </tr>\n",
       "    <tr>\n",
       "      <th>1535</th>\n",
       "      <td>Tumis Kailan Ayam Jamur Berkuah #homemadebylita</td>\n",
       "      <td>Secukupnya kailan (saya sekitar 1/2 bungkus ka...</td>\n",
       "      <td>Siapkan semua bahan--Tumis bawang putih hingga...</td>\n",
       "      <td>6</td>\n",
       "      <td>/id/resep/4352779-tumis-kailan-ayam-jamur-berk...</td>\n",
       "    </tr>\n",
       "    <tr>\n",
       "      <th>254</th>\n",
       "      <td>Tongseng Ayam dengan kuah santan kental yang p...</td>\n",
       "      <td>1/2 ekor ayam--Air--1 Kara--Minyak--Bawang gor...</td>\n",
       "      <td>Cuci bersih ayam, lalu potong sesuai selera..-...</td>\n",
       "      <td>2</td>\n",
       "      <td>/id/resep/4459101-tongseng-ayam-dengan-kuah-sa...</td>\n",
       "    </tr>\n",
       "    <tr>\n",
       "      <th>...</th>\n",
       "      <td>...</td>\n",
       "      <td>...</td>\n",
       "      <td>...</td>\n",
       "      <td>...</td>\n",
       "      <td>...</td>\n",
       "    </tr>\n",
       "    <tr>\n",
       "      <th>599</th>\n",
       "      <td>Gulai udang nanas #khasbangka (2)</td>\n",
       "      <td>450 gram udang ukuran besar--1 buah nanas--Bum...</td>\n",
       "      <td>Cuci bersih udang, kupas kulit sampai habis. L...</td>\n",
       "      <td>14</td>\n",
       "      <td>/id/resep/4284163-gulai-udang-nanas-khasbangka-2</td>\n",
       "    </tr>\n",
       "    <tr>\n",
       "      <th>25</th>\n",
       "      <td>Daun Singkong Pepes Udang Tahu #praktis</td>\n",
       "      <td>★ bumbu halus--7 siung bawang merah--5 siung b...</td>\n",
       "      <td>Panaskan wajan, tumis sebentar udang dan teri ...</td>\n",
       "      <td>6</td>\n",
       "      <td>/id/resep/4469454-daun-singkong-pepes-udang-ta...</td>\n",
       "    </tr>\n",
       "    <tr>\n",
       "      <th>1908</th>\n",
       "      <td>Cah Tahu Tauge Udang Ala Mami #keto_cp_ekitchen</td>\n",
       "      <td>100 GR Udang (boleh jenis apa ajaa)--3 siung B...</td>\n",
       "      <td>Potong brokoli setali dicuci bersih lalu diren...</td>\n",
       "      <td>16</td>\n",
       "      <td>/id/resep/3815779-cah-tahu-tauge-udang-ala-mam...</td>\n",
       "    </tr>\n",
       "    <tr>\n",
       "      <th>497</th>\n",
       "      <td>Baso Udang Homemade (Frozen food) #MpasiUdang</td>\n",
       "      <td>2 Kg udang. Kupas kerat punggung bersigkan kot...</td>\n",
       "      <td>Haluskan bawang putih dengan air dingin. Dalam...</td>\n",
       "      <td>1</td>\n",
       "      <td>/id/resep/4336588-baso-udang-homemade-frozen-f...</td>\n",
       "    </tr>\n",
       "    <tr>\n",
       "      <th>589</th>\n",
       "      <td>(Diet) Mie shirataki brokoli udang jamur worte...</td>\n",
       "      <td>3 keping mie kering shirataki (utk lebi pas bs...</td>\n",
       "      <td>Siapkan semua bahan. Marinasi udang sekitar 15...</td>\n",
       "      <td>7</td>\n",
       "      <td>/id/resep/4288436-diet-mie-shirataki-brokoli-u...</td>\n",
       "    </tr>\n",
       "  </tbody>\n",
       "</table>\n",
       "<p>610 rows × 5 columns</p>\n",
       "</div>"
      ],
      "text/plain": [
       "                                                  Title  \\\n",
       "1230              Tumis sawi ayam potong dadu#ketogenic   \n",
       "1409         Tumis ayam telur sederhana #homemadebylita   \n",
       "1382                        Tumis ayam brokoli #Ketopad   \n",
       "1535    Tumis Kailan Ayam Jamur Berkuah #homemadebylita   \n",
       "254   Tongseng Ayam dengan kuah santan kental yang p...   \n",
       "...                                                 ...   \n",
       "599                   Gulai udang nanas #khasbangka (2)   \n",
       "25              Daun Singkong Pepes Udang Tahu #praktis   \n",
       "1908    Cah Tahu Tauge Udang Ala Mami #keto_cp_ekitchen   \n",
       "497       Baso Udang Homemade (Frozen food) #MpasiUdang   \n",
       "589   (Diet) Mie shirataki brokoli udang jamur worte...   \n",
       "\n",
       "                                            Ingredients  \\\n",
       "1230  1/4 sawi putih besar--1 paha ayam potong dadu-...   \n",
       "1409  1/4 dada ayam boneless (potong dadu)--1 butir ...   \n",
       "1382  250 grm daging ayam--100 grm brokoli--100 grm ...   \n",
       "1535  Secukupnya kailan (saya sekitar 1/2 bungkus ka...   \n",
       "254   1/2 ekor ayam--Air--1 Kara--Minyak--Bawang gor...   \n",
       "...                                                 ...   \n",
       "599   450 gram udang ukuran besar--1 buah nanas--Bum...   \n",
       "25    ★ bumbu halus--7 siung bawang merah--5 siung b...   \n",
       "1908  100 GR Udang (boleh jenis apa ajaa)--3 siung B...   \n",
       "497   2 Kg udang. Kupas kerat punggung bersigkan kot...   \n",
       "589   3 keping mie kering shirataki (utk lebi pas bs...   \n",
       "\n",
       "                                                  Steps  Loves  \\\n",
       "1230  Cuci bersih sawi iris2 sesuai selera--Keprek d...      1   \n",
       "1409  Siapkan semua bahan, marinase ayam kurleb 15 m...      5   \n",
       "1382  Cuci ayam yg sdh dipotong2..lumurin dg sdkit c...     22   \n",
       "1535  Siapkan semua bahan--Tumis bawang putih hingga...      6   \n",
       "254   Cuci bersih ayam, lalu potong sesuai selera..-...      2   \n",
       "...                                                 ...    ...   \n",
       "599   Cuci bersih udang, kupas kulit sampai habis. L...     14   \n",
       "25    Panaskan wajan, tumis sebentar udang dan teri ...      6   \n",
       "1908  Potong brokoli setali dicuci bersih lalu diren...     16   \n",
       "497   Haluskan bawang putih dengan air dingin. Dalam...      1   \n",
       "589   Siapkan semua bahan. Marinasi udang sekitar 15...      7   \n",
       "\n",
       "                                                    URL  \n",
       "1230  /id/resep/4369141-tumis-sawi-ayam-potong-daduk...  \n",
       "1409  /id/resep/4358433-tumis-ayam-telur-sederhana-h...  \n",
       "1382       /id/resep/4359341-tumis-ayam-brokoli-ketopad  \n",
       "1535  /id/resep/4352779-tumis-kailan-ayam-jamur-berk...  \n",
       "254   /id/resep/4459101-tongseng-ayam-dengan-kuah-sa...  \n",
       "...                                                 ...  \n",
       "599    /id/resep/4284163-gulai-udang-nanas-khasbangka-2  \n",
       "25    /id/resep/4469454-daun-singkong-pepes-udang-ta...  \n",
       "1908  /id/resep/3815779-cah-tahu-tauge-udang-ala-mam...  \n",
       "497   /id/resep/4336588-baso-udang-homemade-frozen-f...  \n",
       "589   /id/resep/4288436-diet-mie-shirataki-brokoli-u...  \n",
       "\n",
       "[610 rows x 5 columns]"
      ]
     },
     "execution_count": 308,
     "metadata": {},
     "output_type": "execute_result"
    }
   ],
   "source": [
    "# Mengambil contoh dengan #\n",
    "pattern = r'.?\\s*(#\\w*)\\s*'\n",
    "withHashtag = allDf[allDf['Title'].str.contains(pattern)]\n",
    "withHashtag"
   ]
  },
  {
   "cell_type": "code",
   "execution_count": 309,
   "metadata": {},
   "outputs": [],
   "source": [
    "# Penghapusan nilai hashtag\n",
    "allDf['Title'] = allDf['Title'].apply(lambda x: re.sub(r'(#\\w*)\\s*', '', x))\n",
    "allDf['Title'] = allDf['Title'].str.strip()"
   ]
  },
  {
   "cell_type": "code",
   "execution_count": 310,
   "metadata": {},
   "outputs": [
    {
     "data": {
      "text/html": [
       "<div>\n",
       "<style scoped>\n",
       "    .dataframe tbody tr th:only-of-type {\n",
       "        vertical-align: middle;\n",
       "    }\n",
       "\n",
       "    .dataframe tbody tr th {\n",
       "        vertical-align: top;\n",
       "    }\n",
       "\n",
       "    .dataframe thead th {\n",
       "        text-align: right;\n",
       "    }\n",
       "</style>\n",
       "<table border=\"1\" class=\"dataframe\">\n",
       "  <thead>\n",
       "    <tr style=\"text-align: right;\">\n",
       "      <th></th>\n",
       "      <th>Title</th>\n",
       "      <th>Ingredients</th>\n",
       "      <th>Steps</th>\n",
       "      <th>Loves</th>\n",
       "      <th>URL</th>\n",
       "    </tr>\n",
       "  </thead>\n",
       "  <tbody>\n",
       "    <tr>\n",
       "      <th>819</th>\n",
       "      <td>Semur daging telur *empuk</td>\n",
       "      <td>1/4 kg Daging sapi--5 siung Bawang putih--5 si...</td>\n",
       "      <td>Blnder bawang2an, jahe, kunyit, lengkuas, lada...</td>\n",
       "      <td>8</td>\n",
       "      <td>/id/resep/4249455-semur-daging-telur-empuk</td>\n",
       "    </tr>\n",
       "    <tr>\n",
       "      <th>292</th>\n",
       "      <td>Tempe Crispy Super Cepat dan Gampang!</td>\n",
       "      <td>6 potong tempe--2 potong tahu--3 sendok makan ...</td>\n",
       "      <td>Buat dua adonan: Adonan Basah dan Kering. Untu...</td>\n",
       "      <td>6</td>\n",
       "      <td>/id/resep/4413747-tempe-crispy-super-cepat-dan...</td>\n",
       "    </tr>\n",
       "    <tr>\n",
       "      <th>1351</th>\n",
       "      <td>Sambal tempe ikan teri</td>\n",
       "      <td>Tempe--Ikan teri--Bumbu halus--Bawang merah--B...</td>\n",
       "      <td>Goreng tempe ikan teri, haluskan bumbu--Tumiss...</td>\n",
       "      <td>9</td>\n",
       "      <td>/id/resep/4050016-sambal-tempe-ikan-teri</td>\n",
       "    </tr>\n",
       "    <tr>\n",
       "      <th>832</th>\n",
       "      <td>Sup bakso sapi💓</td>\n",
       "      <td>250 gr bakso sapi--1 buah kentang(100gr)--1 bu...</td>\n",
       "      <td>Haluskan bawang putih&amp;garam campur dengan meri...</td>\n",
       "      <td>2</td>\n",
       "      <td>/id/resep/3869072-sup-bakso-sapi%F0%9F%92%93</td>\n",
       "    </tr>\n",
       "    <tr>\n",
       "      <th>1224</th>\n",
       "      <td>Ikan bandeng bumbu kuning santan</td>\n",
       "      <td>1 bandeng ukuran besar (kalo aku dipotong jadi...</td>\n",
       "      <td>Cuci ikan bandeng sampai bersih--Goreng ikan s...</td>\n",
       "      <td>11</td>\n",
       "      <td>/id/resep/4227440-ikan-bandeng-bumbu-kuning-sa...</td>\n",
       "    </tr>\n",
       "  </tbody>\n",
       "</table>\n",
       "</div>"
      ],
      "text/plain": [
       "                                      Title  \\\n",
       "819               Semur daging telur *empuk   \n",
       "292   Tempe Crispy Super Cepat dan Gampang!   \n",
       "1351                 Sambal tempe ikan teri   \n",
       "832                         Sup bakso sapi💓   \n",
       "1224       Ikan bandeng bumbu kuning santan   \n",
       "\n",
       "                                            Ingredients  \\\n",
       "819   1/4 kg Daging sapi--5 siung Bawang putih--5 si...   \n",
       "292   6 potong tempe--2 potong tahu--3 sendok makan ...   \n",
       "1351  Tempe--Ikan teri--Bumbu halus--Bawang merah--B...   \n",
       "832   250 gr bakso sapi--1 buah kentang(100gr)--1 bu...   \n",
       "1224  1 bandeng ukuran besar (kalo aku dipotong jadi...   \n",
       "\n",
       "                                                  Steps  Loves  \\\n",
       "819   Blnder bawang2an, jahe, kunyit, lengkuas, lada...      8   \n",
       "292   Buat dua adonan: Adonan Basah dan Kering. Untu...      6   \n",
       "1351  Goreng tempe ikan teri, haluskan bumbu--Tumiss...      9   \n",
       "832   Haluskan bawang putih&garam campur dengan meri...      2   \n",
       "1224  Cuci ikan bandeng sampai bersih--Goreng ikan s...     11   \n",
       "\n",
       "                                                    URL  \n",
       "819          /id/resep/4249455-semur-daging-telur-empuk  \n",
       "292   /id/resep/4413747-tempe-crispy-super-cepat-dan...  \n",
       "1351           /id/resep/4050016-sambal-tempe-ikan-teri  \n",
       "832        /id/resep/3869072-sup-bakso-sapi%F0%9F%92%93  \n",
       "1224  /id/resep/4227440-ikan-bandeng-bumbu-kuning-sa...  "
      ]
     },
     "execution_count": 310,
     "metadata": {},
     "output_type": "execute_result"
    }
   ],
   "source": [
    "allDf.sample(5)"
   ]
  },
  {
   "cell_type": "code",
   "execution_count": 311,
   "metadata": {},
   "outputs": [
    {
     "name": "stderr",
     "output_type": "stream",
     "text": [
      "C:\\Users\\legion\\AppData\\Local\\Temp\\ipykernel_6736\\584624470.py:3: UserWarning: This pattern is interpreted as a regular expression, and has match groups. To actually get the groups, use str.extract.\n",
      "  withBrackets = allDf[allDf['Title'].str.contains(pattern)]\n"
     ]
    },
    {
     "data": {
      "text/html": [
       "<div>\n",
       "<style scoped>\n",
       "    .dataframe tbody tr th:only-of-type {\n",
       "        vertical-align: middle;\n",
       "    }\n",
       "\n",
       "    .dataframe tbody tr th {\n",
       "        vertical-align: top;\n",
       "    }\n",
       "\n",
       "    .dataframe thead th {\n",
       "        text-align: right;\n",
       "    }\n",
       "</style>\n",
       "<table border=\"1\" class=\"dataframe\">\n",
       "  <thead>\n",
       "    <tr style=\"text-align: right;\">\n",
       "      <th></th>\n",
       "      <th>Title</th>\n",
       "      <th>Ingredients</th>\n",
       "      <th>Steps</th>\n",
       "      <th>Loves</th>\n",
       "      <th>URL</th>\n",
       "    </tr>\n",
       "  </thead>\n",
       "  <tbody>\n",
       "    <tr>\n",
       "      <th>741</th>\n",
       "      <td>Sop ceker ayam sederhana (enak)</td>\n",
       "      <td>10 bh ceker ayam (rebus dahulu)--2 bh wortel--...</td>\n",
       "      <td>Tumis bawang sampai wangi.. lalu masukkan air....</td>\n",
       "      <td>0</td>\n",
       "      <td>/id/resep/4421553-sop-ceker-ayam-sederhana-enak</td>\n",
       "    </tr>\n",
       "    <tr>\n",
       "      <th>164</th>\n",
       "      <td>Sayap Ayam (Saus) Margarin</td>\n",
       "      <td>8 buah sayap ayam, cuci bersih--1/2 buah bawan...</td>\n",
       "      <td>Lumuri ayam dengan garam dan air jeruk. Diamka...</td>\n",
       "      <td>40</td>\n",
       "      <td>/id/resep/4464925-sayap-ayam-saus-margarin</td>\n",
       "    </tr>\n",
       "    <tr>\n",
       "      <th>1831</th>\n",
       "      <td>Sapo Tahu (Tofu) Ayam</td>\n",
       "      <td>50 gr ayam fillet, cuci bersih iris dadu tipis...</td>\n",
       "      <td>Panaskan 1 sdm minyak goreng, tumis bawang put...</td>\n",
       "      <td>8</td>\n",
       "      <td>/id/resep/4320445-sapo-tahu-tofu-ayam</td>\n",
       "    </tr>\n",
       "    <tr>\n",
       "      <th>1803</th>\n",
       "      <td>Rosemary Chicken (easy)</td>\n",
       "      <td>2 fillet dada ayam--2 siung bawang putih (halu...</td>\n",
       "      <td>Balur dada ayam dengan air perasan lemon, gara...</td>\n",
       "      <td>5</td>\n",
       "      <td>/id/resep/4322792-rosemary-chicken-easy</td>\n",
       "    </tr>\n",
       "    <tr>\n",
       "      <th>1343</th>\n",
       "      <td>Oseng kulit ayam (debm)</td>\n",
       "      <td>150 gram kulit ayam--1 buah bawang bombai iris...</td>\n",
       "      <td>Panaskan teflon,masukan kulit ayam lalu oseng2...</td>\n",
       "      <td>11</td>\n",
       "      <td>/id/resep/4360814-oseng-kulit-ayam-debm</td>\n",
       "    </tr>\n",
       "    <tr>\n",
       "      <th>1665</th>\n",
       "      <td>Mie (Kwetiaw) Ayam Jamur</td>\n",
       "      <td>🐔 Bumbu Halus, blender pakai minyak :--2 bh ke...</td>\n",
       "      <td>Buat minyaknya : masukkan semua bahan.--Hingga...</td>\n",
       "      <td>6</td>\n",
       "      <td>/id/resep/4334113-mie-kwetiaw-ayam-jamur</td>\n",
       "    </tr>\n",
       "    <tr>\n",
       "      <th>1465</th>\n",
       "      <td>Chicken Fajita (easy)</td>\n",
       "      <td>2 fillet dada ayam--1/4 bawang bombay (iris ti...</td>\n",
       "      <td>Iris dada ayam memanjang dengan ketebalan 1-2c...</td>\n",
       "      <td>16</td>\n",
       "      <td>/id/resep/4355058-chicken-fajita-easy</td>\n",
       "    </tr>\n",
       "    <tr>\n",
       "      <th>1112</th>\n",
       "      <td>Ayam suwir teriyaki(manis)</td>\n",
       "      <td>Ayam potong (saya bagian paha potong jadi 4)--...</td>\n",
       "      <td>Cuci daging ayam dna rebus daging smpe stengah...</td>\n",
       "      <td>14</td>\n",
       "      <td>/id/resep/4376614-ayam-suwir-teriyakimanis</td>\n",
       "    </tr>\n",
       "    <tr>\n",
       "      <th>702</th>\n",
       "      <td>Ayam saus asam manis (koloke)</td>\n",
       "      <td>2 buah dada ayam fillet--1 butir telur--1/2 bu...</td>\n",
       "      <td>Fillet ayam dipotong ukuran dadu lalu di beri ...</td>\n",
       "      <td>2</td>\n",
       "      <td>/id/resep/4424111-ayam-saus-asam-manis-koloke</td>\n",
       "    </tr>\n",
       "    <tr>\n",
       "      <th>1829</th>\n",
       "      <td>Ayam bakar bumbu kecap (teflon)</td>\n",
       "      <td>10 potong kecil daging ayam (1/2 ekor ayam)--a...</td>\n",
       "      <td>Siapkan bahan. Cuci bersih ayam kemudian lumir...</td>\n",
       "      <td>80</td>\n",
       "      <td>/id/resep/4236188-ayam-bakar-bumbu-kecap-teflon</td>\n",
       "    </tr>\n",
       "    <tr>\n",
       "      <th>260</th>\n",
       "      <td>Ayam Yakiniku(tumis)</td>\n",
       "      <td>4 ptg dada ayam(dagingnya saja)--1 buah lemon(...</td>\n",
       "      <td>Bersihkan ayam rendam sebentar pakai lemon kem...</td>\n",
       "      <td>9</td>\n",
       "      <td>/id/resep/4340380-ayam-yakinikutumis</td>\n",
       "    </tr>\n",
       "    <tr>\n",
       "      <th>610</th>\n",
       "      <td>Ayam Suwir Kecap (pedas)</td>\n",
       "      <td>1/2 kg daging ayam bagian dada--5 bawang merah...</td>\n",
       "      <td>Rebus daging ayam, tiriskan, goreng sebentar. ...</td>\n",
       "      <td>2</td>\n",
       "      <td>/id/resep/4433608-ayam-suwir-kecap-pedas</td>\n",
       "    </tr>\n",
       "    <tr>\n",
       "      <th>1833</th>\n",
       "      <td>Ayam Goreng Kuning (Ungkepan)</td>\n",
       "      <td>1 kg ayam--secukupnya Air utk merebus--Minyak ...</td>\n",
       "      <td>Tumis bumbu halus hingga harum dan matang.--Ma...</td>\n",
       "      <td>16</td>\n",
       "      <td>/id/resep/4261801-ayam-goreng-kuning-ungkepan</td>\n",
       "    </tr>\n",
       "    <tr>\n",
       "      <th>329</th>\n",
       "      <td>Vegetable-etti (sphagetti) with tuna saos mayo</td>\n",
       "      <td>1/2 labu siam (labu hijau), rebus--1 wortel ke...</td>\n",
       "      <td>Campur wortel dan kol dengan air rebusan labu ...</td>\n",
       "      <td>7</td>\n",
       "      <td>/id/resep/4417024-vegetable-etti-sphagetti-wit...</td>\n",
       "    </tr>\n",
       "    <tr>\n",
       "      <th>1048</th>\n",
       "      <td>Tuna kaleng telor saos schezuan (DEBM)</td>\n",
       "      <td>Tuna kaleng dalam minyak me: merk Maya--1 buti...</td>\n",
       "      <td>Iris cabe ijo dan bawang putih sesuai selera a...</td>\n",
       "      <td>6</td>\n",
       "      <td>/id/resep/4253104-tuna-kaleng-telor-saos-schez...</td>\n",
       "    </tr>\n",
       "    <tr>\n",
       "      <th>112</th>\n",
       "      <td>Tongkol suwir (pampis) asem manis</td>\n",
       "      <td>2 ikan tongkol basah--6 bawang merah--2 bawang...</td>\n",
       "      <td>Cuci bersih ikan tongkol, beri perasan jeruk n...</td>\n",
       "      <td>2</td>\n",
       "      <td>/id/resep/4460085-tongkol-suwir-pampis-asem-manis</td>\n",
       "    </tr>\n",
       "    <tr>\n",
       "      <th>96</th>\n",
       "      <td>Tomyam (jawa) ikan patin sederhana dan praktis</td>\n",
       "      <td>1 kg ikan patin potong sesuai selera--10 bh bl...</td>\n",
       "      <td>Cuci bersih ikan patin lalu lumuri dgn air jer...</td>\n",
       "      <td>5</td>\n",
       "      <td>/id/resep/4461708-tomyam-jawa-ikan-patin-seder...</td>\n",
       "    </tr>\n",
       "    <tr>\n",
       "      <th>820</th>\n",
       "      <td>Telur panggang tuna keju (microwave) DEBM</td>\n",
       "      <td>1 butir telur rebus, dicincang kasar--1 sdm tu...</td>\n",
       "      <td>Campur semua bahan, aduk rata.--Tuang ke dalam...</td>\n",
       "      <td>5</td>\n",
       "      <td>/id/resep/4313349-telur-panggang-tuna-keju-mic...</td>\n",
       "    </tr>\n",
       "    <tr>\n",
       "      <th>1173</th>\n",
       "      <td>Suwir cakalan (tongkol) simple 😊</td>\n",
       "      <td>Ikan cakalan asap (disuwir\")--Bumbu halus:--Ba...</td>\n",
       "      <td>Goreng ikan yang sdah di suwir.. Sampai agak k...</td>\n",
       "      <td>1</td>\n",
       "      <td>/id/resep/4236905-suwir-cakalan-tongkol-simple...</td>\n",
       "    </tr>\n",
       "    <tr>\n",
       "      <th>346</th>\n",
       "      <td>Sup tulang salmon tomat ala lucy's(megicom)</td>\n",
       "      <td>6 potong tulang salmon--3 bawang putih--1 toma...</td>\n",
       "      <td>Besih kn tulang ikan salmonya dan potong2 bawa...</td>\n",
       "      <td>0</td>\n",
       "      <td>/id/resep/4411100-sup-tulang-salmon-tomat-ala-...</td>\n",
       "    </tr>\n",
       "  </tbody>\n",
       "</table>\n",
       "</div>"
      ],
      "text/plain": [
       "                                               Title  \\\n",
       "741                  Sop ceker ayam sederhana (enak)   \n",
       "164                       Sayap Ayam (Saus) Margarin   \n",
       "1831                           Sapo Tahu (Tofu) Ayam   \n",
       "1803                         Rosemary Chicken (easy)   \n",
       "1343                         Oseng kulit ayam (debm)   \n",
       "1665                        Mie (Kwetiaw) Ayam Jamur   \n",
       "1465                           Chicken Fajita (easy)   \n",
       "1112                      Ayam suwir teriyaki(manis)   \n",
       "702                    Ayam saus asam manis (koloke)   \n",
       "1829                 Ayam bakar bumbu kecap (teflon)   \n",
       "260                             Ayam Yakiniku(tumis)   \n",
       "610                         Ayam Suwir Kecap (pedas)   \n",
       "1833                   Ayam Goreng Kuning (Ungkepan)   \n",
       "329   Vegetable-etti (sphagetti) with tuna saos mayo   \n",
       "1048          Tuna kaleng telor saos schezuan (DEBM)   \n",
       "112                Tongkol suwir (pampis) asem manis   \n",
       "96    Tomyam (jawa) ikan patin sederhana dan praktis   \n",
       "820        Telur panggang tuna keju (microwave) DEBM   \n",
       "1173                Suwir cakalan (tongkol) simple 😊   \n",
       "346      Sup tulang salmon tomat ala lucy's(megicom)   \n",
       "\n",
       "                                            Ingredients  \\\n",
       "741   10 bh ceker ayam (rebus dahulu)--2 bh wortel--...   \n",
       "164   8 buah sayap ayam, cuci bersih--1/2 buah bawan...   \n",
       "1831  50 gr ayam fillet, cuci bersih iris dadu tipis...   \n",
       "1803  2 fillet dada ayam--2 siung bawang putih (halu...   \n",
       "1343  150 gram kulit ayam--1 buah bawang bombai iris...   \n",
       "1665  🐔 Bumbu Halus, blender pakai minyak :--2 bh ke...   \n",
       "1465  2 fillet dada ayam--1/4 bawang bombay (iris ti...   \n",
       "1112  Ayam potong (saya bagian paha potong jadi 4)--...   \n",
       "702   2 buah dada ayam fillet--1 butir telur--1/2 bu...   \n",
       "1829  10 potong kecil daging ayam (1/2 ekor ayam)--a...   \n",
       "260   4 ptg dada ayam(dagingnya saja)--1 buah lemon(...   \n",
       "610   1/2 kg daging ayam bagian dada--5 bawang merah...   \n",
       "1833  1 kg ayam--secukupnya Air utk merebus--Minyak ...   \n",
       "329   1/2 labu siam (labu hijau), rebus--1 wortel ke...   \n",
       "1048  Tuna kaleng dalam minyak me: merk Maya--1 buti...   \n",
       "112   2 ikan tongkol basah--6 bawang merah--2 bawang...   \n",
       "96    1 kg ikan patin potong sesuai selera--10 bh bl...   \n",
       "820   1 butir telur rebus, dicincang kasar--1 sdm tu...   \n",
       "1173  Ikan cakalan asap (disuwir\")--Bumbu halus:--Ba...   \n",
       "346   6 potong tulang salmon--3 bawang putih--1 toma...   \n",
       "\n",
       "                                                  Steps  Loves  \\\n",
       "741   Tumis bawang sampai wangi.. lalu masukkan air....      0   \n",
       "164   Lumuri ayam dengan garam dan air jeruk. Diamka...     40   \n",
       "1831  Panaskan 1 sdm minyak goreng, tumis bawang put...      8   \n",
       "1803  Balur dada ayam dengan air perasan lemon, gara...      5   \n",
       "1343  Panaskan teflon,masukan kulit ayam lalu oseng2...     11   \n",
       "1665  Buat minyaknya : masukkan semua bahan.--Hingga...      6   \n",
       "1465  Iris dada ayam memanjang dengan ketebalan 1-2c...     16   \n",
       "1112  Cuci daging ayam dna rebus daging smpe stengah...     14   \n",
       "702   Fillet ayam dipotong ukuran dadu lalu di beri ...      2   \n",
       "1829  Siapkan bahan. Cuci bersih ayam kemudian lumir...     80   \n",
       "260   Bersihkan ayam rendam sebentar pakai lemon kem...      9   \n",
       "610   Rebus daging ayam, tiriskan, goreng sebentar. ...      2   \n",
       "1833  Tumis bumbu halus hingga harum dan matang.--Ma...     16   \n",
       "329   Campur wortel dan kol dengan air rebusan labu ...      7   \n",
       "1048  Iris cabe ijo dan bawang putih sesuai selera a...      6   \n",
       "112   Cuci bersih ikan tongkol, beri perasan jeruk n...      2   \n",
       "96    Cuci bersih ikan patin lalu lumuri dgn air jer...      5   \n",
       "820   Campur semua bahan, aduk rata.--Tuang ke dalam...      5   \n",
       "1173  Goreng ikan yang sdah di suwir.. Sampai agak k...      1   \n",
       "346   Besih kn tulang ikan salmonya dan potong2 bawa...      0   \n",
       "\n",
       "                                                    URL  \n",
       "741     /id/resep/4421553-sop-ceker-ayam-sederhana-enak  \n",
       "164          /id/resep/4464925-sayap-ayam-saus-margarin  \n",
       "1831              /id/resep/4320445-sapo-tahu-tofu-ayam  \n",
       "1803            /id/resep/4322792-rosemary-chicken-easy  \n",
       "1343            /id/resep/4360814-oseng-kulit-ayam-debm  \n",
       "1665           /id/resep/4334113-mie-kwetiaw-ayam-jamur  \n",
       "1465              /id/resep/4355058-chicken-fajita-easy  \n",
       "1112         /id/resep/4376614-ayam-suwir-teriyakimanis  \n",
       "702       /id/resep/4424111-ayam-saus-asam-manis-koloke  \n",
       "1829    /id/resep/4236188-ayam-bakar-bumbu-kecap-teflon  \n",
       "260                /id/resep/4340380-ayam-yakinikutumis  \n",
       "610            /id/resep/4433608-ayam-suwir-kecap-pedas  \n",
       "1833      /id/resep/4261801-ayam-goreng-kuning-ungkepan  \n",
       "329   /id/resep/4417024-vegetable-etti-sphagetti-wit...  \n",
       "1048  /id/resep/4253104-tuna-kaleng-telor-saos-schez...  \n",
       "112   /id/resep/4460085-tongkol-suwir-pampis-asem-manis  \n",
       "96    /id/resep/4461708-tomyam-jawa-ikan-patin-seder...  \n",
       "820   /id/resep/4313349-telur-panggang-tuna-keju-mic...  \n",
       "1173  /id/resep/4236905-suwir-cakalan-tongkol-simple...  \n",
       "346   /id/resep/4411100-sup-tulang-salmon-tomat-ala-...  "
      ]
     },
     "execution_count": 311,
     "metadata": {},
     "output_type": "execute_result"
    }
   ],
   "source": [
    "# Mengambil contoh dengan ()\n",
    "pattern = r'(\\(\\w+\\))'\n",
    "withBrackets = allDf[allDf['Title'].str.contains(pattern)]\n",
    "withBrackets.head(20)"
   ]
  },
  {
   "cell_type": "code",
   "execution_count": 312,
   "metadata": {},
   "outputs": [],
   "source": [
    "unusedSentences = ['enak', 'easy', 'debm', 'DEBM', 'pampis', 'jawa', 'microwave', 'megicom', 'mudah', 'Pais', 'pr_homemadestreetfood', \n",
    "                   'batita', 'Pamarrasan', 'simple', 'teflon', 'terbang', 'torong', 'kalimantan', 'SUMATRA', 'harisah', 'dhobi', 'praktis'\n",
    "                   'sederhana', 'rumahan', 'uenakk', 'recook', 'memprul', 'simpel', 'HK', 'pr_asianfood', 'gulai', 'sapi', 'PR_pasta'\n",
    "                   '牛丼', 'gyudon', 'T3', '3T', 'hancur', 'tahbucang', 'Lokio', 'KTT', 'jakerta', 'ulatek', 'coklat', 'BTW', '8m'\n",
    "                   'PR_recookmasakanawalanT', 'sehat', 'Ketopad_CP_SavorySnack', 'TTT', 'TTBB', 'gembos', 'instan', 'nanas', '3S'\n",
    "                   'Diet', 'Emak Roisyah', 'NO MSG', ' Manis', 'diet tnp minyak, tnp garam gula', 'ala anak kuliahan', 'Simple n Hot👅']\n",
    "\n",
    "def clean_title(title):\n",
    "    # Mencocokkan pola tanda kurung dan isinya\n",
    "    for word in unusedSentences:\n",
    "        delPattern = rf'(\\(({word})?\\d*\\))'\n",
    "        match = re.search(delPattern, title)\n",
    "        if match:\n",
    "            title = title.replace(match.group(), \"\")  # Mengganti teks yang cocok dengan string kosong\n",
    "            title = re.sub(r'\\s{2,}', ' ', title)\n",
    "        else:\n",
    "            title = re.sub(r'[\\(\\)]+', '', title)\n",
    "    return title.strip()\n",
    "\n",
    "allDf['Title'] = allDf['Title'].apply(clean_title)"
   ]
  },
  {
   "cell_type": "code",
   "execution_count": 313,
   "metadata": {},
   "outputs": [
    {
     "data": {
      "text/html": [
       "<div>\n",
       "<style scoped>\n",
       "    .dataframe tbody tr th:only-of-type {\n",
       "        vertical-align: middle;\n",
       "    }\n",
       "\n",
       "    .dataframe tbody tr th {\n",
       "        vertical-align: top;\n",
       "    }\n",
       "\n",
       "    .dataframe thead th {\n",
       "        text-align: right;\n",
       "    }\n",
       "</style>\n",
       "<table border=\"1\" class=\"dataframe\">\n",
       "  <thead>\n",
       "    <tr style=\"text-align: right;\">\n",
       "      <th></th>\n",
       "      <th>Title</th>\n",
       "      <th>Ingredients</th>\n",
       "      <th>Steps</th>\n",
       "      <th>Loves</th>\n",
       "      <th>URL</th>\n",
       "    </tr>\n",
       "  </thead>\n",
       "  <tbody>\n",
       "    <tr>\n",
       "      <th>1831</th>\n",
       "      <td>Sapo Tahu Tofu Ayam</td>\n",
       "      <td>50 gr ayam fillet, cuci bersih iris dadu tipis...</td>\n",
       "      <td>Panaskan 1 sdm minyak goreng, tumis bawang put...</td>\n",
       "      <td>8</td>\n",
       "      <td>/id/resep/4320445-sapo-tahu-tofu-ayam</td>\n",
       "    </tr>\n",
       "    <tr>\n",
       "      <th>992</th>\n",
       "      <td>Sapo Tahu Tofu Ayam</td>\n",
       "      <td>50 gr ayam fillet, cuci bersih iris dadu tipis...</td>\n",
       "      <td>Panaskan 1 sdm minyak goreng, tumis bawang put...</td>\n",
       "      <td>8</td>\n",
       "      <td>/id/resep/4320445-sapo-tahu-tofu-ayam</td>\n",
       "    </tr>\n",
       "  </tbody>\n",
       "</table>\n",
       "</div>"
      ],
      "text/plain": [
       "                    Title                                        Ingredients  \\\n",
       "1831  Sapo Tahu Tofu Ayam  50 gr ayam fillet, cuci bersih iris dadu tipis...   \n",
       "992   Sapo Tahu Tofu Ayam  50 gr ayam fillet, cuci bersih iris dadu tipis...   \n",
       "\n",
       "                                                  Steps  Loves  \\\n",
       "1831  Panaskan 1 sdm minyak goreng, tumis bawang put...      8   \n",
       "992   Panaskan 1 sdm minyak goreng, tumis bawang put...      8   \n",
       "\n",
       "                                        URL  \n",
       "1831  /id/resep/4320445-sapo-tahu-tofu-ayam  \n",
       "992   /id/resep/4320445-sapo-tahu-tofu-ayam  "
      ]
     },
     "execution_count": 313,
     "metadata": {},
     "output_type": "execute_result"
    }
   ],
   "source": [
    "allDf[allDf['Title'] == 'Sapo Tahu Tofu Ayam']"
   ]
  },
  {
   "cell_type": "code",
   "execution_count": 314,
   "metadata": {},
   "outputs": [
    {
     "data": {
      "text/html": [
       "<div>\n",
       "<style scoped>\n",
       "    .dataframe tbody tr th:only-of-type {\n",
       "        vertical-align: middle;\n",
       "    }\n",
       "\n",
       "    .dataframe tbody tr th {\n",
       "        vertical-align: top;\n",
       "    }\n",
       "\n",
       "    .dataframe thead th {\n",
       "        text-align: right;\n",
       "    }\n",
       "</style>\n",
       "<table border=\"1\" class=\"dataframe\">\n",
       "  <thead>\n",
       "    <tr style=\"text-align: right;\">\n",
       "      <th></th>\n",
       "      <th>Title</th>\n",
       "      <th>Ingredients</th>\n",
       "      <th>Steps</th>\n",
       "      <th>Loves</th>\n",
       "      <th>URL</th>\n",
       "    </tr>\n",
       "  </thead>\n",
       "  <tbody>\n",
       "    <tr>\n",
       "      <th>1574</th>\n",
       "      <td>Masak Ayam ala Vietnam_1</td>\n",
       "      <td>400 gram dada ayam fillet--1 siung bawang puti...</td>\n",
       "      <td>Sediakan semua bahan terlebih dahulu biar ngga...</td>\n",
       "      <td>0</td>\n",
       "      <td>/id/resep/4350252-masak-ayam-ala-vietnam_1</td>\n",
       "    </tr>\n",
       "    <tr>\n",
       "      <th>1331</th>\n",
       "      <td>Ayam Kecap Asam Manis _recookSariUtamiKimdonghwa</td>\n",
       "      <td>500 gr ayam, saya pake paha bagian bawah--bumb...</td>\n",
       "      <td>Tumis bawang putih dan jahe sampai harum, tamb...</td>\n",
       "      <td>32</td>\n",
       "      <td>/id/resep/4362429-ayam-kecap-asam-manis-bandun...</td>\n",
       "    </tr>\n",
       "    <tr>\n",
       "      <th>1839</th>\n",
       "      <td>Pecel lele homemadepr_homemadestreetfood</td>\n",
       "      <td>5 ekor lele--Bumbu:--10 buah cabe rawit--7 bua...</td>\n",
       "      <td>Cuci bersih ikan,siangi lalu beri bumbu(lagi g...</td>\n",
       "      <td>9</td>\n",
       "      <td>/id/resep/4012432-pecel-lele-homemadepr_homema...</td>\n",
       "    </tr>\n",
       "    <tr>\n",
       "      <th>1097</th>\n",
       "      <td>Bola Bola Rendang Kambing Hot Spesial in_Cooking</td>\n",
       "      <td>250 gram daging kambing, cincang halus, buat b...</td>\n",
       "      <td>Cincang daging, buat bulatan kecil. Sisihkan.-...</td>\n",
       "      <td>3</td>\n",
       "      <td>/id/resep/967190-bola-bola-rendang-kambing-hot...</td>\n",
       "    </tr>\n",
       "    <tr>\n",
       "      <th>1070</th>\n",
       "      <td>3_MARAK LAHMA Sop Kambing Arab Tanpa Santan</td>\n",
       "      <td>1/2 kg daging kambing--2 iris nanas sebagai pe...</td>\n",
       "      <td>Siapkan daging kambing, cuci bersih. Rebus air...</td>\n",
       "      <td>42</td>\n",
       "      <td>/id/resep/973515-3_marak-lahma-sop-kambing-ara...</td>\n",
       "    </tr>\n",
       "    <tr>\n",
       "      <th>895</th>\n",
       "      <td>10_MAHSHOOS LAHMA rendang kambing Arab</td>\n",
       "      <td>1 kg Daging kambing, beserta tulang dan lemakn...</td>\n",
       "      <td>Daging kambing potong2, pisahkan lemaknya, sis...</td>\n",
       "      <td>17</td>\n",
       "      <td>/id/resep/1786713-10_mahshoos-lahma-rendang-ka...</td>\n",
       "    </tr>\n",
       "    <tr>\n",
       "      <th>46</th>\n",
       "      <td>Tongseng daging sapi by adilly_kitchen</td>\n",
       "      <td>1/4 daging sapi--1/2 buah kol (iris kasar)--2 ...</td>\n",
       "      <td>Pertama2 iris daging tipis2, lalu rebus terleb...</td>\n",
       "      <td>16</td>\n",
       "      <td>/id/resep/4401109-tongseng-daging-sapi-by-adil...</td>\n",
       "    </tr>\n",
       "    <tr>\n",
       "      <th>1298</th>\n",
       "      <td>Japchae with beef korean noodle 🍝 pr_asianfood</td>\n",
       "      <td>200 g bihun/soun seduh air panas--200 g daging...</td>\n",
       "      <td>Marinated daging sapi dgn 2 siung bawang putih...</td>\n",
       "      <td>195</td>\n",
       "      <td>/id/resep/3626986-japchae-with-beef-korean-noo...</td>\n",
       "    </tr>\n",
       "    <tr>\n",
       "      <th>462</th>\n",
       "      <td>Beef barbeque praktis PR_pasta</td>\n",
       "      <td>Secukupnya pettucine la ponte--2 siung bawang ...</td>\n",
       "      <td>Rebus pettucine tambah minyak sedikit smpai ma...</td>\n",
       "      <td>0</td>\n",
       "      <td>/id/resep/4042118-beef-barbeque-praktis-pr_pasta</td>\n",
       "    </tr>\n",
       "    <tr>\n",
       "      <th>1751</th>\n",
       "      <td>Tempe goreng telur PR_recookmasakanawalanT</td>\n",
       "      <td>1 papan tempe--1 telor ayam besar--2 sdm trigu...</td>\n",
       "      <td>Kukus tempe sd matang dan iris2 bentuk stik pa...</td>\n",
       "      <td>32</td>\n",
       "      <td>/id/resep/3934727-tempe-goreng-telur-pr_recook...</td>\n",
       "    </tr>\n",
       "    <tr>\n",
       "      <th>1759</th>\n",
       "      <td>Telor dadar ala RM Padang PR_recookmasakanawalanT</td>\n",
       "      <td>4 telor--4 sdm klapa parut sangrai dulu--2 sdm...</td>\n",
       "      <td>Campur semua bahan,lalu aduk rata, ga usah dik...</td>\n",
       "      <td>129</td>\n",
       "      <td>/id/resep/3928636-telor-dadar-ala-rm-padang-pr...</td>\n",
       "    </tr>\n",
       "    <tr>\n",
       "      <th>1175</th>\n",
       "      <td>Rica_rica ati ampela campur telor</td>\n",
       "      <td>3 butir telor--5 ati ampela--bumbu:--3 siung b...</td>\n",
       "      <td>Rebus telur hingga matang, kupas sisihkan..--C...</td>\n",
       "      <td>6</td>\n",
       "      <td>/id/resep/4042110-rica_rica-ati-ampela-campur-...</td>\n",
       "    </tr>\n",
       "    <tr>\n",
       "      <th>1908</th>\n",
       "      <td>Macaroni telur saos baso sosispr_ pasta</td>\n",
       "      <td>50 gr macaroni--1/2 bawang bombay--1 btg daun ...</td>\n",
       "      <td>Rebus macaroni sebentar tiriskan lalu kocok te...</td>\n",
       "      <td>2</td>\n",
       "      <td>/id/resep/3896746-macaroni-telur-saos-baso-sos...</td>\n",
       "    </tr>\n",
       "    <tr>\n",
       "      <th>1326</th>\n",
       "      <td>Egg and Beef Casserole Ketopad_CP_SavorySnack</td>\n",
       "      <td>10 butir telor ayam--250 gr daging cincang--1 ...</td>\n",
       "      <td>Pecahkan telor. Pastikan telor dalam keadaan f...</td>\n",
       "      <td>104</td>\n",
       "      <td>/id/resep/4014255-egg-and-beef-casserole-ketop...</td>\n",
       "    </tr>\n",
       "    <tr>\n",
       "      <th>1047</th>\n",
       "      <td>Tempe mendoan by adilly_kitchen</td>\n",
       "      <td>4 sdm tepung terigu--1 batang daun bawang--1 p...</td>\n",
       "      <td>Pertama2 siapkan adonan mendoan. Siapkan wadah...</td>\n",
       "      <td>3</td>\n",
       "      <td>/id/resep/4237253-tempe-mendoan-by-adilly_kitchen</td>\n",
       "    </tr>\n",
       "    <tr>\n",
       "      <th>541</th>\n",
       "      <td>Kerupuk tempe _ bunda miko</td>\n",
       "      <td>2 bungkus tempe yang belum jadi--200 gr tapiòk...</td>\n",
       "      <td>Campur tempe yang belum jadi dengan tapioka hi...</td>\n",
       "      <td>4</td>\n",
       "      <td>/id/resep/4361917-kerupuk-tempe-_-bunda-miko</td>\n",
       "    </tr>\n",
       "    <tr>\n",
       "      <th>1452</th>\n",
       "      <td>Tempe udang balado tanpa msgpr_recookmasakanaw...</td>\n",
       "      <td>1 buah tempe--1/4 kg udang--1/2 ons cabe--4 bu...</td>\n",
       "      <td>Potong2 tempe sesuai selera,lalu goreng.sisihk...</td>\n",
       "      <td>2</td>\n",
       "      <td>/id/resep/3934783-tempe-udang-balado-tanpa-msg...</td>\n",
       "    </tr>\n",
       "    <tr>\n",
       "      <th>1870</th>\n",
       "      <td>Nasi goreng seefood_udang_pete</td>\n",
       "      <td>secukupnya udang--4 siung pete--6 siung bawang...</td>\n",
       "      <td>Haluskan semua bumbu (cabai, bawang merah, baw...</td>\n",
       "      <td>3</td>\n",
       "      <td>/id/resep/3823072-nasi-goreng-seefood_udang_pete</td>\n",
       "    </tr>\n",
       "    <tr>\n",
       "      <th>37</th>\n",
       "      <td>Cah buncis udang cumi _ menudiet DEBM</td>\n",
       "      <td>250 gram buncis--5 ekor udang--5 ekor cumi--1 ...</td>\n",
       "      <td>Bersihkan buncis potong2. Bersih kan udang dan...</td>\n",
       "      <td>5</td>\n",
       "      <td>/id/resep/4466199-cah-buncis-udang-cumi-_-menu...</td>\n",
       "    </tr>\n",
       "  </tbody>\n",
       "</table>\n",
       "</div>"
      ],
      "text/plain": [
       "                                                  Title  \\\n",
       "1574                           Masak Ayam ala Vietnam_1   \n",
       "1331   Ayam Kecap Asam Manis _recookSariUtamiKimdonghwa   \n",
       "1839           Pecel lele homemadepr_homemadestreetfood   \n",
       "1097   Bola Bola Rendang Kambing Hot Spesial in_Cooking   \n",
       "1070        3_MARAK LAHMA Sop Kambing Arab Tanpa Santan   \n",
       "895              10_MAHSHOOS LAHMA rendang kambing Arab   \n",
       "46               Tongseng daging sapi by adilly_kitchen   \n",
       "1298     Japchae with beef korean noodle 🍝 pr_asianfood   \n",
       "462                      Beef barbeque praktis PR_pasta   \n",
       "1751         Tempe goreng telur PR_recookmasakanawalanT   \n",
       "1759  Telor dadar ala RM Padang PR_recookmasakanawalanT   \n",
       "1175                  Rica_rica ati ampela campur telor   \n",
       "1908            Macaroni telur saos baso sosispr_ pasta   \n",
       "1326      Egg and Beef Casserole Ketopad_CP_SavorySnack   \n",
       "1047                    Tempe mendoan by adilly_kitchen   \n",
       "541                          Kerupuk tempe _ bunda miko   \n",
       "1452  Tempe udang balado tanpa msgpr_recookmasakanaw...   \n",
       "1870                     Nasi goreng seefood_udang_pete   \n",
       "37                Cah buncis udang cumi _ menudiet DEBM   \n",
       "\n",
       "                                            Ingredients  \\\n",
       "1574  400 gram dada ayam fillet--1 siung bawang puti...   \n",
       "1331  500 gr ayam, saya pake paha bagian bawah--bumb...   \n",
       "1839  5 ekor lele--Bumbu:--10 buah cabe rawit--7 bua...   \n",
       "1097  250 gram daging kambing, cincang halus, buat b...   \n",
       "1070  1/2 kg daging kambing--2 iris nanas sebagai pe...   \n",
       "895   1 kg Daging kambing, beserta tulang dan lemakn...   \n",
       "46    1/4 daging sapi--1/2 buah kol (iris kasar)--2 ...   \n",
       "1298  200 g bihun/soun seduh air panas--200 g daging...   \n",
       "462   Secukupnya pettucine la ponte--2 siung bawang ...   \n",
       "1751  1 papan tempe--1 telor ayam besar--2 sdm trigu...   \n",
       "1759  4 telor--4 sdm klapa parut sangrai dulu--2 sdm...   \n",
       "1175  3 butir telor--5 ati ampela--bumbu:--3 siung b...   \n",
       "1908  50 gr macaroni--1/2 bawang bombay--1 btg daun ...   \n",
       "1326  10 butir telor ayam--250 gr daging cincang--1 ...   \n",
       "1047  4 sdm tepung terigu--1 batang daun bawang--1 p...   \n",
       "541   2 bungkus tempe yang belum jadi--200 gr tapiòk...   \n",
       "1452  1 buah tempe--1/4 kg udang--1/2 ons cabe--4 bu...   \n",
       "1870  secukupnya udang--4 siung pete--6 siung bawang...   \n",
       "37    250 gram buncis--5 ekor udang--5 ekor cumi--1 ...   \n",
       "\n",
       "                                                  Steps  Loves  \\\n",
       "1574  Sediakan semua bahan terlebih dahulu biar ngga...      0   \n",
       "1331  Tumis bawang putih dan jahe sampai harum, tamb...     32   \n",
       "1839  Cuci bersih ikan,siangi lalu beri bumbu(lagi g...      9   \n",
       "1097  Cincang daging, buat bulatan kecil. Sisihkan.-...      3   \n",
       "1070  Siapkan daging kambing, cuci bersih. Rebus air...     42   \n",
       "895   Daging kambing potong2, pisahkan lemaknya, sis...     17   \n",
       "46    Pertama2 iris daging tipis2, lalu rebus terleb...     16   \n",
       "1298  Marinated daging sapi dgn 2 siung bawang putih...    195   \n",
       "462   Rebus pettucine tambah minyak sedikit smpai ma...      0   \n",
       "1751  Kukus tempe sd matang dan iris2 bentuk stik pa...     32   \n",
       "1759  Campur semua bahan,lalu aduk rata, ga usah dik...    129   \n",
       "1175  Rebus telur hingga matang, kupas sisihkan..--C...      6   \n",
       "1908  Rebus macaroni sebentar tiriskan lalu kocok te...      2   \n",
       "1326  Pecahkan telor. Pastikan telor dalam keadaan f...    104   \n",
       "1047  Pertama2 siapkan adonan mendoan. Siapkan wadah...      3   \n",
       "541   Campur tempe yang belum jadi dengan tapioka hi...      4   \n",
       "1452  Potong2 tempe sesuai selera,lalu goreng.sisihk...      2   \n",
       "1870  Haluskan semua bumbu (cabai, bawang merah, baw...      3   \n",
       "37    Bersihkan buncis potong2. Bersih kan udang dan...      5   \n",
       "\n",
       "                                                    URL  \n",
       "1574         /id/resep/4350252-masak-ayam-ala-vietnam_1  \n",
       "1331  /id/resep/4362429-ayam-kecap-asam-manis-bandun...  \n",
       "1839  /id/resep/4012432-pecel-lele-homemadepr_homema...  \n",
       "1097  /id/resep/967190-bola-bola-rendang-kambing-hot...  \n",
       "1070  /id/resep/973515-3_marak-lahma-sop-kambing-ara...  \n",
       "895   /id/resep/1786713-10_mahshoos-lahma-rendang-ka...  \n",
       "46    /id/resep/4401109-tongseng-daging-sapi-by-adil...  \n",
       "1298  /id/resep/3626986-japchae-with-beef-korean-noo...  \n",
       "462    /id/resep/4042118-beef-barbeque-praktis-pr_pasta  \n",
       "1751  /id/resep/3934727-tempe-goreng-telur-pr_recook...  \n",
       "1759  /id/resep/3928636-telor-dadar-ala-rm-padang-pr...  \n",
       "1175  /id/resep/4042110-rica_rica-ati-ampela-campur-...  \n",
       "1908  /id/resep/3896746-macaroni-telur-saos-baso-sos...  \n",
       "1326  /id/resep/4014255-egg-and-beef-casserole-ketop...  \n",
       "1047  /id/resep/4237253-tempe-mendoan-by-adilly_kitchen  \n",
       "541        /id/resep/4361917-kerupuk-tempe-_-bunda-miko  \n",
       "1452  /id/resep/3934783-tempe-udang-balado-tanpa-msg...  \n",
       "1870   /id/resep/3823072-nasi-goreng-seefood_udang_pete  \n",
       "37    /id/resep/4466199-cah-buncis-udang-cumi-_-menu...  "
      ]
     },
     "execution_count": 314,
     "metadata": {},
     "output_type": "execute_result"
    }
   ],
   "source": [
    "# Mengambil contoh dengan _\n",
    "pattern = r'\\w*_\\w*'\n",
    "withUnder = allDf[allDf['Title'].str.contains(pattern)]\n",
    "withUnder"
   ]
  },
  {
   "cell_type": "code",
   "execution_count": 315,
   "metadata": {},
   "outputs": [
    {
     "data": {
      "text/plain": [
       "'Tempe udang balado tanpa msgpr_recookmasakanawalanT'"
      ]
     },
     "execution_count": 315,
     "metadata": {},
     "output_type": "execute_result"
    }
   ],
   "source": [
    "withUnder.Title.iloc[-3]"
   ]
  },
  {
   "cell_type": "code",
   "execution_count": 316,
   "metadata": {},
   "outputs": [],
   "source": [
    "keptWords = ['Rica_rica', 'seefood_udang_pete']\n",
    "\n",
    "def clean_underscore(title):\n",
    "    # Mengganti kata-kata tertentu yang ingin Anda pertahankan\n",
    "    for word in keptWords:\n",
    "        if word in title:\n",
    "            title = title.replace('_', ' ')\n",
    "    \n",
    "    # Melakukan penghapusan jika ada kecocokan baru setelah penghapusan kata-kata tertentu yang ingin Anda pertahankan\n",
    "    match = re.search(pattern, title)\n",
    "    if match:\n",
    "        title = title.replace(match.group(), \"\")  # Mengganti teks yang cocok dengan string kosong\n",
    "        title = re.sub(r'\\s{2,}', ' ', title)\n",
    "    return title.strip()\n",
    "\n",
    "# Contoh penggunaan pada kolom 'Title' dari DataFrame 'allDf'\n",
    "allDf['Title'] = allDf['Title'].apply(clean_underscore)"
   ]
  },
  {
   "cell_type": "code",
   "execution_count": 317,
   "metadata": {},
   "outputs": [
    {
     "data": {
      "text/html": [
       "<div>\n",
       "<style scoped>\n",
       "    .dataframe tbody tr th:only-of-type {\n",
       "        vertical-align: middle;\n",
       "    }\n",
       "\n",
       "    .dataframe tbody tr th {\n",
       "        vertical-align: top;\n",
       "    }\n",
       "\n",
       "    .dataframe thead th {\n",
       "        text-align: right;\n",
       "    }\n",
       "</style>\n",
       "<table border=\"1\" class=\"dataframe\">\n",
       "  <thead>\n",
       "    <tr style=\"text-align: right;\">\n",
       "      <th></th>\n",
       "      <th>Title</th>\n",
       "      <th>Ingredients</th>\n",
       "      <th>Steps</th>\n",
       "      <th>Loves</th>\n",
       "      <th>URL</th>\n",
       "    </tr>\n",
       "  </thead>\n",
       "  <tbody>\n",
       "    <tr>\n",
       "      <th>1326</th>\n",
       "      <td>Egg and Beef Casserole</td>\n",
       "      <td>10 butir telor ayam--250 gr daging cincang--1 ...</td>\n",
       "      <td>Pecahkan telor. Pastikan telor dalam keadaan f...</td>\n",
       "      <td>104</td>\n",
       "      <td>/id/resep/4014255-egg-and-beef-casserole-ketop...</td>\n",
       "    </tr>\n",
       "  </tbody>\n",
       "</table>\n",
       "</div>"
      ],
      "text/plain": [
       "                       Title  \\\n",
       "1326  Egg and Beef Casserole   \n",
       "\n",
       "                                            Ingredients  \\\n",
       "1326  10 butir telor ayam--250 gr daging cincang--1 ...   \n",
       "\n",
       "                                                  Steps  Loves  \\\n",
       "1326  Pecahkan telor. Pastikan telor dalam keadaan f...    104   \n",
       "\n",
       "                                                    URL  \n",
       "1326  /id/resep/4014255-egg-and-beef-casserole-ketop...  "
      ]
     },
     "execution_count": 317,
     "metadata": {},
     "output_type": "execute_result"
    }
   ],
   "source": [
    "# Cek hasilnya\n",
    "allDf[allDf['Title'] == 'Egg and Beef Casserole']"
   ]
  },
  {
   "cell_type": "code",
   "execution_count": 318,
   "metadata": {},
   "outputs": [
    {
     "data": {
      "text/html": [
       "<div>\n",
       "<style scoped>\n",
       "    .dataframe tbody tr th:only-of-type {\n",
       "        vertical-align: middle;\n",
       "    }\n",
       "\n",
       "    .dataframe tbody tr th {\n",
       "        vertical-align: top;\n",
       "    }\n",
       "\n",
       "    .dataframe thead th {\n",
       "        text-align: right;\n",
       "    }\n",
       "</style>\n",
       "<table border=\"1\" class=\"dataframe\">\n",
       "  <thead>\n",
       "    <tr style=\"text-align: right;\">\n",
       "      <th></th>\n",
       "      <th>Title</th>\n",
       "      <th>Ingredients</th>\n",
       "      <th>Steps</th>\n",
       "      <th>Loves</th>\n",
       "      <th>URL</th>\n",
       "    </tr>\n",
       "  </thead>\n",
       "  <tbody>\n",
       "    <tr>\n",
       "      <th>1834</th>\n",
       "      <td>🍴Ayam Krispy🍴</td>\n",
       "      <td>Ayam (diambil dagingnya)--Tepung kobe serbagun...</td>\n",
       "      <td>Ayam direbus lalu tiriskan dan potong potong s...</td>\n",
       "      <td>5</td>\n",
       "      <td>/id/resep/4320246-%F0%9F%8D%B4ayam-krispy%F0%9...</td>\n",
       "    </tr>\n",
       "    <tr>\n",
       "      <th>1718</th>\n",
       "      <td>🍗 Ayam pentul crispy</td>\n",
       "      <td>6 buah Sayap ayam--1 bungkus tepung bumbu saji...</td>\n",
       "      <td>Setelah sayap ayam di cuci bersih, potong saya...</td>\n",
       "      <td>8</td>\n",
       "      <td>/id/resep/4335653-%F0%9F%8D%97-ayam-pentul-crispy</td>\n",
       "    </tr>\n",
       "    <tr>\n",
       "      <th>748</th>\n",
       "      <td>🍔 Mini Burger Tempe Ayam ala Dapur Fitri 🍔</td>\n",
       "      <td>10 roti Burger--10 lembar Daun selada--5 buah ...</td>\n",
       "      <td>Cincang tempe dan giling daging ayam setelah i...</td>\n",
       "      <td>12</td>\n",
       "      <td>/id/resep/4397479-%F0%9F%8D%94-mini-burger-tem...</td>\n",
       "    </tr>\n",
       "    <tr>\n",
       "      <th>39</th>\n",
       "      <td>Sweet Buffalo Chicken 🐔</td>\n",
       "      <td>🐔 Bahan Utama:--1 kg Paha ayam (10 potong)--🐔 ...</td>\n",
       "      <td>Cuci dan keringkan ayam (sampai kering).--Lumu...</td>\n",
       "      <td>0</td>\n",
       "      <td>/id/resep/4460035-sweet-buffalo-chicken-%F0%9F...</td>\n",
       "    </tr>\n",
       "    <tr>\n",
       "      <th>120</th>\n",
       "      <td>Suwir Ayam Balado 😋</td>\n",
       "      <td>1/2 ekor ayam--Bawang putih--Bawang Merah 12 s...</td>\n",
       "      <td>Cuci ayam dan bahan\",,siapkan air untuk merebu...</td>\n",
       "      <td>8</td>\n",
       "      <td>/id/resep/4466449-suwir-ayam-balado-%F0%9F%98%8B</td>\n",
       "    </tr>\n",
       "    <tr>\n",
       "      <th>...</th>\n",
       "      <td>...</td>\n",
       "      <td>...</td>\n",
       "      <td>...</td>\n",
       "      <td>...</td>\n",
       "      <td>...</td>\n",
       "    </tr>\n",
       "    <tr>\n",
       "      <th>1791</th>\n",
       "      <td>Bola Udang crispy💪🏻💪🏻</td>\n",
       "      <td>500 gr udang tanpa kulit--1 butir telur,ambil ...</td>\n",
       "      <td>Jamur yg telah di rendam di cacah halus bersam...</td>\n",
       "      <td>8</td>\n",
       "      <td>/id/resep/3843457-bola-udang-crispy%F0%9F%92%A...</td>\n",
       "    </tr>\n",
       "    <tr>\n",
       "      <th>1510</th>\n",
       "      <td>Balado daging udang puyuh pagi pagi pasti happ...</td>\n",
       "      <td>1/4 daging sapi--1/4 udang--10 butir telur puy...</td>\n",
       "      <td>Potong2 daging sapi -+ 3cm lalu siapkan panci ...</td>\n",
       "      <td>5</td>\n",
       "      <td>/id/resep/3922395-balado-daging-udang-puyuh-pa...</td>\n",
       "    </tr>\n",
       "    <tr>\n",
       "      <th>1304</th>\n",
       "      <td>Bakwan udang super simple💓</td>\n",
       "      <td>100 gr udang kecil segar--5 sdm tepung terigu-...</td>\n",
       "      <td>Cuci bersih udang,buang kepalanya.sisihkan.--C...</td>\n",
       "      <td>7</td>\n",
       "      <td>/id/resep/3972023-bakwan-udang-super-simple%F0...</td>\n",
       "    </tr>\n",
       "    <tr>\n",
       "      <th>1212</th>\n",
       "      <td>Bakwan sayuran udang😚😚</td>\n",
       "      <td>100 gr tepung terigu biru--50 gr tepungbumbu l...</td>\n",
       "      <td>Cuci bersih udang lumuri garam sisihkan--Halus...</td>\n",
       "      <td>5</td>\n",
       "      <td>/id/resep/3967828-bakwan-sayuran-udang%F0%9F%9...</td>\n",
       "    </tr>\n",
       "    <tr>\n",
       "      <th>1734</th>\n",
       "      <td>Bakso udang menu anak usia 2 tahun ke atas😉👌</td>\n",
       "      <td>1/4 udang--5 sdm tepung terigu--2 sdm tepung t...</td>\n",
       "      <td>Blender udang,tepung terigu, tepung tapioca,ba...</td>\n",
       "      <td>12</td>\n",
       "      <td>/id/resep/3858979-bakso-udang-menu-anak-usia-2...</td>\n",
       "    </tr>\n",
       "  </tbody>\n",
       "</table>\n",
       "<p>517 rows × 5 columns</p>\n",
       "</div>"
      ],
      "text/plain": [
       "                                                  Title  \\\n",
       "1834                                      🍴Ayam Krispy🍴   \n",
       "1718                               🍗 Ayam pentul crispy   \n",
       "748          🍔 Mini Burger Tempe Ayam ala Dapur Fitri 🍔   \n",
       "39                              Sweet Buffalo Chicken 🐔   \n",
       "120                                 Suwir Ayam Balado 😋   \n",
       "...                                                 ...   \n",
       "1791                              Bola Udang crispy💪🏻💪🏻   \n",
       "1510  Balado daging udang puyuh pagi pagi pasti happ...   \n",
       "1304                         Bakwan udang super simple💓   \n",
       "1212                             Bakwan sayuran udang😚😚   \n",
       "1734       Bakso udang menu anak usia 2 tahun ke atas😉👌   \n",
       "\n",
       "                                            Ingredients  \\\n",
       "1834  Ayam (diambil dagingnya)--Tepung kobe serbagun...   \n",
       "1718  6 buah Sayap ayam--1 bungkus tepung bumbu saji...   \n",
       "748   10 roti Burger--10 lembar Daun selada--5 buah ...   \n",
       "39    🐔 Bahan Utama:--1 kg Paha ayam (10 potong)--🐔 ...   \n",
       "120   1/2 ekor ayam--Bawang putih--Bawang Merah 12 s...   \n",
       "...                                                 ...   \n",
       "1791  500 gr udang tanpa kulit--1 butir telur,ambil ...   \n",
       "1510  1/4 daging sapi--1/4 udang--10 butir telur puy...   \n",
       "1304  100 gr udang kecil segar--5 sdm tepung terigu-...   \n",
       "1212  100 gr tepung terigu biru--50 gr tepungbumbu l...   \n",
       "1734  1/4 udang--5 sdm tepung terigu--2 sdm tepung t...   \n",
       "\n",
       "                                                  Steps  Loves  \\\n",
       "1834  Ayam direbus lalu tiriskan dan potong potong s...      5   \n",
       "1718  Setelah sayap ayam di cuci bersih, potong saya...      8   \n",
       "748   Cincang tempe dan giling daging ayam setelah i...     12   \n",
       "39    Cuci dan keringkan ayam (sampai kering).--Lumu...      0   \n",
       "120   Cuci ayam dan bahan\",,siapkan air untuk merebu...      8   \n",
       "...                                                 ...    ...   \n",
       "1791  Jamur yg telah di rendam di cacah halus bersam...      8   \n",
       "1510  Potong2 daging sapi -+ 3cm lalu siapkan panci ...      5   \n",
       "1304  Cuci bersih udang,buang kepalanya.sisihkan.--C...      7   \n",
       "1212  Cuci bersih udang lumuri garam sisihkan--Halus...      5   \n",
       "1734  Blender udang,tepung terigu, tepung tapioca,ba...     12   \n",
       "\n",
       "                                                    URL  \n",
       "1834  /id/resep/4320246-%F0%9F%8D%B4ayam-krispy%F0%9...  \n",
       "1718  /id/resep/4335653-%F0%9F%8D%97-ayam-pentul-crispy  \n",
       "748   /id/resep/4397479-%F0%9F%8D%94-mini-burger-tem...  \n",
       "39    /id/resep/4460035-sweet-buffalo-chicken-%F0%9F...  \n",
       "120    /id/resep/4466449-suwir-ayam-balado-%F0%9F%98%8B  \n",
       "...                                                 ...  \n",
       "1791  /id/resep/3843457-bola-udang-crispy%F0%9F%92%A...  \n",
       "1510  /id/resep/3922395-balado-daging-udang-puyuh-pa...  \n",
       "1304  /id/resep/3972023-bakwan-udang-super-simple%F0...  \n",
       "1212  /id/resep/3967828-bakwan-sayuran-udang%F0%9F%9...  \n",
       "1734  /id/resep/3858979-bakso-udang-menu-anak-usia-2...  \n",
       "\n",
       "[517 rows x 5 columns]"
      ]
     },
     "execution_count": 318,
     "metadata": {},
     "output_type": "execute_result"
    }
   ],
   "source": [
    "# Ambil contoh dengan emote\n",
    "# Pola regex untuk mencocokkan emoji\n",
    "emoji_pattern = re.compile(\"[\\U0001F300-\\U0001F6FF]\", flags=re.UNICODE)\n",
    "\n",
    "# Fungsi untuk memeriksa apakah nilai mengandung emoji\n",
    "def contains_emoji(text):\n",
    "    return bool(re.search(emoji_pattern, text))\n",
    "\n",
    "# Menampilkan baris DataFrame yang mengandung emoji\n",
    "emoji_rows = allDf[allDf['Title'].apply(contains_emoji)]\n",
    "\n",
    "# Menampilkan data yang mengandung emoji\n",
    "emoji_rows\n"
   ]
  },
  {
   "cell_type": "code",
   "execution_count": 319,
   "metadata": {},
   "outputs": [
    {
     "data": {
      "text/html": [
       "<div>\n",
       "<style scoped>\n",
       "    .dataframe tbody tr th:only-of-type {\n",
       "        vertical-align: middle;\n",
       "    }\n",
       "\n",
       "    .dataframe tbody tr th {\n",
       "        vertical-align: top;\n",
       "    }\n",
       "\n",
       "    .dataframe thead th {\n",
       "        text-align: right;\n",
       "    }\n",
       "</style>\n",
       "<table border=\"1\" class=\"dataframe\">\n",
       "  <thead>\n",
       "    <tr style=\"text-align: right;\">\n",
       "      <th></th>\n",
       "      <th>Title</th>\n",
       "      <th>Ingredients</th>\n",
       "      <th>Steps</th>\n",
       "      <th>Loves</th>\n",
       "      <th>URL</th>\n",
       "    </tr>\n",
       "  </thead>\n",
       "  <tbody>\n",
       "    <tr>\n",
       "      <th>1834</th>\n",
       "      <td>Ayam Krispy</td>\n",
       "      <td>Ayam (diambil dagingnya)--Tepung kobe serbagun...</td>\n",
       "      <td>Ayam direbus lalu tiriskan dan potong potong s...</td>\n",
       "      <td>5</td>\n",
       "      <td>/id/resep/4320246-%F0%9F%8D%B4ayam-krispy%F0%9...</td>\n",
       "    </tr>\n",
       "    <tr>\n",
       "      <th>1718</th>\n",
       "      <td>Ayam pentul crispy</td>\n",
       "      <td>6 buah Sayap ayam--1 bungkus tepung bumbu saji...</td>\n",
       "      <td>Setelah sayap ayam di cuci bersih, potong saya...</td>\n",
       "      <td>8</td>\n",
       "      <td>/id/resep/4335653-%F0%9F%8D%97-ayam-pentul-crispy</td>\n",
       "    </tr>\n",
       "    <tr>\n",
       "      <th>748</th>\n",
       "      <td>Mini Burger Tempe Ayam ala Dapur Fitri</td>\n",
       "      <td>10 roti Burger--10 lembar Daun selada--5 buah ...</td>\n",
       "      <td>Cincang tempe dan giling daging ayam setelah i...</td>\n",
       "      <td>12</td>\n",
       "      <td>/id/resep/4397479-%F0%9F%8D%94-mini-burger-tem...</td>\n",
       "    </tr>\n",
       "    <tr>\n",
       "      <th>1305</th>\n",
       "      <td>● Soto AYAM Kuah Bening ●</td>\n",
       "      <td>1 ekor ayam belah jadi 2--4 lembar godong sala...</td>\n",
       "      <td>Tumis bumbu halus dan bumbu lainya sampai wang...</td>\n",
       "      <td>23</td>\n",
       "      <td>/id/resep/4359379-%E2%97%8F-soto-ayam-kuah-ben...</td>\n",
       "    </tr>\n",
       "    <tr>\n",
       "      <th>230</th>\n",
       "      <td>Yamie Ayam</td>\n",
       "      <td>1 ekor ayam kampung--5 siung bawang putih, cac...</td>\n",
       "      <td>Rebus ayam hingga lunak. Sisihkan dagingnya. S...</td>\n",
       "      <td>27</td>\n",
       "      <td>/id/resep/4459992-yamie-ayam</td>\n",
       "    </tr>\n",
       "    <tr>\n",
       "      <th>...</th>\n",
       "      <td>...</td>\n",
       "      <td>...</td>\n",
       "      <td>...</td>\n",
       "      <td>...</td>\n",
       "      <td>...</td>\n",
       "    </tr>\n",
       "    <tr>\n",
       "      <th>637</th>\n",
       "      <td>2. Udang Pedas Manis</td>\n",
       "      <td>250 gr Udang Kecil--1 pcs Jeruk Nipis--1 sdm M...</td>\n",
       "      <td>Bersihkan udang dari kepalanya dan belah pungg...</td>\n",
       "      <td>5</td>\n",
       "      <td>/id/resep/4269850-2-udang-pedas-manis</td>\n",
       "    </tr>\n",
       "    <tr>\n",
       "      <th>1092</th>\n",
       "      <td>1. Lempeng/ampal udang kelapa</td>\n",
       "      <td>500 gr udang sungai (kupas)--100 gr kelapa mud...</td>\n",
       "      <td>Ulek bawang merah, bawang putih, garam, gula, ...</td>\n",
       "      <td>6</td>\n",
       "      <td>/id/resep/4007872-1-lempengampal-udang-kelapa</td>\n",
       "    </tr>\n",
       "    <tr>\n",
       "      <th>689</th>\n",
       "      <td>1. Brokoli Udang Saus Tiram</td>\n",
       "      <td>1 bogol brokoli ukuran sedang, dipotong per ku...</td>\n",
       "      <td>Siapkan semua bahan, sebelum dipotong semua sa...</td>\n",
       "      <td>4</td>\n",
       "      <td>/id/resep/4017357-1-brokoli-udang-saus-tiram</td>\n",
       "    </tr>\n",
       "    <tr>\n",
       "      <th>303</th>\n",
       "      <td>002 Rempeyek udang sederhana</td>\n",
       "      <td>1/4 kg udang--1/4 kg tepung beras--5 lbr daun ...</td>\n",
       "      <td>Cuci bersih udang, buang kepalanya, beri peras...</td>\n",
       "      <td>4</td>\n",
       "      <td>/id/resep/4378496-002-rempeyek-udang-sederhana</td>\n",
       "    </tr>\n",
       "    <tr>\n",
       "      <th>589</th>\n",
       "      <td>Diet Mie shirataki brokoli udang jamur wortel ...</td>\n",
       "      <td>3 keping mie kering shirataki (utk lebi pas bs...</td>\n",
       "      <td>Siapkan semua bahan. Marinasi udang sekitar 15...</td>\n",
       "      <td>7</td>\n",
       "      <td>/id/resep/4288436-diet-mie-shirataki-brokoli-u...</td>\n",
       "    </tr>\n",
       "  </tbody>\n",
       "</table>\n",
       "<p>13088 rows × 5 columns</p>\n",
       "</div>"
      ],
      "text/plain": [
       "                                                  Title  \\\n",
       "1834                                        Ayam Krispy   \n",
       "1718                                 Ayam pentul crispy   \n",
       "748              Mini Burger Tempe Ayam ala Dapur Fitri   \n",
       "1305                          ● Soto AYAM Kuah Bening ●   \n",
       "230                                          Yamie Ayam   \n",
       "...                                                 ...   \n",
       "637                                2. Udang Pedas Manis   \n",
       "1092                      1. Lempeng/ampal udang kelapa   \n",
       "689                         1. Brokoli Udang Saus Tiram   \n",
       "303                        002 Rempeyek udang sederhana   \n",
       "589   Diet Mie shirataki brokoli udang jamur wortel ...   \n",
       "\n",
       "                                            Ingredients  \\\n",
       "1834  Ayam (diambil dagingnya)--Tepung kobe serbagun...   \n",
       "1718  6 buah Sayap ayam--1 bungkus tepung bumbu saji...   \n",
       "748   10 roti Burger--10 lembar Daun selada--5 buah ...   \n",
       "1305  1 ekor ayam belah jadi 2--4 lembar godong sala...   \n",
       "230   1 ekor ayam kampung--5 siung bawang putih, cac...   \n",
       "...                                                 ...   \n",
       "637   250 gr Udang Kecil--1 pcs Jeruk Nipis--1 sdm M...   \n",
       "1092  500 gr udang sungai (kupas)--100 gr kelapa mud...   \n",
       "689   1 bogol brokoli ukuran sedang, dipotong per ku...   \n",
       "303   1/4 kg udang--1/4 kg tepung beras--5 lbr daun ...   \n",
       "589   3 keping mie kering shirataki (utk lebi pas bs...   \n",
       "\n",
       "                                                  Steps  Loves  \\\n",
       "1834  Ayam direbus lalu tiriskan dan potong potong s...      5   \n",
       "1718  Setelah sayap ayam di cuci bersih, potong saya...      8   \n",
       "748   Cincang tempe dan giling daging ayam setelah i...     12   \n",
       "1305  Tumis bumbu halus dan bumbu lainya sampai wang...     23   \n",
       "230   Rebus ayam hingga lunak. Sisihkan dagingnya. S...     27   \n",
       "...                                                 ...    ...   \n",
       "637   Bersihkan udang dari kepalanya dan belah pungg...      5   \n",
       "1092  Ulek bawang merah, bawang putih, garam, gula, ...      6   \n",
       "689   Siapkan semua bahan, sebelum dipotong semua sa...      4   \n",
       "303   Cuci bersih udang, buang kepalanya, beri peras...      4   \n",
       "589   Siapkan semua bahan. Marinasi udang sekitar 15...      7   \n",
       "\n",
       "                                                    URL  \n",
       "1834  /id/resep/4320246-%F0%9F%8D%B4ayam-krispy%F0%9...  \n",
       "1718  /id/resep/4335653-%F0%9F%8D%97-ayam-pentul-crispy  \n",
       "748   /id/resep/4397479-%F0%9F%8D%94-mini-burger-tem...  \n",
       "1305  /id/resep/4359379-%E2%97%8F-soto-ayam-kuah-ben...  \n",
       "230                        /id/resep/4459992-yamie-ayam  \n",
       "...                                                 ...  \n",
       "637               /id/resep/4269850-2-udang-pedas-manis  \n",
       "1092      /id/resep/4007872-1-lempengampal-udang-kelapa  \n",
       "689        /id/resep/4017357-1-brokoli-udang-saus-tiram  \n",
       "303      /id/resep/4378496-002-rempeyek-udang-sederhana  \n",
       "589   /id/resep/4288436-diet-mie-shirataki-brokoli-u...  \n",
       "\n",
       "[13088 rows x 5 columns]"
      ]
     },
     "execution_count": 319,
     "metadata": {},
     "output_type": "execute_result"
    }
   ],
   "source": [
    "def cleanEmojies(title):\n",
    "    # Menemukan semua kecocokan emoji dalam teks\n",
    "    emojis = re.findall(emoji_pattern, title)\n",
    "    \n",
    "    if emojis:\n",
    "        # Menghapus semua kecocokan emoji dari teks\n",
    "        title = re.sub(emoji_pattern, '', title)\n",
    "\n",
    "    # Mengembalikan teks yang telah dibersihkan dari emoji\n",
    "    return title.strip()\n",
    "\n",
    "# Menghapus emoji\n",
    "allDf['Title'] = allDf['Title'].apply(cleanEmojies)\n",
    "allDf"
   ]
  },
  {
   "cell_type": "code",
   "execution_count": 320,
   "metadata": {},
   "outputs": [
    {
     "data": {
      "text/html": [
       "<div>\n",
       "<style scoped>\n",
       "    .dataframe tbody tr th:only-of-type {\n",
       "        vertical-align: middle;\n",
       "    }\n",
       "\n",
       "    .dataframe tbody tr th {\n",
       "        vertical-align: top;\n",
       "    }\n",
       "\n",
       "    .dataframe thead th {\n",
       "        text-align: right;\n",
       "    }\n",
       "</style>\n",
       "<table border=\"1\" class=\"dataframe\">\n",
       "  <thead>\n",
       "    <tr style=\"text-align: right;\">\n",
       "      <th></th>\n",
       "      <th>Title</th>\n",
       "      <th>Ingredients</th>\n",
       "      <th>Steps</th>\n",
       "      <th>Loves</th>\n",
       "      <th>URL</th>\n",
       "    </tr>\n",
       "  </thead>\n",
       "  <tbody>\n",
       "    <tr>\n",
       "      <th>1212</th>\n",
       "      <td>Bakwan sayuran udang</td>\n",
       "      <td>100 gr tepung terigu biru--50 gr tepungbumbu l...</td>\n",
       "      <td>Cuci bersih udang lumuri garam sisihkan--Halus...</td>\n",
       "      <td>5</td>\n",
       "      <td>/id/resep/3967828-bakwan-sayuran-udang%F0%9F%9...</td>\n",
       "    </tr>\n",
       "  </tbody>\n",
       "</table>\n",
       "</div>"
      ],
      "text/plain": [
       "                     Title                                        Ingredients  \\\n",
       "1212  Bakwan sayuran udang  100 gr tepung terigu biru--50 gr tepungbumbu l...   \n",
       "\n",
       "                                                  Steps  Loves  \\\n",
       "1212  Cuci bersih udang lumuri garam sisihkan--Halus...      5   \n",
       "\n",
       "                                                    URL  \n",
       "1212  /id/resep/3967828-bakwan-sayuran-udang%F0%9F%9...  "
      ]
     },
     "execution_count": 320,
     "metadata": {},
     "output_type": "execute_result"
    }
   ],
   "source": [
    "allDf[allDf['Title'] == 'Bakwan sayuran udang']"
   ]
  },
  {
   "cell_type": "code",
   "execution_count": 321,
   "metadata": {},
   "outputs": [
    {
     "data": {
      "text/html": [
       "<div>\n",
       "<style scoped>\n",
       "    .dataframe tbody tr th:only-of-type {\n",
       "        vertical-align: middle;\n",
       "    }\n",
       "\n",
       "    .dataframe tbody tr th {\n",
       "        vertical-align: top;\n",
       "    }\n",
       "\n",
       "    .dataframe thead th {\n",
       "        text-align: right;\n",
       "    }\n",
       "</style>\n",
       "<table border=\"1\" class=\"dataframe\">\n",
       "  <thead>\n",
       "    <tr style=\"text-align: right;\">\n",
       "      <th></th>\n",
       "      <th>Title</th>\n",
       "      <th>Ingredients</th>\n",
       "      <th>Steps</th>\n",
       "      <th>Loves</th>\n",
       "      <th>URL</th>\n",
       "    </tr>\n",
       "  </thead>\n",
       "  <tbody>\n",
       "    <tr>\n",
       "      <th>1158</th>\n",
       "      <td>Ungkep ayam + tempe</td>\n",
       "      <td>2 paha ayam (ukuran besar potong bagi 4)--1 pa...</td>\n",
       "      <td>Bersihkan ayam, 1paha ayam ukuran besar bagi 4...</td>\n",
       "      <td>5</td>\n",
       "      <td>/id/resep/4365102-ungkep-ayam-tempe</td>\n",
       "    </tr>\n",
       "    <tr>\n",
       "      <th>76</th>\n",
       "      <td>Sup kembang tahu+bakso ayam</td>\n",
       "      <td>100 gram kembang tahu kering--2 buah wortel po...</td>\n",
       "      <td>Rendam kembang tahu dlm air kurleb 1-2 jam.ren...</td>\n",
       "      <td>13</td>\n",
       "      <td>/id/resep/4468155-sup-kembang-tahubakso-ayam</td>\n",
       "    </tr>\n",
       "    <tr>\n",
       "      <th>645</th>\n",
       "      <td>Sup Ayam + Kaldu Ayam</td>\n",
       "      <td>1/4 ayam potong segar--Bahan sayur sop mentah-...</td>\n",
       "      <td>Potong ayam segar--Haluskan bumbu bawang merah...</td>\n",
       "      <td>0</td>\n",
       "      <td>/id/resep/4429371-sup-ayam-kaldu-ayam</td>\n",
       "    </tr>\n",
       "    <tr>\n",
       "      <th>406</th>\n",
       "      <td>Soto ayam jahe++</td>\n",
       "      <td>1 kg ayam kampung--1 buah jahe ukuran besar, i...</td>\n",
       "      <td>Bersihkan ayam potong, rebus kurang lebih 15 m...</td>\n",
       "      <td>6</td>\n",
       "      <td>/id/resep/4443380-soto-ayam-jahe</td>\n",
       "    </tr>\n",
       "    <tr>\n",
       "      <th>919</th>\n",
       "      <td>Soto ayam + ceker</td>\n",
       "      <td>4 Potong dada ayam utuh--1/4 Kg ceker ayam (be...</td>\n",
       "      <td>Cuci ayam dan ceker hingga bersih, kemudian lu...</td>\n",
       "      <td>7</td>\n",
       "      <td>/id/resep/4397611-soto-ayam-ceker</td>\n",
       "    </tr>\n",
       "    <tr>\n",
       "      <th>...</th>\n",
       "      <td>...</td>\n",
       "      <td>...</td>\n",
       "      <td>...</td>\n",
       "      <td>...</td>\n",
       "      <td>...</td>\n",
       "    </tr>\n",
       "    <tr>\n",
       "      <th>1454</th>\n",
       "      <td>Balado udang + telur puyuh</td>\n",
       "      <td>1/4 kg udang--10 butir telur puyuh kupas--1 je...</td>\n",
       "      <td>Cuci bersih udang, kupas kulit dan kepalanya l...</td>\n",
       "      <td>1</td>\n",
       "      <td>/id/resep/3929518-balado-udang-telur-puyuh</td>\n",
       "    </tr>\n",
       "    <tr>\n",
       "      <th>77</th>\n",
       "      <td>Balado kentang+udang</td>\n",
       "      <td>1 kg Kentang Dieng--1/2 kg Udang sedang--1/4 k...</td>\n",
       "      <td>Blender cabe kriting merah, cabe rawit merah, ...</td>\n",
       "      <td>6</td>\n",
       "      <td>/id/resep/4457004-balado-kentangudang</td>\n",
       "    </tr>\n",
       "    <tr>\n",
       "      <th>1379</th>\n",
       "      <td>Bakwan sayur jagung+udang</td>\n",
       "      <td>1 buah jagung yg di pretelin--3 buah wortel di...</td>\n",
       "      <td>Haluskan semua bumbu:bawang putih,merica,kemir...</td>\n",
       "      <td>2</td>\n",
       "      <td>/id/resep/3955386-bakwan-sayur-jagungudang</td>\n",
       "    </tr>\n",
       "    <tr>\n",
       "      <th>780</th>\n",
       "      <td>Bakso Udang 1year+++</td>\n",
       "      <td>Bahan Bakso :--1/4 kg Udang (Kupas)--1/4 btg W...</td>\n",
       "      <td>Blender semua bahan Bakso sampai halus kecuali...</td>\n",
       "      <td>9</td>\n",
       "      <td>/id/resep/4225561-bakso-udang-1year</td>\n",
       "    </tr>\n",
       "    <tr>\n",
       "      <th>565</th>\n",
       "      <td>Bakso Ayung Ayam+Udang</td>\n",
       "      <td>1 potong dada ayam--1/4 kg udang--1 sdt lada b...</td>\n",
       "      <td>Kupas udang. Rebus kulitnya bersama 6 siung ba...</td>\n",
       "      <td>13</td>\n",
       "      <td>/id/resep/4302229-bakso-ayung-ayamudang</td>\n",
       "    </tr>\n",
       "  </tbody>\n",
       "</table>\n",
       "<p>281 rows × 5 columns</p>\n",
       "</div>"
      ],
      "text/plain": [
       "                            Title  \\\n",
       "1158          Ungkep ayam + tempe   \n",
       "76    Sup kembang tahu+bakso ayam   \n",
       "645         Sup Ayam + Kaldu Ayam   \n",
       "406              Soto ayam jahe++   \n",
       "919             Soto ayam + ceker   \n",
       "...                           ...   \n",
       "1454   Balado udang + telur puyuh   \n",
       "77           Balado kentang+udang   \n",
       "1379    Bakwan sayur jagung+udang   \n",
       "780          Bakso Udang 1year+++   \n",
       "565        Bakso Ayung Ayam+Udang   \n",
       "\n",
       "                                            Ingredients  \\\n",
       "1158  2 paha ayam (ukuran besar potong bagi 4)--1 pa...   \n",
       "76    100 gram kembang tahu kering--2 buah wortel po...   \n",
       "645   1/4 ayam potong segar--Bahan sayur sop mentah-...   \n",
       "406   1 kg ayam kampung--1 buah jahe ukuran besar, i...   \n",
       "919   4 Potong dada ayam utuh--1/4 Kg ceker ayam (be...   \n",
       "...                                                 ...   \n",
       "1454  1/4 kg udang--10 butir telur puyuh kupas--1 je...   \n",
       "77    1 kg Kentang Dieng--1/2 kg Udang sedang--1/4 k...   \n",
       "1379  1 buah jagung yg di pretelin--3 buah wortel di...   \n",
       "780   Bahan Bakso :--1/4 kg Udang (Kupas)--1/4 btg W...   \n",
       "565   1 potong dada ayam--1/4 kg udang--1 sdt lada b...   \n",
       "\n",
       "                                                  Steps  Loves  \\\n",
       "1158  Bersihkan ayam, 1paha ayam ukuran besar bagi 4...      5   \n",
       "76    Rendam kembang tahu dlm air kurleb 1-2 jam.ren...     13   \n",
       "645   Potong ayam segar--Haluskan bumbu bawang merah...      0   \n",
       "406   Bersihkan ayam potong, rebus kurang lebih 15 m...      6   \n",
       "919   Cuci ayam dan ceker hingga bersih, kemudian lu...      7   \n",
       "...                                                 ...    ...   \n",
       "1454  Cuci bersih udang, kupas kulit dan kepalanya l...      1   \n",
       "77    Blender cabe kriting merah, cabe rawit merah, ...      6   \n",
       "1379  Haluskan semua bumbu:bawang putih,merica,kemir...      2   \n",
       "780   Blender semua bahan Bakso sampai halus kecuali...      9   \n",
       "565   Kupas udang. Rebus kulitnya bersama 6 siung ba...     13   \n",
       "\n",
       "                                               URL  \n",
       "1158           /id/resep/4365102-ungkep-ayam-tempe  \n",
       "76    /id/resep/4468155-sup-kembang-tahubakso-ayam  \n",
       "645          /id/resep/4429371-sup-ayam-kaldu-ayam  \n",
       "406               /id/resep/4443380-soto-ayam-jahe  \n",
       "919              /id/resep/4397611-soto-ayam-ceker  \n",
       "...                                            ...  \n",
       "1454    /id/resep/3929518-balado-udang-telur-puyuh  \n",
       "77           /id/resep/4457004-balado-kentangudang  \n",
       "1379    /id/resep/3955386-bakwan-sayur-jagungudang  \n",
       "780            /id/resep/4225561-bakso-udang-1year  \n",
       "565        /id/resep/4302229-bakso-ayung-ayamudang  \n",
       "\n",
       "[281 rows x 5 columns]"
      ]
     },
     "execution_count": 321,
     "metadata": {},
     "output_type": "execute_result"
    }
   ],
   "source": [
    "# Ambil contoh dengan +\n",
    "pattern = r'\\+'\n",
    "withPlus = allDf[allDf['Title'].str.contains(pattern)]\n",
    "withPlus"
   ]
  },
  {
   "cell_type": "code",
   "execution_count": 322,
   "metadata": {},
   "outputs": [],
   "source": [
    "unusedSentences = ['1y+', 'MPASI 6+', '1year+++']\n",
    "\n",
    "def cleanPlus(title):\n",
    "    # Mengganti kata yang ada di dalam unusedSentences jika ditemukan\n",
    "    for word in unusedSentences:\n",
    "        title = title.replace(word, '')\n",
    "    \n",
    "    # Mengganti tanda '+' dengan kata 'dan'\n",
    "    title = title.replace('+', ' dan ')\n",
    "    title = title = re.sub(r'\\s{2,}', ' ', title)\n",
    "\n",
    "    return title.strip()\n",
    "\n",
    "# Mengaplikasikan fungsi cleanPlus ke kolom 'Title'\n",
    "allDf['Title'] = allDf['Title'].apply(cleanPlus)"
   ]
  },
  {
   "cell_type": "code",
   "execution_count": 324,
   "metadata": {},
   "outputs": [
    {
     "data": {
      "text/html": [
       "<div>\n",
       "<style scoped>\n",
       "    .dataframe tbody tr th:only-of-type {\n",
       "        vertical-align: middle;\n",
       "    }\n",
       "\n",
       "    .dataframe tbody tr th {\n",
       "        vertical-align: top;\n",
       "    }\n",
       "\n",
       "    .dataframe thead th {\n",
       "        text-align: right;\n",
       "    }\n",
       "</style>\n",
       "<table border=\"1\" class=\"dataframe\">\n",
       "  <thead>\n",
       "    <tr style=\"text-align: right;\">\n",
       "      <th></th>\n",
       "      <th>Title</th>\n",
       "      <th>Ingredients</th>\n",
       "      <th>Steps</th>\n",
       "      <th>Loves</th>\n",
       "      <th>URL</th>\n",
       "    </tr>\n",
       "  </thead>\n",
       "  <tbody>\n",
       "    <tr>\n",
       "      <th>76</th>\n",
       "      <td>Sup kembang tahu dan bakso ayam</td>\n",
       "      <td>100 gram kembang tahu kering--2 buah wortel po...</td>\n",
       "      <td>Rendam kembang tahu dlm air kurleb 1-2 jam.ren...</td>\n",
       "      <td>13</td>\n",
       "      <td>/id/resep/4468155-sup-kembang-tahubakso-ayam</td>\n",
       "    </tr>\n",
       "  </tbody>\n",
       "</table>\n",
       "</div>"
      ],
      "text/plain": [
       "                              Title  \\\n",
       "76  Sup kembang tahu dan bakso ayam   \n",
       "\n",
       "                                          Ingredients  \\\n",
       "76  100 gram kembang tahu kering--2 buah wortel po...   \n",
       "\n",
       "                                                Steps  Loves  \\\n",
       "76  Rendam kembang tahu dlm air kurleb 1-2 jam.ren...     13   \n",
       "\n",
       "                                             URL  \n",
       "76  /id/resep/4468155-sup-kembang-tahubakso-ayam  "
      ]
     },
     "execution_count": 324,
     "metadata": {},
     "output_type": "execute_result"
    }
   ],
   "source": [
    "allDf[allDf['Title'] == 'Sup kembang tahu dan bakso ayam']"
   ]
  }
 ],
 "metadata": {
  "kernelspec": {
   "display_name": "terapan",
   "language": "python",
   "name": "python3"
  },
  "language_info": {
   "codemirror_mode": {
    "name": "ipython",
    "version": 3
   },
   "file_extension": ".py",
   "mimetype": "text/x-python",
   "name": "python",
   "nbconvert_exporter": "python",
   "pygments_lexer": "ipython3",
   "version": "3.12.2"
  }
 },
 "nbformat": 4,
 "nbformat_minor": 2
}
